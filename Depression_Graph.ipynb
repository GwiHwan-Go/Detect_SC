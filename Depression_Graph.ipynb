{
  "cells": [
    {
      "cell_type": "markdown",
      "metadata": {
        "id": "view-in-github",
        "colab_type": "text"
      },
      "source": [
        "<a href=\"https://colab.research.google.com/github/GwiHwan-Go/Detect_SC/blob/main/Depression_Graph.ipynb\" target=\"_parent\"><img src=\"https://colab.research.google.com/assets/colab-badge.svg\" alt=\"Open In Colab\"/></a>"
      ]
    },
    {
      "cell_type": "markdown",
      "source": [
        "# 수집한 데이터로 Word Graph 만들기"
      ],
      "metadata": {
        "id": "gk1y-Wltnjna"
      }
    },
    {
      "cell_type": "markdown",
      "source": [
        "## 제공하는 데이터 설명\n",
        "\n",
        "1. 데이터 설명 : DCinside 라는 커뮤니티에서 우울증 갤러리라는 곳의 게시물들의 '제목'들.\n",
        "2. 데이터 오버뷰\n",
        "\n",
        "  - 데이터 크기 : 2,470,236 개\n",
        "\n",
        "  - 데이터 피쳐 : title (텍스트 데이터), author (작성자 id), date (작성 날짜)\n",
        "  \n",
        "3. 텍스트 데이터 : 미리 학습시킨 토크나이저로 토큰화한 데이터로 ' '로 구분되어 있음.\n",
        "\n",
        "\n"
      ],
      "metadata": {
        "id": "mPRs3TiWnoKF"
      }
    },
    {
      "cell_type": "code",
      "source": [
        "# 데이터 다운로드, 파일명은 sns_data.csv \n",
        "file_name = 'sns_data.csv'\n",
        "!wget --load-cookies ~/cookies.txt \"https://docs.google.com/uc?export=download&confirm=$(wget --quiet --save-cookies ~/cookies.txt --keep-session-cookies --no-check-certificate 'https://docs.google.com/uc?export=download&id=1-4qx3IRyXUtb_QSItiWyIHZIo9hcBttg' -O- | sed -rn 's/.*confirm=([0-9A-Za-z_]+).*/\\1\\n/p')&id=1-4qx3IRyXUtb_QSItiWyIHZIo9hcBttg\" -O $file_name && rm -rf ~/cookies.txt\n"
      ],
      "metadata": {
        "colab": {
          "base_uri": "https://localhost:8080/"
        },
        "id": "iNzCLUbVnqm1",
        "outputId": "d1143997-1164-4646-b9bc-175617c513f1"
      },
      "execution_count": 1,
      "outputs": [
        {
          "output_type": "stream",
          "name": "stdout",
          "text": [
            "--2022-10-31 06:00:36--  https://docs.google.com/uc?export=download&confirm=t&id=1-4qx3IRyXUtb_QSItiWyIHZIo9hcBttg\n",
            "Resolving docs.google.com (docs.google.com)... 108.177.112.139, 108.177.112.102, 108.177.112.101, ...\n",
            "Connecting to docs.google.com (docs.google.com)|108.177.112.139|:443... connected.\n",
            "HTTP request sent, awaiting response... 303 See Other\n",
            "Location: https://doc-0o-30-docs.googleusercontent.com/docs/securesc/ha0ro937gcuc7l7deffksulhg5h7mbp1/c8qpmbhfudpjbal1eudp6pp9lb8adjdq/1667196000000/15740322463873228959/*/1-4qx3IRyXUtb_QSItiWyIHZIo9hcBttg?e=download&uuid=92b1e8c4-b512-4ff2-a15b-285b3cac0b9f [following]\n",
            "Warning: wildcards not supported in HTTP.\n",
            "--2022-10-31 06:00:36--  https://doc-0o-30-docs.googleusercontent.com/docs/securesc/ha0ro937gcuc7l7deffksulhg5h7mbp1/c8qpmbhfudpjbal1eudp6pp9lb8adjdq/1667196000000/15740322463873228959/*/1-4qx3IRyXUtb_QSItiWyIHZIo9hcBttg?e=download&uuid=92b1e8c4-b512-4ff2-a15b-285b3cac0b9f\n",
            "Resolving doc-0o-30-docs.googleusercontent.com (doc-0o-30-docs.googleusercontent.com)... 172.217.212.132, 2607:f8b0:4001:c03::84\n",
            "Connecting to doc-0o-30-docs.googleusercontent.com (doc-0o-30-docs.googleusercontent.com)|172.217.212.132|:443... connected.\n",
            "HTTP request sent, awaiting response... 200 OK\n",
            "Length: 156905939 (150M) [text/csv]\n",
            "Saving to: ‘sns_data.csv’\n",
            "\n",
            "sns_data.csv        100%[===================>] 149.64M   164MB/s    in 0.9s    \n",
            "\n",
            "2022-10-31 06:00:38 (164 MB/s) - ‘sns_data.csv’ saved [156905939/156905939]\n",
            "\n"
          ]
        }
      ]
    },
    {
      "cell_type": "code",
      "source": [
        "import pandas as pd\n",
        "\n",
        "# 데이터 살펴보기\n",
        "data = pd.read_csv(file_name, low_memory=False, index_col=0) \n",
        "first_date, last_date = data.loc[0,'date'], data.loc[data.shape[0]-1,'date']\n",
        "print(\"수집한 게시물 범위 :\", first_date, \"~\", last_date, \"\\n\" \\\n",
        "      \"수집된 데이터 크기 :\", data.shape[0], \"\\n수집한 데이터 features :\", data.columns)\n",
        "data.tail()"
      ],
      "metadata": {
        "colab": {
          "base_uri": "https://localhost:8080/",
          "height": 260
        },
        "id": "UoX5ZUABoHoo",
        "outputId": "9479182b-7b57-43ce-e32e-2dd468a366b3"
      },
      "execution_count": 5,
      "outputs": [
        {
          "output_type": "stream",
          "name": "stdout",
          "text": [
            "수집한 게시물 범위 : 2021-03-03 ~ 2022-10-27 \n",
            "수집된 데이터 크기 : 2470236 \n",
            "수집한 데이터 features : Index(['title', 'author', 'date'], dtype='object')\n"
          ]
        },
        {
          "output_type": "execute_result",
          "data": {
            "text/plain": [
              "                         title  author        date\n",
              "2470231               나 병신 ...   16125  2022-10-27\n",
              "2470232       나고 닉 글 올리 규 싶 읃데   12779  2022-10-27\n",
              "2470233       씨발 남자 직원 음식 깔아 주    5291  2022-10-27\n",
              "2470234       나도 근데 아이디 두 번 바꿈   15378  2022-10-27\n",
              "2470235  알바 바보 쉨 ㅋㅋㅋ 나도 차단 해봐라   16125  2022-10-27"
            ],
            "text/html": [
              "\n",
              "  <div id=\"df-d1a76a36-6e90-42ac-b5af-df1c3a30868b\">\n",
              "    <div class=\"colab-df-container\">\n",
              "      <div>\n",
              "<style scoped>\n",
              "    .dataframe tbody tr th:only-of-type {\n",
              "        vertical-align: middle;\n",
              "    }\n",
              "\n",
              "    .dataframe tbody tr th {\n",
              "        vertical-align: top;\n",
              "    }\n",
              "\n",
              "    .dataframe thead th {\n",
              "        text-align: right;\n",
              "    }\n",
              "</style>\n",
              "<table border=\"1\" class=\"dataframe\">\n",
              "  <thead>\n",
              "    <tr style=\"text-align: right;\">\n",
              "      <th></th>\n",
              "      <th>title</th>\n",
              "      <th>author</th>\n",
              "      <th>date</th>\n",
              "    </tr>\n",
              "  </thead>\n",
              "  <tbody>\n",
              "    <tr>\n",
              "      <th>2470231</th>\n",
              "      <td>나 병신 ...</td>\n",
              "      <td>16125</td>\n",
              "      <td>2022-10-27</td>\n",
              "    </tr>\n",
              "    <tr>\n",
              "      <th>2470232</th>\n",
              "      <td>나고 닉 글 올리 규 싶 읃데</td>\n",
              "      <td>12779</td>\n",
              "      <td>2022-10-27</td>\n",
              "    </tr>\n",
              "    <tr>\n",
              "      <th>2470233</th>\n",
              "      <td>씨발 남자 직원 음식 깔아 주</td>\n",
              "      <td>5291</td>\n",
              "      <td>2022-10-27</td>\n",
              "    </tr>\n",
              "    <tr>\n",
              "      <th>2470234</th>\n",
              "      <td>나도 근데 아이디 두 번 바꿈</td>\n",
              "      <td>15378</td>\n",
              "      <td>2022-10-27</td>\n",
              "    </tr>\n",
              "    <tr>\n",
              "      <th>2470235</th>\n",
              "      <td>알바 바보 쉨 ㅋㅋㅋ 나도 차단 해봐라</td>\n",
              "      <td>16125</td>\n",
              "      <td>2022-10-27</td>\n",
              "    </tr>\n",
              "  </tbody>\n",
              "</table>\n",
              "</div>\n",
              "      <button class=\"colab-df-convert\" onclick=\"convertToInteractive('df-d1a76a36-6e90-42ac-b5af-df1c3a30868b')\"\n",
              "              title=\"Convert this dataframe to an interactive table.\"\n",
              "              style=\"display:none;\">\n",
              "        \n",
              "  <svg xmlns=\"http://www.w3.org/2000/svg\" height=\"24px\"viewBox=\"0 0 24 24\"\n",
              "       width=\"24px\">\n",
              "    <path d=\"M0 0h24v24H0V0z\" fill=\"none\"/>\n",
              "    <path d=\"M18.56 5.44l.94 2.06.94-2.06 2.06-.94-2.06-.94-.94-2.06-.94 2.06-2.06.94zm-11 1L8.5 8.5l.94-2.06 2.06-.94-2.06-.94L8.5 2.5l-.94 2.06-2.06.94zm10 10l.94 2.06.94-2.06 2.06-.94-2.06-.94-.94-2.06-.94 2.06-2.06.94z\"/><path d=\"M17.41 7.96l-1.37-1.37c-.4-.4-.92-.59-1.43-.59-.52 0-1.04.2-1.43.59L10.3 9.45l-7.72 7.72c-.78.78-.78 2.05 0 2.83L4 21.41c.39.39.9.59 1.41.59.51 0 1.02-.2 1.41-.59l7.78-7.78 2.81-2.81c.8-.78.8-2.07 0-2.86zM5.41 20L4 18.59l7.72-7.72 1.47 1.35L5.41 20z\"/>\n",
              "  </svg>\n",
              "      </button>\n",
              "      \n",
              "  <style>\n",
              "    .colab-df-container {\n",
              "      display:flex;\n",
              "      flex-wrap:wrap;\n",
              "      gap: 12px;\n",
              "    }\n",
              "\n",
              "    .colab-df-convert {\n",
              "      background-color: #E8F0FE;\n",
              "      border: none;\n",
              "      border-radius: 50%;\n",
              "      cursor: pointer;\n",
              "      display: none;\n",
              "      fill: #1967D2;\n",
              "      height: 32px;\n",
              "      padding: 0 0 0 0;\n",
              "      width: 32px;\n",
              "    }\n",
              "\n",
              "    .colab-df-convert:hover {\n",
              "      background-color: #E2EBFA;\n",
              "      box-shadow: 0px 1px 2px rgba(60, 64, 67, 0.3), 0px 1px 3px 1px rgba(60, 64, 67, 0.15);\n",
              "      fill: #174EA6;\n",
              "    }\n",
              "\n",
              "    [theme=dark] .colab-df-convert {\n",
              "      background-color: #3B4455;\n",
              "      fill: #D2E3FC;\n",
              "    }\n",
              "\n",
              "    [theme=dark] .colab-df-convert:hover {\n",
              "      background-color: #434B5C;\n",
              "      box-shadow: 0px 1px 3px 1px rgba(0, 0, 0, 0.15);\n",
              "      filter: drop-shadow(0px 1px 2px rgba(0, 0, 0, 0.3));\n",
              "      fill: #FFFFFF;\n",
              "    }\n",
              "  </style>\n",
              "\n",
              "      <script>\n",
              "        const buttonEl =\n",
              "          document.querySelector('#df-d1a76a36-6e90-42ac-b5af-df1c3a30868b button.colab-df-convert');\n",
              "        buttonEl.style.display =\n",
              "          google.colab.kernel.accessAllowed ? 'block' : 'none';\n",
              "\n",
              "        async function convertToInteractive(key) {\n",
              "          const element = document.querySelector('#df-d1a76a36-6e90-42ac-b5af-df1c3a30868b');\n",
              "          const dataTable =\n",
              "            await google.colab.kernel.invokeFunction('convertToInteractive',\n",
              "                                                     [key], {});\n",
              "          if (!dataTable) return;\n",
              "\n",
              "          const docLinkHtml = 'Like what you see? Visit the ' +\n",
              "            '<a target=\"_blank\" href=https://colab.research.google.com/notebooks/data_table.ipynb>data table notebook</a>'\n",
              "            + ' to learn more about interactive tables.';\n",
              "          element.innerHTML = '';\n",
              "          dataTable['output_type'] = 'display_data';\n",
              "          await google.colab.output.renderOutput(dataTable, element);\n",
              "          const docLink = document.createElement('div');\n",
              "          docLink.innerHTML = docLinkHtml;\n",
              "          element.appendChild(docLink);\n",
              "        }\n",
              "      </script>\n",
              "    </div>\n",
              "  </div>\n",
              "  "
            ]
          },
          "metadata": {},
          "execution_count": 5
        }
      ]
    },
    {
      "cell_type": "code",
      "source": [
        "## 혹시 모를, nan 값을 제거해주자. 제거해주지 않으면 float 이 발견되었다고 오류가 뜬다.\n",
        "print(f\"NAN 제거 전 데이터 수 = {data.shape}\")\n",
        "data = data[data.title.isna()==False]\n",
        "data = data.reset_index(drop=True)\n",
        "print(f\"NAN 제거 후 데이터 수 = {data.shape}\")"
      ],
      "metadata": {
        "colab": {
          "base_uri": "https://localhost:8080/"
        },
        "id": "T8AkXcbpoToS",
        "outputId": "5b385228-b4b7-4711-ce24-c87fd136c953"
      },
      "execution_count": 7,
      "outputs": [
        {
          "output_type": "stream",
          "name": "stdout",
          "text": [
            "NAN 제거 전 데이터 수 = (2470236, 3)\n",
            "NAN 제거 후 데이터 수 = (2469803, 3)\n"
          ]
        }
      ]
    },
    {
      "cell_type": "markdown",
      "source": [
        "## PMI 분석\n",
        "\n",
        "출처 : [SoyNLP 공식문서](!https://github.com/lovit/soynlp/blob/master/tutorials/pmi_usage.ipynb)\n",
        "\n",
        "이제 마지막 단계이다.\n",
        "\n",
        "단어들 간의 연관관계를 분석해서 자살 관련 정보 파악에 도움이 되는 __다른 단어__들은 무엇이 있는 지 알아보자.\n",
        "\n",
        "PMI 분석은\n",
        "\n",
        "(word, contexts) 혹은 (input, outputs)의 상관성을 측정하는 방법으로, pmi 값이 클수록 두 변수의 상관성이 크다.\n",
        "\n",
        "이를 위해서 특정 단어와 그 주위 단어들을 저장하는 행렬인 Word-Contexts Matrix를 생성한다."
      ],
      "metadata": {
        "id": "XwsT-QZenzwV"
      }
    },
    {
      "cell_type": "markdown",
      "source": [
        "아래 코드는 정제된 데이터를 통해서\n",
        "\n",
        "word_contexts matrix를 가지고 있는 pmi 인스턴스를 생성한다.(인스턴스 생성은 3분정도 걸림)\n",
        "\n",
        "생성된 pmi 인스턴스를 통해 수집한 데이터 속 단어들의 문맥과 유사 단어들을 알 수 있다."
      ],
      "metadata": {
        "id": "3l96WomGn1uH"
      }
    },
    {
      "cell_type": "code",
      "source": [
        "!pip install soynlp"
      ],
      "metadata": {
        "colab": {
          "base_uri": "https://localhost:8080/"
        },
        "id": "Uc2CqLVRoCrV",
        "outputId": "e161fc11-4790-4d38-d91c-64f6ae707e7b"
      },
      "execution_count": 3,
      "outputs": [
        {
          "output_type": "stream",
          "name": "stdout",
          "text": [
            "Looking in indexes: https://pypi.org/simple, https://us-python.pkg.dev/colab-wheels/public/simple/\n",
            "Collecting soynlp\n",
            "  Downloading soynlp-0.0.493-py3-none-any.whl (416 kB)\n",
            "\u001b[K     |████████████████████████████████| 416 kB 5.2 MB/s \n",
            "\u001b[?25hRequirement already satisfied: scipy>=1.1.0 in /usr/local/lib/python3.7/dist-packages (from soynlp) (1.7.3)\n",
            "Requirement already satisfied: psutil>=5.0.1 in /usr/local/lib/python3.7/dist-packages (from soynlp) (5.4.8)\n",
            "Requirement already satisfied: numpy>=1.12.1 in /usr/local/lib/python3.7/dist-packages (from soynlp) (1.21.6)\n",
            "Requirement already satisfied: scikit-learn>=0.20.0 in /usr/local/lib/python3.7/dist-packages (from soynlp) (1.0.2)\n",
            "Requirement already satisfied: joblib>=0.11 in /usr/local/lib/python3.7/dist-packages (from scikit-learn>=0.20.0->soynlp) (1.2.0)\n",
            "Requirement already satisfied: threadpoolctl>=2.0.0 in /usr/local/lib/python3.7/dist-packages (from scikit-learn>=0.20.0->soynlp) (3.1.0)\n",
            "Installing collected packages: soynlp\n",
            "Successfully installed soynlp-0.0.493\n"
          ]
        }
      ]
    },
    {
      "cell_type": "code",
      "source": [
        "from soynlp.word import pmi as pmi_func\n",
        "from sklearn.metrics import pairwise_distances\n",
        "from soynlp.vectorizer import sent_to_word_contexts_matrix\n",
        "import numpy as np\n",
        "\n",
        "class Pmi() :\n",
        "\n",
        "  def __init__(self, text_data) :\n",
        "\n",
        "    self.mat, self.idx2vocab = sent_to_word_contexts_matrix(\n",
        "        text_data,\n",
        "        windows=3,\n",
        "        min_tf=10,\n",
        "        tokenizer= lambda x:x.split(), # (default) lambda x:x.split(),\n",
        "        dynamic_weight=False,\n",
        "        verbose=True\n",
        "    )\n",
        "\n",
        "    self.pmi, self.px, self.py = pmi_func(\n",
        "        self.mat,\n",
        "        min_pmi = 0,\n",
        "        alpha = 0.0,\n",
        "        beta = 0.75\n",
        "    )\n",
        "\n",
        "    self.vocab2idx = {vocab:idx for idx, vocab in enumerate(self.idx2vocab)}\n",
        "\n",
        "  def context_words(self ,target, topk=10) :\n",
        "    \"\"\"\n",
        "    :target: str\n",
        "        String type query word\n",
        "    :param topk: int\n",
        "        Maximum number of similar items.\n",
        "        If set top as negative value, it returns similarity with all words\n",
        "    Returns\n",
        "    ----------\n",
        "    similars : list of tuple\n",
        "        List contains tuples (item, cosine similarity)\n",
        "        Its length is topk\n",
        "    \"\"\"\n",
        "    query = self.vocab2idx[target]\n",
        "\n",
        "    submatrix = self.pmi[query, :].tocsr() # get the row of query\n",
        "    contexts = submatrix.nonzero()[1] # nonzero() return (rows, columns)\n",
        "    pmi_i = submatrix.data\n",
        "\n",
        "    most_relateds = [(idx, pmi_ij) for idx, pmi_ij in zip(contexts, pmi_i)]\n",
        "    most_relateds = sorted(most_relateds, key=lambda x:-x[1])[:topk]\n",
        "    most_relateds = [[idx, pmi_ij] for idx, pmi_ij in most_relateds]\n",
        "\n",
        "    most_relateds = [(self.idx2vocab[idx], pmi_ij) for idx, pmi_ij in most_relateds]\n",
        "\n",
        "    return most_relateds\n",
        "\n",
        "  def similar_words(self, target, topk=10):\n",
        "      \"\"\"\n",
        "      :target: str\n",
        "          String type query word\n",
        "      :param topk: int\n",
        "          Maximum number of similar items.\n",
        "          If set top as negative value, it returns similarity with all words\n",
        "      Returns\n",
        "      ----------\n",
        "      similars : list of tuple\n",
        "          List contains tuples (item, cosine similarity)\n",
        "          Its length is topk\n",
        "      \"\"\"\n",
        "\n",
        "      q = self.vocab2idx.get(target, -1)\n",
        "      if q == -1:\n",
        "          return []\n",
        "\n",
        "      qvec = self.pmi[q].reshape(1,-1)\n",
        "      dist = pairwise_distances(qvec, self.pmi, metric='cosine')[0]\n",
        "      sim_idxs = dist.argsort()\n",
        "\n",
        "      if topk > 0:\n",
        "          sim_idxs = sim_idxs[:topk+1]\n",
        "\n",
        "      results = [[idx, 1 - dist[idx]] for idx in sim_idxs if idx != q]\n",
        "      # results = np.array(results)\n",
        "      results = [(self.idx2vocab[idx], pmi_ij) for idx, pmi_ij in results]\n",
        "\n",
        "      return results\n",
        "\n",
        "  def np_context_words(self ,target, topk=10) :\n",
        "    \"\"\"\n",
        "    효율적인 그래프 생성을 위한 코드.\n",
        "    input(str) : a word\n",
        "    ----------\n",
        "    results : array of tuple\n",
        "        List contains tuples (item, similarity)\n",
        "        Its length is topk\n",
        "    \"\"\"\n",
        " \n",
        "    submatrix = self.pmi[target, :].tocsr() # get the row of query\n",
        "    contexts = submatrix.nonzero()[1] # nonzero() return (rows, columns)\n",
        "    pmi_i = submatrix.data\n",
        "\n",
        "    most_relateds = [(idx, pmi_ij) for idx, pmi_ij in zip(contexts, pmi_i)]\n",
        "    most_relateds = sorted(most_relateds, key=lambda x:-x[1])[:topk]\n",
        "    most_relateds = [[idx, pmi_ij] for idx, pmi_ij in most_relateds]\n",
        "    results = np.array(most_relateds)\n",
        "    # most_relateds = [(self.idx2vocab[idx], pmi_ij) for idx, pmi_ij in most_relateds]\n",
        "\n",
        "    return results\n",
        "\n",
        "  def np_similar_words(self, target, topk=10):\n",
        "      \"\"\"\n",
        "      효율적인 그래프 생성을 위한 코드.\n",
        "      input(str) : a word\n",
        "      ----------\n",
        "      results : array of tuple\n",
        "          List contains tuples (item, cosine similarity)\n",
        "          Its length is topk\n",
        "      \"\"\"\n",
        "\n",
        "      qvec = self.pmi[target].reshape(1,-1)\n",
        "      dist = pairwise_distances(qvec, self.pmi, metric='cosine')[0]\n",
        "      sim_idxs = dist.argsort()\n",
        "\n",
        "      if topk > 0:\n",
        "          sim_idxs = sim_idxs[:topk+1]\n",
        "\n",
        "      results = [[idx, 1 - dist[idx]] for idx in sim_idxs if idx != q]\n",
        "      results = np.array(results)\n",
        "\n",
        "      return results\n",
        "  \n",
        "  def idx_to_word(self, indices_list) :\n",
        "    \n",
        "    return [self.idx2vocab[index] for index in indices_list]\n",
        "\n",
        "  def word_to_idx(self, word_list) :\n",
        "\n",
        "    return [self.vocab2idx[word] for word in word_list]\n",
        "\n",
        "pmi = Pmi(data.title)"
      ],
      "metadata": {
        "colab": {
          "base_uri": "https://localhost:8080/"
        },
        "id": "Sc5gpm45n2Ms",
        "outputId": "58d9ee3b-9707-44e3-ccfd-92cb64d9d10a"
      },
      "execution_count": 8,
      "outputs": [
        {
          "output_type": "stream",
          "name": "stdout",
          "text": [
            "Create (word, contexts) matrix\n",
            "  - counting word frequency from 2469802 sents, mem=1.026 Gb\n",
            "  - scanning (word, context) pairs from 2469802 sents, mem=1.922 Gb\n",
            "  - (word, context) matrix was constructed. shape = (49771, 49771)                    \n",
            "  - done\n"
          ]
        }
      ]
    },
    {
      "cell_type": "markdown",
      "source": [
        "# Graph 만들기\n",
        "\n",
        "생성한 Pmi 인스턴스로, \n",
        "\n",
        "유사 단어 그래프와 문맥 단어 그래프를 만들어 보자."
      ],
      "metadata": {
        "id": "vVwOL6HFopJo"
      }
    },
    {
      "cell_type": "code",
      "source": [
        "network = np.zeros((len(pmi.idx2vocab),len(pmi.idx2vocab)))\n",
        "network.shape"
      ],
      "metadata": {
        "colab": {
          "base_uri": "https://localhost:8080/"
        },
        "id": "X9QYBhtZrJSa",
        "outputId": "014047f0-70e5-4bb3-c5c2-ab3348b6e799"
      },
      "execution_count": 10,
      "outputs": [
        {
          "output_type": "execute_result",
          "data": {
            "text/plain": [
              "(49771, 49771)"
            ]
          },
          "metadata": {},
          "execution_count": 10
        }
      ]
    },
    {
      "cell_type": "markdown",
      "source": [],
      "metadata": {
        "id": "jV5cf75Trgex"
      }
    },
    {
      "cell_type": "code",
      "source": [
        "from scipy import sparse\n",
        "\n",
        "def make_network_array(node,current_recursion=0,graph_boundary=5,max_recursion=10,alpha=0.7) :\n",
        "\n",
        "  global network\n",
        "\n",
        "  context_words = pmi.np_context_words(node,topk=30) #context 뽑아오기\n",
        "  context_words = context_words[np.where(context_words[:,1] > graph_boundary),:][0]\n",
        "\n",
        "  if context_words.shape[0] == 0 :\n",
        "    return []\n",
        "\n",
        "  indices = np.array(context_words[:,0], dtype='int32')\n",
        "  alpha = alpha**current_recursion\n",
        "\n",
        "  network[int(node),indices]=context_words[:,1]*alpha\n",
        "  # print(int(node), \"-->\", indices)\n",
        "  if current_recursion <= max_recursion :\n",
        "    for id in context_words[:,0] :\n",
        "      make_network_array(id,\n",
        "                        current_recursion=current_recursion+1,\n",
        "                        graph_boundary=graph_boundary,\n",
        "                        max_recursion=max_recursion)\n",
        "  else :\n",
        "    return []\n",
        "\n",
        "seeds = ['자살','동반',\n",
        "        '죽을래','투신','자해','죽고싶다','우울','살자',\n",
        "        '인생','죽음']\n",
        "\n",
        "graph_boundary = 3.5\n",
        "max_recursion = 2\n",
        "\n",
        "for seed in tqdm(pmi.word_to_idx(seeds)) :\n",
        "    print(seed)\n",
        "    make_network_array(int(seed),\n",
        "                  current_recursion=0,\n",
        "                  graph_boundary=graph_boundary,\n",
        "                  max_recursion=max_recursion)\n",
        "\n",
        "\n",
        "from scipy.sparse import csr_matrix\n",
        "network_path='./models/simple_context_graph.npz'\n",
        "csr_network = csr_matrix(network)\n",
        "sparse.save_npz(network_path,csr_network)"
      ],
      "metadata": {
        "id": "o95TPIdmq17t"
      },
      "execution_count": null,
      "outputs": []
    },
    {
      "cell_type": "code",
      "execution_count": null,
      "metadata": {
        "id": "fbRH_nBf6Sx4"
      },
      "outputs": [],
      "source": [
        "network_path='./models/similar_graph_final.npz'\n",
        "sparse.save_npz(network_path,csr_network)"
      ]
    },
    {
      "cell_type": "code",
      "execution_count": null,
      "metadata": {
        "id": "8Fe_Y2WDuJWT",
        "colab": {
          "base_uri": "https://localhost:8080/",
          "height": 223
        },
        "outputId": "31fd110d-b0e9-4d9e-85d9-99b758a54b4d"
      },
      "outputs": [
        {
          "output_type": "error",
          "ename": "NameError",
          "evalue": "ignored",
          "traceback": [
            "\u001b[0;31m---------------------------------------------------------------------------\u001b[0m",
            "\u001b[0;31mNameError\u001b[0m                                 Traceback (most recent call last)",
            "\u001b[0;32m<ipython-input-1-15dfbbe1ea3a>\u001b[0m in \u001b[0;36m<module>\u001b[0;34m\u001b[0m\n\u001b[1;32m      1\u001b[0m \u001b[0;32mimport\u001b[0m \u001b[0mnetworkx\u001b[0m \u001b[0;32mas\u001b[0m \u001b[0mnx\u001b[0m\u001b[0;34m\u001b[0m\u001b[0;34m\u001b[0m\u001b[0m\n\u001b[1;32m      2\u001b[0m \u001b[0;34m\u001b[0m\u001b[0m\n\u001b[0;32m----> 3\u001b[0;31m \u001b[0msparse_matrix\u001b[0m \u001b[0;34m=\u001b[0m \u001b[0mscipy\u001b[0m\u001b[0;34m.\u001b[0m\u001b[0msparse\u001b[0m\u001b[0;34m.\u001b[0m\u001b[0mload_npz\u001b[0m\u001b[0;34m(\u001b[0m\u001b[0mnetwork_path\u001b[0m\u001b[0;34m)\u001b[0m\u001b[0;34m\u001b[0m\u001b[0;34m\u001b[0m\u001b[0m\n\u001b[0m\u001b[1;32m      4\u001b[0m \u001b[0mG\u001b[0m\u001b[0;34m=\u001b[0m\u001b[0mnx\u001b[0m\u001b[0;34m.\u001b[0m\u001b[0mfrom_scipy_sparse_matrix\u001b[0m\u001b[0;34m(\u001b[0m\u001b[0mcsr_network\u001b[0m\u001b[0;34m)\u001b[0m\u001b[0;34m\u001b[0m\u001b[0;34m\u001b[0m\u001b[0m\n",
            "\u001b[0;31mNameError\u001b[0m: name 'scipy' is not defined"
          ]
        }
      ],
      "source": [
        "import networkx as nx\n",
        "\n",
        "sparse_matrix = scipy.sparse.load_npz(network_path)\n",
        "CG=nx.from_scipy_sparse_matrix(csr_network)"
      ]
    },
    {
      "cell_type": "code",
      "execution_count": null,
      "metadata": {
        "id": "h-B25vzc8fGW"
      },
      "outputs": [],
      "source": [
        "# Weight 분포 보기\n",
        "import pandas as pd \n",
        "\n",
        "def show_w_e_dist(G) :\n",
        "  weights = [wt for (u, v, wt) in G.edges.data('weight')]\n",
        "  degrees = [G.degree(node) for node in G.nodes]\n",
        "  return pd.DataFrame(degrees), pd.DataFrame(weights)\n",
        "\n",
        "ds, ws = show_w_e_dist(CG)\n",
        "ds.describe()"
      ]
    },
    {
      "cell_type": "code",
      "source": [
        "ws.describe()"
      ],
      "metadata": {
        "id": "RYqU9m71r_bE"
      },
      "execution_count": null,
      "outputs": []
    },
    {
      "cell_type": "code",
      "source": [
        "## idx -> word\n",
        "relabel_nodes = {idx : word for idx, word in enumerate(pmi.idx2vocab)}\n",
        "CG = nx.relabel_nodes(CG, relabel_nodes)"
      ],
      "metadata": {
        "id": "j5D9gPjQsBm_"
      },
      "execution_count": null,
      "outputs": []
    },
    {
      "cell_type": "code",
      "source": [
        "## filter node which has less edges.\n",
        "minimum_edges = 33\n",
        "CG_fnodes = nx.subgraph_view(CG, \n",
        "                          filter_node=lambda x : CG.degree[x]>=minimum_edges) \n",
        "print(f\"n(nodes) : {CG.number_of_nodes()} ---> {CG_fnodes.number_of_nodes()}\")"
      ],
      "metadata": {
        "id": "RvvTfkPGsDBs"
      },
      "execution_count": null,
      "outputs": []
    },
    {
      "cell_type": "code",
      "source": [
        "## filter edges which has less weights.\n",
        "\n",
        "minimum_weight = 1.337664\n",
        "\n",
        "def filter_edge(n1, n2):\n",
        "    return CG_fnodes[n1][n2]['weight'] > minimum_weight\n",
        "\n",
        "CG_fnodes_fedges = nx.subgraph_view(CG_fnodes, \n",
        "                                    filter_node = lambda x : True,\n",
        "                                    filter_edge=filter_edge) \n",
        "print(f\"n(edges) : {CG_fnodes.number_of_edges()} ---> {CG_fnodes_fedges.number_of_edges()}\")\n"
      ],
      "metadata": {
        "id": "VDY7Hgy8sF5N"
      },
      "execution_count": null,
      "outputs": []
    },
    {
      "cell_type": "code",
      "source": [
        "page_rank_results = nx.pagerank(CG_fnodes_fedges)"
      ],
      "metadata": {
        "id": "C2y29LUvsIuy"
      },
      "execution_count": null,
      "outputs": []
    },
    {
      "cell_type": "code",
      "source": [
        "{key:rank for key,rank in sorted(page_rank_results.items(),key=lambda x:x[1],reverse=True) if len(key) > 1}"
      ],
      "metadata": {
        "id": "Cpqqx1bTsJ29"
      },
      "execution_count": null,
      "outputs": []
    },
    {
      "cell_type": "code",
      "execution_count": null,
      "metadata": {
        "id": "oZO2A_5UwlI6"
      },
      "outputs": [],
      "source": [
        "seeds = ['자살', '자해', '동반', '우울', '죽음']\n",
        "graph_boundary = 3\n",
        "max_recursion = 15\n",
        "ids = pmi.word_to_idx(seeds)\n",
        "CG2 = nx.DiGraph()\n",
        "\n",
        "for seed in tqdm(pmi.word_to_idx(seeds)) :\n",
        "  CG2.add_node(seed)\n",
        "  plot_graph(seed,\n",
        "            current_recursion=0,\n",
        "            graph_boundary=graph_boundary,\n",
        "            max_recursion=max_recursion)\n",
        "\n",
        "graph_name = './results/PMI_words_graph2.pickle'\n",
        "# save graph object to file\n",
        "pickle.dump(CG2, open(graph_name, 'wb'))"
      ]
    },
    {
      "cell_type": "code",
      "execution_count": null,
      "metadata": {
        "id": "e2JZnjxEuRjW"
      },
      "outputs": [],
      "source": [
        "CG = pickle.load(open(graph_name, 'rb'))"
      ]
    },
    {
      "cell_type": "code",
      "execution_count": null,
      "metadata": {
        "id": "bMmjejQovpeY"
      },
      "outputs": [],
      "source": [
        "# pos = nx.spring_layout(CG) \n",
        "# labels =nx.get_edge_attributes(CG,'weight')\n",
        "# nx.draw_networkx_edge_labels(CG, pos, edge_labels = labels) \n",
        "nx.draw(CG, pos,with_labels = True, font_weight = \"bold\") "
      ]
    },
    {
      "cell_type": "code",
      "source": [
        "nx.write_gexf(CG_fnodes_fedges, \"./models/context_graph_final.gexf\") "
      ],
      "metadata": {
        "id": "7uNftr97sRxA"
      },
      "execution_count": null,
      "outputs": []
    },
    {
      "cell_type": "code",
      "execution_count": null,
      "metadata": {
        "id": "HeS7WR6vv_cH"
      },
      "outputs": [],
      "source": [
        "from matplotlib import pylab\n",
        "import networkx as nx\n",
        "\n",
        " def save_graph(graph,file_name):\n",
        "    #initialze Figure\n",
        "    plt.figure(num=None, figsize=(20, 20), dpi=80)\n",
        "    plt.axis('off')\n",
        "    fig = plt.figure(1)\n",
        "    pos = nx.spring_layout(graph)\n",
        "    nx.draw_networkx_nodes(graph,pos)\n",
        "    nx.draw_networkx_edges(graph,pos)\n",
        "    nx.draw_networkx_labels(graph,pos)\n",
        "\n",
        "    cut = 1.00\n",
        "    xmax = cut * max(xx for xx, yy in pos.values())\n",
        "    ymax = cut * max(yy for xx, yy in pos.values())\n",
        "    plt.xlim(0, xmax)\n",
        "    plt.ylim(0, ymax)\n",
        "\n",
        "    plt.savefig(file_name,bbox_inches=\"tight\")\n",
        "    pylab.close()\n",
        "    del fig\n",
        "\n",
        "#Assuming that the graph g has nodes and edges entered\n",
        "save_graph(g,\"my_graph.pdf\")"
      ]
    }
  ],
  "metadata": {
    "colab": {
      "collapsed_sections": [],
      "machine_shape": "hm",
      "provenance": [],
      "authorship_tag": "ABX9TyNFM3u5piqc/+Nqojw1mI/z",
      "include_colab_link": true
    },
    "gpuClass": "standard",
    "kernelspec": {
      "display_name": "Python 3",
      "name": "python3"
    },
    "language_info": {
      "name": "python"
    }
  },
  "nbformat": 4,
  "nbformat_minor": 0
}