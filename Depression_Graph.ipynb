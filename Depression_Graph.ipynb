{
  "cells": [
    {
      "cell_type": "markdown",
      "metadata": {
        "id": "view-in-github",
        "colab_type": "text"
      },
      "source": [
        "<a href=\"https://colab.research.google.com/github/GwiHwan-Go/Detect_SC/blob/main/Depression_Graph.ipynb\" target=\"_parent\"><img src=\"https://colab.research.google.com/assets/colab-badge.svg\" alt=\"Open In Colab\"/></a>"
      ]
    },
    {
      "cell_type": "code",
      "execution_count": null,
      "metadata": {
        "colab": {
          "base_uri": "https://localhost:8080/"
        },
        "id": "GAx1DAneod1f",
        "outputId": "9ec98f6a-3e97-4d68-e28c-0d3df9568c90"
      },
      "outputs": [
        {
          "output_type": "stream",
          "name": "stdout",
          "text": [
            "Drive already mounted at /content/drive; to attempt to forcibly remount, call drive.mount(\"/content/drive\", force_remount=True).\n",
            "/content/drive/MyDrive/Detect_SC_symptoms\n"
          ]
        }
      ],
      "source": [
        "# This mounts your Google Drive to the Colab VM.\n",
        "from google.colab import drive\n",
        "drive.mount('/content/drive')\n",
        "\n",
        "FOLDERNAME = 'Detect_SC_symptoms'\n",
        "assert FOLDERNAME is not None, \"[!] Enter the foldername.\"\n",
        "\n",
        "import sys\n",
        "sys.path.append('/content/drive/MyDrive/{}'.format(FOLDERNAME))\n",
        "\n",
        "# Change dariectory to current folder\n",
        "%cd /content/drive/MyDrive/$FOLDERNAME"
      ]
    },
    {
      "cell_type": "code",
      "execution_count": null,
      "metadata": {
        "colab": {
          "base_uri": "https://localhost:8080/"
        },
        "id": "TcokH7W5Dfz2",
        "outputId": "c5dd7544-eb7d-48d9-d180-e511170bdcf7"
      },
      "outputs": [
        {
          "output_type": "stream",
          "name": "stdout",
          "text": [
            "Looking in indexes: https://pypi.org/simple, https://us-python.pkg.dev/colab-wheels/public/simple/\n",
            "Requirement already satisfied: soynlp in /usr/local/lib/python3.7/dist-packages (0.0.493)\n",
            "Requirement already satisfied: psutil>=5.0.1 in /usr/local/lib/python3.7/dist-packages (from soynlp) (5.4.8)\n",
            "Requirement already satisfied: numpy>=1.12.1 in /usr/local/lib/python3.7/dist-packages (from soynlp) (1.21.6)\n",
            "Requirement already satisfied: scipy>=1.1.0 in /usr/local/lib/python3.7/dist-packages (from soynlp) (1.7.3)\n",
            "Requirement already satisfied: scikit-learn>=0.20.0 in /usr/local/lib/python3.7/dist-packages (from soynlp) (1.0.2)\n",
            "Requirement already satisfied: threadpoolctl>=2.0.0 in /usr/local/lib/python3.7/dist-packages (from scikit-learn>=0.20.0->soynlp) (3.1.0)\n",
            "Requirement already satisfied: joblib>=0.11 in /usr/local/lib/python3.7/dist-packages (from scikit-learn>=0.20.0->soynlp) (1.2.0)\n"
          ]
        }
      ],
      "source": [
        "# !pip install konlpy\n",
        "!pip install soynlp\n",
        "import pandas as pd"
      ]
    },
    {
      "cell_type": "markdown",
      "metadata": {
        "id": "kSlsZ3gV3_Y9"
      },
      "source": [
        "### 게시글에서 우울증 지수를 뽑아내보자.\n",
        "\n",
        "1. PMI 분석된 것을 기준. [PMI란?](!https://github.com/lovit/soynlp/blob/master/tutorials/pmi_usage.ipynb)\n",
        "2. Seeds 단어들(자살과 관련된 핵심적인 단어들)로 시작\n",
        "3. 관련 단어 상위 10위, 가까운 것부터 배수 배정\n",
        "4. gradient를 곱해서 다시 PMI 분석. -> 정해진 기준까지.\n",
        "5. 다 더한다.\n",
        "\n",
        "## Params 화 해서 heuristic 하게 조정해보자."
      ]
    },
    {
      "cell_type": "code",
      "execution_count": null,
      "metadata": {
        "id": "P4tR0GcdsFmH"
      },
      "outputs": [],
      "source": [
        "from scipy import sparse\n",
        "import pickle\n",
        "from soynlp.word import pmi as pmi_func\n",
        "from sklearn.metrics import pairwise_distances\n",
        "import numpy as np\n",
        "\n",
        "class Pmi() :\n",
        "\n",
        "  def __init__(self, words_mat_path, index_list_path) :\n",
        "\n",
        "    self.mat = sparse.load_npz(mat_save_path)\n",
        "\n",
        "    with open(index_list_save_path, \"rb\") as fp:   # Unpickling\n",
        "      self.idx2vocab = pickle.load(fp)\n",
        "\n",
        "    self.pmi, self.px, self.py = pmi_func(\n",
        "                                  self.mat,\n",
        "                                  min_pmi = 0,\n",
        "                                  alpha = 0.0,\n",
        "                                  beta = 0.75\n",
        "                              )\n",
        "    self.vocab2idx = {vocab:idx for idx, vocab in enumerate(self.idx2vocab)}\n",
        "\n",
        "  def np_context_words(self ,target, topk=10) :\n",
        "\n",
        "    # query = self.vocab2idx[target]\n",
        "\n",
        "    submatrix = self.pmi[target, :].tocsr() # get the row of query\n",
        "    contexts = submatrix.nonzero()[1] # nonzero() return (rows, columns)\n",
        "    pmi_i = submatrix.data\n",
        "\n",
        "    most_relateds = [(idx, pmi_ij) for idx, pmi_ij in zip(contexts, pmi_i)]\n",
        "    most_relateds = sorted(most_relateds, key=lambda x:-x[1])[:topk]\n",
        "    most_relateds = [[idx, pmi_ij] for idx, pmi_ij in most_relateds]\n",
        "    results = np.array(most_relateds)\n",
        "    # most_relateds = [(self.idx2vocab[idx], pmi_ij) for idx, pmi_ij in most_relateds]\n",
        "\n",
        "    return results\n",
        "\n",
        "  def context_words(self ,target, topk=10) :\n",
        "\n",
        "    query = self.vocab2idx[target]\n",
        "\n",
        "    submatrix = self.pmi[query, :].tocsr() # get the row of query\n",
        "    contexts = submatrix.nonzero()[1] # nonzero() return (rows, columns)\n",
        "    pmi_i = submatrix.data\n",
        "\n",
        "    most_relateds = [(idx, pmi_ij) for idx, pmi_ij in zip(contexts, pmi_i)]\n",
        "    most_relateds = sorted(most_relateds, key=lambda x:-x[1])[:topk]\n",
        "    most_relateds = [[idx, pmi_ij] for idx, pmi_ij in most_relateds]\n",
        "    # results = np.array(most_relateds)\n",
        "    most_relateds = [(self.idx2vocab[idx], pmi_ij) for idx, pmi_ij in most_relateds]\n",
        "\n",
        "    return most_relateds\n",
        "  def similar_words(self, target, topk=10):\n",
        "      \"\"\"\n",
        "      :target: str\n",
        "          String type query word\n",
        "      :self.pmi: numpy.ndarray or scipy.sparse.matrix\n",
        "          self.pmi representation of row\n",
        "      :self.vocab2idx: dict\n",
        "          Mapper from str type item to int type index\n",
        "      :self.idx2vocab: list\n",
        "          Mapper from int type index to str type item\n",
        "      :param topk: int\n",
        "          Maximum number of similar items.\n",
        "          If set top as negative value, it returns similarity with all words\n",
        "      Returns\n",
        "      ----------\n",
        "      similars : list of tuple\n",
        "          List contains tuples (item, cosine similarity)\n",
        "          Its length is topk\n",
        "      \"\"\"\n",
        "\n",
        "      q = self.vocab2idx.get(target, -1)\n",
        "      if q == -1:\n",
        "          return []\n",
        "\n",
        "      qvec = self.pmi[target].reshape(1,-1)\n",
        "      dist = pairwise_distances(qvec, self.pmi, metric='cosine')[0]\n",
        "      sim_idxs = dist.argsort()\n",
        "\n",
        "      if topk > 0:\n",
        "          sim_idxs = sim_idxs[:topk+1]\n",
        "\n",
        "      results = [[idx, 1 - dist[idx]] for idx in sim_idxs if idx != q]\n",
        "      # results = np.array(results)\n",
        "      results = [(self.idx2vocab[idx], pmi_ij) for idx, pmi_ij in results]\n",
        "\n",
        "      return results\n",
        "   \n",
        "  def np_similar_words(self, target, topk=10):\n",
        "      \"\"\"\n",
        "      :target: str\n",
        "          String type query word\n",
        "      :self.pmi: numpy.ndarray or scipy.sparse.matrix\n",
        "          self.pmi representation of row\n",
        "      :self.vocab2idx: dict\n",
        "          Mapper from str type item to int type index\n",
        "      :self.idx2vocab: list\n",
        "          Mapper from int type index to str type item\n",
        "      :param topk: int\n",
        "          Maximum number of similar items.\n",
        "          If set top as negative value, it returns similarity with all words\n",
        "      Returns\n",
        "      ----------\n",
        "      similars : list of tuple\n",
        "          List contains tuples (item, cosine similarity)\n",
        "          Its length is topk\n",
        "      \"\"\"\n",
        "\n",
        "      # q = self.vocab2idx.get(target, -1)\n",
        "      # if q == -1:\n",
        "      #     return []\n",
        "\n",
        "      qvec = self.pmi[target].reshape(1,-1)\n",
        "      dist = pairwise_distances(qvec, self.pmi, metric='cosine')[0]\n",
        "      sim_idxs = dist.argsort()\n",
        "\n",
        "      if topk > 0:\n",
        "          sim_idxs = sim_idxs[:topk+1]\n",
        "\n",
        "      results = [[idx, 1 - dist[idx]] for idx in sim_idxs if idx != target]\n",
        "      results = np.array(results)\n",
        "\n",
        "      return results\n",
        "  \n",
        "  def idx_to_word(self, indices_list) :\n",
        "    \n",
        "    return [self.idx2vocab[index] for index in indices_list]\n",
        "\n",
        "  def word_to_idx(self, word_list) :\n",
        "\n",
        "    return [self.vocab2idx[word] for word in word_list]\n",
        "\n",
        "\n",
        "\n",
        "mat_save_path = \"/content/drive/MyDrive/Detect_SC_symptoms/models/words_sparse_mat.npz\"\n",
        "index_list_save_path = \"/content/drive/MyDrive/Detect_SC_symptoms/models/idx_to_vocabs\"\n",
        "pmi = Pmi(mat_save_path,index_list_save_path)"
      ]
    },
    {
      "cell_type": "code",
      "source": [
        "np.where(context_words[:,0])"
      ],
      "metadata": {
        "colab": {
          "base_uri": "https://localhost:8080/"
        },
        "id": "K0PBfUfT56Ci",
        "outputId": "43680fa8-471d-479f-cb29-78849b3b874f"
      },
      "execution_count": null,
      "outputs": [
        {
          "output_type": "execute_result",
          "data": {
            "text/plain": [
              "array([0.18399721, 0.18317524, 0.17020227, 0.16308425, 0.15725072,\n",
              "       0.15645059, 0.15544148, 0.14975371, 0.14689529, 0.14523871])"
            ]
          },
          "metadata": {},
          "execution_count": 7
        }
      ]
    },
    {
      "cell_type": "code",
      "execution_count": null,
      "metadata": {
        "id": "2H_BWT3hsdCW"
      },
      "outputs": [],
      "source": [
        "from tqdm import tqdm"
      ]
    },
    {
      "cell_type": "code",
      "execution_count": null,
      "metadata": {
        "colab": {
          "base_uri": "https://localhost:8080/"
        },
        "id": "69l7zOaaqa3j",
        "outputId": "3b6fde65-47b9-4973-e744-063cd1f13f56"
      },
      "outputs": [
        {
          "output_type": "stream",
          "name": "stderr",
          "text": [
            "\r  0%|          | 0/10 [00:00<?, ?it/s]"
          ]
        },
        {
          "output_type": "stream",
          "name": "stdout",
          "text": [
            "4604\n"
          ]
        },
        {
          "output_type": "stream",
          "name": "stderr",
          "text": [
            "\r 10%|█         | 1/10 [10:36<1:35:25, 636.20s/it]"
          ]
        },
        {
          "output_type": "stream",
          "name": "stdout",
          "text": [
            "13279\n"
          ]
        },
        {
          "output_type": "stream",
          "name": "stderr",
          "text": [
            "\r 20%|██        | 2/10 [18:46<1:13:21, 550.24s/it]"
          ]
        },
        {
          "output_type": "stream",
          "name": "stdout",
          "text": [
            "19674\n"
          ]
        },
        {
          "output_type": "stream",
          "name": "stderr",
          "text": [
            "\r 30%|███       | 3/10 [25:42<57:04, 489.16s/it]  "
          ]
        },
        {
          "output_type": "stream",
          "name": "stdout",
          "text": [
            "22896\n"
          ]
        },
        {
          "output_type": "stream",
          "name": "stderr",
          "text": [
            "\r 40%|████      | 4/10 [33:26<47:55, 479.32s/it]"
          ]
        },
        {
          "output_type": "stream",
          "name": "stdout",
          "text": [
            "4858\n"
          ]
        },
        {
          "output_type": "stream",
          "name": "stderr",
          "text": [
            "\r 50%|█████     | 5/10 [43:10<43:04, 516.84s/it]"
          ]
        },
        {
          "output_type": "stream",
          "name": "stdout",
          "text": [
            "9804\n"
          ]
        },
        {
          "output_type": "stream",
          "name": "stderr",
          "text": [
            "\r 60%|██████    | 6/10 [51:05<33:30, 502.63s/it]"
          ]
        },
        {
          "output_type": "stream",
          "name": "stdout",
          "text": [
            "267\n"
          ]
        },
        {
          "output_type": "stream",
          "name": "stderr",
          "text": [
            "\r 70%|███████   | 7/10 [59:46<25:26, 508.71s/it]"
          ]
        },
        {
          "output_type": "stream",
          "name": "stdout",
          "text": [
            "2636\n"
          ]
        },
        {
          "output_type": "stream",
          "name": "stderr",
          "text": [
            "\r 80%|████████  | 8/10 [1:08:59<17:25, 522.88s/it]"
          ]
        },
        {
          "output_type": "stream",
          "name": "stdout",
          "text": [
            "84\n"
          ]
        },
        {
          "output_type": "stream",
          "name": "stderr",
          "text": [
            "\r 90%|█████████ | 9/10 [1:15:54<08:09, 489.12s/it]"
          ]
        },
        {
          "output_type": "stream",
          "name": "stdout",
          "text": [
            "1584\n"
          ]
        },
        {
          "output_type": "stream",
          "name": "stderr",
          "text": [
            "100%|██████████| 10/10 [1:25:46<00:00, 514.70s/it]\n"
          ]
        }
      ],
      "source": [
        "from scipy import sparse\n",
        "\n",
        "# network = np.zeros((len(pmi.idx2vocab),len(pmi.idx2vocab)))\n",
        "\n",
        "def make_network_array(node,current_recursion=0,graph_boundary=5,max_recursion=10,alpha=0.7) :\n",
        "\n",
        "  global network\n",
        "\n",
        "  context_words = pmi.np_context_words(node,topk=30) #context 뽑아오기\n",
        "  context_words = context_words[np.where(context_words[:,1] > graph_boundary),:][0]\n",
        "\n",
        "  if context_words.shape[0] == 0 :\n",
        "    return []\n",
        "\n",
        "  indices = np.array(context_words[:,0], dtype='int32')\n",
        "  alpha = alpha**current_recursion\n",
        "\n",
        "  network[int(node),indices]=context_words[:,1]*alpha\n",
        "  # print(int(node), \"-->\", indices)\n",
        "  if current_recursion <= max_recursion :\n",
        "    for id in context_words[:,0] :\n",
        "      make_network_array(id,\n",
        "                        current_recursion=current_recursion+1,\n",
        "                        graph_boundary=graph_boundary,\n",
        "                        max_recursion=max_recursion)\n",
        "  else :\n",
        "    return []\n",
        "\n",
        "seeds = ['자살','동반',\n",
        "        '죽을래','투신','자해','죽고싶다','우울','살자',\n",
        "        '인생','죽음']\n",
        "graph_boundary = 3.5\n",
        "max_recursion = 2\n",
        "\n",
        "for seed in tqdm(pmi.word_to_idx(seeds)) :\n",
        "    print(seed)\n",
        "    make_network_array(int(seed),\n",
        "                  current_recursion=0,\n",
        "                  graph_boundary=graph_boundary,\n",
        "                  max_recursion=max_recursion)\n",
        "\n",
        "\n",
        "from scipy.sparse import csr_matrix\n",
        "network_path='./models/simple_context_graph.npz'\n",
        "csr_network = csr_matrix(network)\n",
        "sparse.save_npz(network_path,csr_network)"
      ]
    },
    {
      "cell_type": "code",
      "execution_count": null,
      "metadata": {
        "id": "fbRH_nBf6Sx4"
      },
      "outputs": [],
      "source": [
        "network_path='./models/similar_graph_final.npz'\n",
        "sparse.save_npz(network_path,csr_network)"
      ]
    },
    {
      "cell_type": "code",
      "execution_count": null,
      "metadata": {
        "id": "8Fe_Y2WDuJWT",
        "colab": {
          "base_uri": "https://localhost:8080/",
          "height": 223
        },
        "outputId": "31fd110d-b0e9-4d9e-85d9-99b758a54b4d"
      },
      "outputs": [
        {
          "output_type": "error",
          "ename": "NameError",
          "evalue": "ignored",
          "traceback": [
            "\u001b[0;31m---------------------------------------------------------------------------\u001b[0m",
            "\u001b[0;31mNameError\u001b[0m                                 Traceback (most recent call last)",
            "\u001b[0;32m<ipython-input-1-15dfbbe1ea3a>\u001b[0m in \u001b[0;36m<module>\u001b[0;34m\u001b[0m\n\u001b[1;32m      1\u001b[0m \u001b[0;32mimport\u001b[0m \u001b[0mnetworkx\u001b[0m \u001b[0;32mas\u001b[0m \u001b[0mnx\u001b[0m\u001b[0;34m\u001b[0m\u001b[0;34m\u001b[0m\u001b[0m\n\u001b[1;32m      2\u001b[0m \u001b[0;34m\u001b[0m\u001b[0m\n\u001b[0;32m----> 3\u001b[0;31m \u001b[0msparse_matrix\u001b[0m \u001b[0;34m=\u001b[0m \u001b[0mscipy\u001b[0m\u001b[0;34m.\u001b[0m\u001b[0msparse\u001b[0m\u001b[0;34m.\u001b[0m\u001b[0mload_npz\u001b[0m\u001b[0;34m(\u001b[0m\u001b[0mnetwork_path\u001b[0m\u001b[0;34m)\u001b[0m\u001b[0;34m\u001b[0m\u001b[0;34m\u001b[0m\u001b[0m\n\u001b[0m\u001b[1;32m      4\u001b[0m \u001b[0mG\u001b[0m\u001b[0;34m=\u001b[0m\u001b[0mnx\u001b[0m\u001b[0;34m.\u001b[0m\u001b[0mfrom_scipy_sparse_matrix\u001b[0m\u001b[0;34m(\u001b[0m\u001b[0mcsr_network\u001b[0m\u001b[0;34m)\u001b[0m\u001b[0;34m\u001b[0m\u001b[0;34m\u001b[0m\u001b[0m\n",
            "\u001b[0;31mNameError\u001b[0m: name 'scipy' is not defined"
          ]
        }
      ],
      "source": [
        "import networkx as nx\n",
        "\n",
        "sparse_matrix = scipy.sparse.load_npz(network_path)\n",
        "G=nx.from_scipy_sparse_matrix(csr_network)"
      ]
    },
    {
      "cell_type": "code",
      "execution_count": null,
      "metadata": {
        "id": "h-B25vzc8fGW"
      },
      "outputs": [],
      "source": [
        "G.nodes"
      ]
    },
    {
      "cell_type": "code",
      "execution_count": null,
      "metadata": {
        "id": "oZO2A_5UwlI6"
      },
      "outputs": [],
      "source": [
        "seeds = ['자살', '자해', '동반', '우울', '죽음']\n",
        "graph_boundary = 3\n",
        "max_recursion = 15\n",
        "ids = pmi.word_to_idx(seeds)\n",
        "CG2 = nx.DiGraph()\n",
        "\n",
        "for seed in tqdm(pmi.word_to_idx(seeds)) :\n",
        "  CG2.add_node(seed)\n",
        "  plot_graph(seed,\n",
        "            current_recursion=0,\n",
        "            graph_boundary=graph_boundary,\n",
        "            max_recursion=max_recursion)\n",
        "\n",
        "graph_name = './results/PMI_words_graph2.pickle'\n",
        "# save graph object to file\n",
        "pickle.dump(CG2, open(graph_name, 'wb'))"
      ]
    },
    {
      "cell_type": "code",
      "execution_count": null,
      "metadata": {
        "id": "e2JZnjxEuRjW"
      },
      "outputs": [],
      "source": [
        "CG = pickle.load(open(graph_name, 'rb'))"
      ]
    },
    {
      "cell_type": "code",
      "execution_count": null,
      "metadata": {
        "id": "bMmjejQovpeY"
      },
      "outputs": [],
      "source": [
        "# pos = nx.spring_layout(CG) \n",
        "# labels =nx.get_edge_attributes(CG,'weight')\n",
        "# nx.draw_networkx_edge_labels(CG, pos, edge_labels = labels) \n",
        "nx.draw(CG, pos,with_labels = True, font_weight = \"bold\") "
      ]
    },
    {
      "cell_type": "code",
      "execution_count": null,
      "metadata": {
        "id": "HeS7WR6vv_cH"
      },
      "outputs": [],
      "source": [
        "from matplotlib import pylab\n",
        "import networkx as nx\n",
        "\n",
        " def save_graph(graph,file_name):\n",
        "    #initialze Figure\n",
        "    plt.figure(num=None, figsize=(20, 20), dpi=80)\n",
        "    plt.axis('off')\n",
        "    fig = plt.figure(1)\n",
        "    pos = nx.spring_layout(graph)\n",
        "    nx.draw_networkx_nodes(graph,pos)\n",
        "    nx.draw_networkx_edges(graph,pos)\n",
        "    nx.draw_networkx_labels(graph,pos)\n",
        "\n",
        "    cut = 1.00\n",
        "    xmax = cut * max(xx for xx, yy in pos.values())\n",
        "    ymax = cut * max(yy for xx, yy in pos.values())\n",
        "    plt.xlim(0, xmax)\n",
        "    plt.ylim(0, ymax)\n",
        "\n",
        "    plt.savefig(file_name,bbox_inches=\"tight\")\n",
        "    pylab.close()\n",
        "    del fig\n",
        "\n",
        "#Assuming that the graph g has nodes and edges entered\n",
        "save_graph(g,\"my_graph.pdf\")"
      ]
    },
    {
      "cell_type": "code",
      "execution_count": null,
      "metadata": {
        "id": "QmBYK5Mi7xT7"
      },
      "outputs": [],
      "source": [
        "def preprocess(text) :\n",
        "  \"\"\"\n",
        "  exclude alphabet, lower the alphabets\n",
        "  input : nltk.text.Text ??\n",
        "  output : \n",
        "  \"\"\"\n",
        "  from nltk.corpus import stopwords\n",
        "  text = [w.lower() for w in text \n",
        "          if (len(w)>1) and \n",
        "              (w.isalpha()) and \n",
        "              (w not in stopwords.words('english'))]\n",
        "  return text\n",
        "\n",
        "def get_diversity(text) :\n",
        "  \"\"\"\n",
        "  Look at diversity of using word in the text\n",
        "  the higher the more diverse, which means vocabulary ability is higher.\n",
        "  input : nltk.text.Text\n",
        "  output : integer (the lower the more diverse)\n",
        "  \"\"\"\n",
        "  text = preprocess(text)\n",
        "  print(type(text))\n",
        "  return len(set(text)) / len(text)\n",
        "\n",
        "def count(word, text, exclude_duplicate=True) :\n",
        "  \"\"\"\n",
        "  Look at the percentage of the word in the text\n",
        "  input : nltk.text.Text\n",
        "  output : integer (the lower the more diverse)\n",
        "  \"\"\"\n",
        "  text = preprocess(text)\n",
        "\n",
        "  if exclude_duplicate :\n",
        "    text = set(text)\n",
        "  return round(FreqDist(text)['word'] / len(text), 5)*100\n",
        "\n",
        "def save_df(df,name) :\n",
        "\n",
        "  path = './results' +'/' + name\n",
        "  df.to_csv(path)\n",
        "  print(f\"저장성공 경로 : {path} \")"
      ]
    },
    {
      "cell_type": "code",
      "execution_count": null,
      "metadata": {
        "colab": {
          "base_uri": "https://localhost:8080/",
          "height": 278
        },
        "id": "325bw-IdzH15",
        "outputId": "2a9d50b9-efb0-4904-a45f-2d889e9041e1"
      },
      "outputs": [
        {
          "name": "stdout",
          "output_type": "stream",
          "text": [
            "총 기간 2021-03-03 ~ 2022-10-27\n",
            "수집한 게시물 범위 : 2 ~ 4445728 \n",
            "수집된 데이터 크기 : 2470236 \n",
            "수집한 데이터 features : Index(['id', 'title', 'author', 'date', 'link'], dtype='object')\n"
          ]
        },
        {
          "data": {
            "text/html": [
              "\n",
              "  <div id=\"df-32fd67f6-37f7-4530-b26c-0b1a37f7d886\">\n",
              "    <div class=\"colab-df-container\">\n",
              "      <div>\n",
              "<style scoped>\n",
              "    .dataframe tbody tr th:only-of-type {\n",
              "        vertical-align: middle;\n",
              "    }\n",
              "\n",
              "    .dataframe tbody tr th {\n",
              "        vertical-align: top;\n",
              "    }\n",
              "\n",
              "    .dataframe thead th {\n",
              "        text-align: right;\n",
              "    }\n",
              "</style>\n",
              "<table border=\"1\" class=\"dataframe\">\n",
              "  <thead>\n",
              "    <tr style=\"text-align: right;\">\n",
              "      <th></th>\n",
              "      <th>id</th>\n",
              "      <th>title</th>\n",
              "      <th>author</th>\n",
              "      <th>date</th>\n",
              "      <th>link</th>\n",
              "    </tr>\n",
              "  </thead>\n",
              "  <tbody>\n",
              "    <tr>\n",
              "      <th>2470231</th>\n",
              "      <td>4445724</td>\n",
              "      <td>나 병신 ...</td>\n",
              "      <td>민애</td>\n",
              "      <td>2022-10-27</td>\n",
              "      <td>https://m.dcinside.com/board/depression_new1/4...</td>\n",
              "    </tr>\n",
              "    <tr>\n",
              "      <th>2470232</th>\n",
              "      <td>4445725</td>\n",
              "      <td>나고 닉 글 올리 규 싶 읃데</td>\n",
              "      <td>조팡이(118.235)</td>\n",
              "      <td>2022-10-27</td>\n",
              "      <td>https://m.dcinside.com/board/depression_new1/4...</td>\n",
              "    </tr>\n",
              "    <tr>\n",
              "      <th>2470233</th>\n",
              "      <td>4445726</td>\n",
              "      <td>씨발 남자 직원 음식 깔아 주</td>\n",
              "      <td>연우ㅗ(223.62)</td>\n",
              "      <td>2022-10-27</td>\n",
              "      <td>https://m.dcinside.com/board/depression_new1/4...</td>\n",
              "    </tr>\n",
              "    <tr>\n",
              "      <th>2470234</th>\n",
              "      <td>4445727</td>\n",
              "      <td>나도 근데 아이디 두 번 바꿈</td>\n",
              "      <td>.O2</td>\n",
              "      <td>2022-10-27</td>\n",
              "      <td>https://m.dcinside.com/board/depression_new1/4...</td>\n",
              "    </tr>\n",
              "    <tr>\n",
              "      <th>2470235</th>\n",
              "      <td>4445728</td>\n",
              "      <td>알바 바보 쉨 ㅋㅋㅋ 나도 차단 해봐라</td>\n",
              "      <td>민애</td>\n",
              "      <td>2022-10-27</td>\n",
              "      <td>https://m.dcinside.com/board/depression_new1/4...</td>\n",
              "    </tr>\n",
              "  </tbody>\n",
              "</table>\n",
              "</div>\n",
              "      <button class=\"colab-df-convert\" onclick=\"convertToInteractive('df-32fd67f6-37f7-4530-b26c-0b1a37f7d886')\"\n",
              "              title=\"Convert this dataframe to an interactive table.\"\n",
              "              style=\"display:none;\">\n",
              "        \n",
              "  <svg xmlns=\"http://www.w3.org/2000/svg\" height=\"24px\"viewBox=\"0 0 24 24\"\n",
              "       width=\"24px\">\n",
              "    <path d=\"M0 0h24v24H0V0z\" fill=\"none\"/>\n",
              "    <path d=\"M18.56 5.44l.94 2.06.94-2.06 2.06-.94-2.06-.94-.94-2.06-.94 2.06-2.06.94zm-11 1L8.5 8.5l.94-2.06 2.06-.94-2.06-.94L8.5 2.5l-.94 2.06-2.06.94zm10 10l.94 2.06.94-2.06 2.06-.94-2.06-.94-.94-2.06-.94 2.06-2.06.94z\"/><path d=\"M17.41 7.96l-1.37-1.37c-.4-.4-.92-.59-1.43-.59-.52 0-1.04.2-1.43.59L10.3 9.45l-7.72 7.72c-.78.78-.78 2.05 0 2.83L4 21.41c.39.39.9.59 1.41.59.51 0 1.02-.2 1.41-.59l7.78-7.78 2.81-2.81c.8-.78.8-2.07 0-2.86zM5.41 20L4 18.59l7.72-7.72 1.47 1.35L5.41 20z\"/>\n",
              "  </svg>\n",
              "      </button>\n",
              "      \n",
              "  <style>\n",
              "    .colab-df-container {\n",
              "      display:flex;\n",
              "      flex-wrap:wrap;\n",
              "      gap: 12px;\n",
              "    }\n",
              "\n",
              "    .colab-df-convert {\n",
              "      background-color: #E8F0FE;\n",
              "      border: none;\n",
              "      border-radius: 50%;\n",
              "      cursor: pointer;\n",
              "      display: none;\n",
              "      fill: #1967D2;\n",
              "      height: 32px;\n",
              "      padding: 0 0 0 0;\n",
              "      width: 32px;\n",
              "    }\n",
              "\n",
              "    .colab-df-convert:hover {\n",
              "      background-color: #E2EBFA;\n",
              "      box-shadow: 0px 1px 2px rgba(60, 64, 67, 0.3), 0px 1px 3px 1px rgba(60, 64, 67, 0.15);\n",
              "      fill: #174EA6;\n",
              "    }\n",
              "\n",
              "    [theme=dark] .colab-df-convert {\n",
              "      background-color: #3B4455;\n",
              "      fill: #D2E3FC;\n",
              "    }\n",
              "\n",
              "    [theme=dark] .colab-df-convert:hover {\n",
              "      background-color: #434B5C;\n",
              "      box-shadow: 0px 1px 3px 1px rgba(0, 0, 0, 0.15);\n",
              "      filter: drop-shadow(0px 1px 2px rgba(0, 0, 0, 0.3));\n",
              "      fill: #FFFFFF;\n",
              "    }\n",
              "  </style>\n",
              "\n",
              "      <script>\n",
              "        const buttonEl =\n",
              "          document.querySelector('#df-32fd67f6-37f7-4530-b26c-0b1a37f7d886 button.colab-df-convert');\n",
              "        buttonEl.style.display =\n",
              "          google.colab.kernel.accessAllowed ? 'block' : 'none';\n",
              "\n",
              "        async function convertToInteractive(key) {\n",
              "          const element = document.querySelector('#df-32fd67f6-37f7-4530-b26c-0b1a37f7d886');\n",
              "          const dataTable =\n",
              "            await google.colab.kernel.invokeFunction('convertToInteractive',\n",
              "                                                     [key], {});\n",
              "          if (!dataTable) return;\n",
              "\n",
              "          const docLinkHtml = 'Like what you see? Visit the ' +\n",
              "            '<a target=\"_blank\" href=https://colab.research.google.com/notebooks/data_table.ipynb>data table notebook</a>'\n",
              "            + ' to learn more about interactive tables.';\n",
              "          element.innerHTML = '';\n",
              "          dataTable['output_type'] = 'display_data';\n",
              "          await google.colab.output.renderOutput(dataTable, element);\n",
              "          const docLink = document.createElement('div');\n",
              "          docLink.innerHTML = docLinkHtml;\n",
              "          element.appendChild(docLink);\n",
              "        }\n",
              "      </script>\n",
              "    </div>\n",
              "  </div>\n",
              "  "
            ],
            "text/plain": [
              "              id                  title        author        date  \\\n",
              "2470231  4445724               나 병신 ...            민애  2022-10-27   \n",
              "2470232  4445725       나고 닉 글 올리 규 싶 읃데  조팡이(118.235)  2022-10-27   \n",
              "2470233  4445726       씨발 남자 직원 음식 깔아 주   연우ㅗ(223.62)  2022-10-27   \n",
              "2470234  4445727       나도 근데 아이디 두 번 바꿈           .O2  2022-10-27   \n",
              "2470235  4445728  알바 바보 쉨 ㅋㅋㅋ 나도 차단 해봐라            민애  2022-10-27   \n",
              "\n",
              "                                                      link  \n",
              "2470231  https://m.dcinside.com/board/depression_new1/4...  \n",
              "2470232  https://m.dcinside.com/board/depression_new1/4...  \n",
              "2470233  https://m.dcinside.com/board/depression_new1/4...  \n",
              "2470234  https://m.dcinside.com/board/depression_new1/4...  \n",
              "2470235  https://m.dcinside.com/board/depression_new1/4...  "
            ]
          },
          "execution_count": 7,
          "metadata": {},
          "output_type": "execute_result"
        }
      ],
      "source": [
        "# 결과물 저장 경로\n",
        "save_dir = \"/content/drive/MyDrive/Detect_SC_symptoms/results\"\n",
        "file_name = \"refined_full_custom_tokenizer.csv\" # tokenized X = refined_full.csv / with Okt tokenizer = refined_full_okt_tokenized.csv\n",
        "data_path = f\"/content/drive/MyDrive/Detect_SC_symptoms/results/{file_name}\" \n",
        "data = pd.read_csv(data_path, low_memory=False, index_col=0) \n",
        "first_id, last_id = data.loc[0,'id'], data.loc[data.shape[0]-1,'id']\n",
        "first_day, last_day = data.loc[0,'date'], data.loc[data.shape[0]-1,'date']\n",
        "print(\"총 기간\", first_day, '~', last_day )\n",
        "print(\"수집한 게시물 범위 :\", first_id, \"~\", last_id, \"\\n\" \\\n",
        "      \"수집된 데이터 크기 :\", data.shape[0], \"\\n수집한 데이터 features :\", data.columns)\n",
        "data.tail()"
      ]
    },
    {
      "cell_type": "code",
      "execution_count": null,
      "metadata": {
        "colab": {
          "base_uri": "https://localhost:8080/"
        },
        "id": "MKx4hSrZxnbX",
        "outputId": "80491a62-d31d-49db-d0ab-b313bc81de2f"
      },
      "outputs": [
        {
          "name": "stdout",
          "output_type": "stream",
          "text": [
            "중복, NAN 제거 전 데이터 수 = (2470236, 5)\n",
            "중복, NAN 제거 후 데이터 수 = (2469803, 5)\n"
          ]
        }
      ],
      "source": [
        "print(f\"중복, NAN 제거 전 데이터 수 = {data.shape}\")\n",
        "data = data.drop_duplicates(['id'])\n",
        "data = data[data.title.isna()==False]\n",
        "print(f\"중복, NAN 제거 후 데이터 수 = {data.shape}\")"
      ]
    },
    {
      "cell_type": "markdown",
      "metadata": {
        "id": "JHJETLEFHrTl"
      },
      "source": [
        "## 텍스트 데이터는 어떤 정보를 가지고 있을까?"
      ]
    },
    {
      "cell_type": "code",
      "execution_count": null,
      "metadata": {
        "colab": {
          "base_uri": "https://localhost:8080/"
        },
        "id": "OUz2q2AXCpMc",
        "outputId": "bfd7afb2-ac11-4efa-db95-fdfca77b2651"
      },
      "outputs": [
        {
          "name": "stdout",
          "output_type": "stream",
          "text": [
            "all cohesion probabilities was computed. # words = 480337\n",
            "all branching entropies was computed # words = 523918\n",
            "all accessor variety was computed # words = 523918\n"
          ]
        }
      ],
      "source": [
        "# 학습시킨 Tokenizer 불러 오기\n",
        "import math\n",
        "from soynlp.word import WordExtractor\n",
        "from soynlp.tokenizer import LTokenizer\n",
        "\n",
        "model_fname=\"/content/drive/MyDrive/Detect_SC_symptoms/models\" + \"/\" + \"soy_wordExtractor_full.model\"\n",
        "\n",
        "## Word_Extractor param 설정 및 로드\n",
        "word_extractor = WordExtractor(min_frequency=10,\n",
        "                               min_cohesion_forward=5.0,\n",
        "                               min_right_branching_entropy=0.0)\n",
        "word_extractor.load(model_fname)\n",
        "\n",
        "## Cohesion 과 Entropy 계산해서 tokenizer 생성\n",
        "scores = word_extractor.word_scores()\n",
        "scores = {key : (scores[key].cohesion_forward * math.exp(scores[key].right_branching_entropy)) \\\n",
        "          for key in scores.keys()}\n",
        "\n",
        "## tokenizer 생성\n",
        "tokenizer = LTokenizer(scores=scores)"
      ]
    },
    {
      "cell_type": "code",
      "execution_count": null,
      "metadata": {
        "id": "8CuWCplWDeaO"
      },
      "outputs": [],
      "source": [
        "from konlpy.tag import Okt\n",
        "\n",
        "## 완성된 우리의 TOKENIZER##\n",
        "\n",
        "def preprocess_tokenizer(sentence) : \n",
        "\n",
        "  pos_tagger = Okt()\n",
        "  # sentence = emoticon_normalize(sentence) 자세한 건 soyNLP 공식문서 참고 https://github.com/lovit/soynlp\n",
        "  # sentence = repeat_normalize(sentence) 자세한 건 soyNLP 공식문서 참고 https://github.com/lovit/soynlp\n",
        "\n",
        "  #soynlp tokenizer로 나눠준 후 konlpy Okt postagger로 품사 판별\n",
        "  return [word[0]\n",
        "          for word in pos_tagger.pos(' '.join(tokenizer.tokenize(sentence)))\n",
        "          if word[1] != 'Josa'] # 조사는 분석에서 제외"
      ]
    },
    {
      "cell_type": "code",
      "execution_count": null,
      "metadata": {
        "id": "Fi9xy2IeLYkL"
      },
      "outputs": [],
      "source": [
        "from scipy import sparse\n",
        "import pickle\n",
        "from soynlp.word import pmi as pmi_func\n",
        "from sklearn.metrics import pairwise_distances\n",
        "import numpy as np\n",
        "\n",
        "class Pmi() :\n",
        "\n",
        "  def __init__(self, words_mat_path, index_list_path) :\n",
        "\n",
        "    self.mat = sparse.load_npz(mat_save_path)\n",
        "\n",
        "    with open(index_list_save_path, \"rb\") as fp:   # Unpickling\n",
        "      self.idx2vocab = pickle.load(fp)\n",
        "\n",
        "    self.pmi, self.px, self.py = pmi_func(\n",
        "                                  self.mat,\n",
        "                                  min_pmi = 0,\n",
        "                                  alpha = 0.0,\n",
        "                                  beta = 0.75\n",
        "                              )\n",
        "    self.vocab2idx = {vocab:idx for idx, vocab in enumerate(self.idx2vocab)}\n",
        "\n",
        "  def context_words(self ,target, topk=10) :\n",
        "\n",
        "    # query = self.vocab2idx[target]\n",
        "\n",
        "    submatrix = self.pmi[target, :].tocsr() # get the row of query\n",
        "    contexts = submatrix.nonzero()[1] # nonzero() return (rows, columns)\n",
        "    pmi_i = submatrix.data\n",
        "\n",
        "    most_relateds = [(idx, pmi_ij) for idx, pmi_ij in zip(contexts, pmi_i)]\n",
        "    most_relateds = sorted(most_relateds, key=lambda x:-x[1])[:topk]\n",
        "    most_relateds = [[idx, pmi_ij] for idx, pmi_ij in most_relateds]\n",
        "    results = np.array(most_relateds)\n",
        "    # most_relateds = [(self.idx2vocab[idx], pmi_ij) for idx, pmi_ij in most_relateds]\n",
        "\n",
        "    return results\n",
        "\n",
        "  def similar_words(self, target, topk=10):\n",
        "      \"\"\"\n",
        "      :target: str\n",
        "          String type query word\n",
        "      :self.pmi: numpy.ndarray or scipy.sparse.matrix\n",
        "          self.pmi representation of row\n",
        "      :self.vocab2idx: dict\n",
        "          Mapper from str type item to int type index\n",
        "      :self.idx2vocab: list\n",
        "          Mapper from int type index to str type item\n",
        "      :param topk: int\n",
        "          Maximum number of similar items.\n",
        "          If set top as negative value, it returns similarity with all words\n",
        "      Returns\n",
        "      ----------\n",
        "      similars : list of tuple\n",
        "          List contains tuples (item, cosine similarity)\n",
        "          Its length is topk\n",
        "      \"\"\"\n",
        "\n",
        "      # q = self.vocab2idx.get(target, -1)\n",
        "      # if q == -1:\n",
        "      #     return []\n",
        "\n",
        "      qvec = self.pmi[target].reshape(1,-1)\n",
        "      dist = pairwise_distances(qvec, self.pmi, metric='cosine')[0]\n",
        "      sim_idxs = dist.argsort()\n",
        "\n",
        "      if topk > 0:\n",
        "          sim_idxs = sim_idxs[:topk+1]\n",
        "\n",
        "      results = [[idx, 1 - dist[idx]] for idx in sim_idxs if idx != q]\n",
        "      results = np.array(results)\n",
        "\n",
        "      return results\n",
        "  \n",
        "  def results_to_word(self, result_list) :\n",
        "\n",
        "    return [(self.idx2vocab[int(idx)], pmi_ij) for idx, pmi_ij in result_list]\n",
        "  \n",
        "  def idx_to_word(self, indices_list) :\n",
        "    \n",
        "    return [self.idx2vocab[word] for index in indices_list]\n",
        "\n",
        "  def word_to_idx(self, word_list) :\n",
        "\n",
        "    return [self.vocab2idx[word] for word in word_list]\n",
        "\n",
        "\n",
        "\n",
        "mat_save_path = \"/content/drive/MyDrive/Detect_SC_symptoms/models/words_sparse_mat.npz\"\n",
        "index_list_save_path = \"/content/drive/MyDrive/Detect_SC_symptoms/models/idx_to_vocabs\"\n",
        "pmi = Pmi(mat_save_path,index_list_save_path)"
      ]
    },
    {
      "cell_type": "code",
      "execution_count": null,
      "metadata": {
        "id": "QKiOfXztRrh-"
      },
      "outputs": [],
      "source": [
        "## Graph 를 생성해 보자."
      ]
    },
    {
      "cell_type": "code",
      "execution_count": null,
      "metadata": {
        "id": "Fz7p3bm-RyFe"
      },
      "outputs": [],
      "source": []
    },
    {
      "cell_type": "code",
      "execution_count": null,
      "metadata": {
        "id": "W_ltFwGJYchk"
      },
      "outputs": [],
      "source": [
        "seeds = ['자살', '자해', '살고싶어', '우울', '죽음']\n",
        "ids = pmi.word_to_idx(seeds)"
      ]
    },
    {
      "cell_type": "code",
      "execution_count": null,
      "metadata": {
        "colab": {
          "base_uri": "https://localhost:8080/"
        },
        "id": "447OCm40a_JS",
        "outputId": "ba9fac6f-a643-4405-bf69-e3add6b71b20"
      },
      "outputs": [
        {
          "data": {
            "text/plain": [
              "array([ 1973., 25708., 29756., 47422., 26068., 35845.,  4604., 33828.,\n",
              "       42536., 48484.])"
            ]
          },
          "execution_count": 14,
          "metadata": {},
          "output_type": "execute_result"
        }
      ],
      "source": [
        "pmi.context_words(4604)[:,0]"
      ]
    },
    {
      "cell_type": "code",
      "execution_count": null,
      "metadata": {
        "colab": {
          "base_uri": "https://localhost:8080/"
        },
        "id": "YLqq_GqPbXB2",
        "outputId": "5b590ddd-015c-48f0-ee0e-ed2160eba073"
      },
      "outputs": [
        {
          "data": {
            "text/plain": [
              "array([ 1973., 25708., 29756., 47422., 26068., 35845.,  4604., 33828.,\n",
              "       42536., 48484.])"
            ]
          },
          "execution_count": 61,
          "metadata": {},
          "output_type": "execute_result"
        }
      ],
      "source": [
        "pmi.context_words(4604)[:,0]"
      ]
    },
    {
      "cell_type": "code",
      "execution_count": null,
      "metadata": {
        "id": "DNUfaHGNR5rt"
      },
      "outputs": [],
      "source": [
        "CG = nx.DiGraph()"
      ]
    },
    {
      "cell_type": "code",
      "execution_count": null,
      "metadata": {
        "colab": {
          "base_uri": "https://localhost:8080/"
        },
        "id": "IicSeNNHbxEy",
        "outputId": "716a1704-1d80-4dde-dfa6-3525183a338b"
      },
      "outputs": [
        {
          "data": {
            "text/plain": [
              "NodeView((1973.0, 25708.0, 29756.0, 47422.0, 26068.0, 35845.0, 4604.0, 33828.0, 42536.0, 48484.0, 36496.0, 35892.0, 45281.0, 4858.0, 31310.0, 31713.0, 35785.0, 34782.0, 31389.0, 30499.0, 36346.0, 42487.0, 39816.0, 35198.0, 46339.0, 44021.0, 44410.0, 46267.0, 39531.0, 7318.0, 17901.0, 12516.0, 6547.0, 1429.0, 39632.0, 31497.0, 8760.0, 436.0, 12407.0, 18010.0, 30505.0, 41383.0, 33471.0, 36671.0, 23274.0, 43165.0, 16594.0, 23096.0, 36436.0, 46360.0))"
            ]
          },
          "execution_count": 66,
          "metadata": {},
          "output_type": "execute_result"
        }
      ],
      "source": [
        "CG.nodes"
      ]
    },
    {
      "cell_type": "code",
      "execution_count": null,
      "metadata": {
        "colab": {
          "base_uri": "https://localhost:8080/"
        },
        "id": "Ye0WpTKGcq41",
        "outputId": "5653b49f-2aff-4a96-ce7f-69e2f1f10297"
      },
      "outputs": [
        {
          "name": "stdout",
          "output_type": "stream",
          "text": [
            "[1 2 3 4]\n",
            "[[1]\n",
            " [2]\n",
            " [3]\n",
            " [4]]\n",
            "[[1 2 3 4]]\n"
          ]
        }
      ],
      "source": [
        "import numpy as np\n",
        "\n",
        "arr = np.array([1,2,3,4], dtype=int)\n",
        "\n",
        "new_arr = arr[:, np.newaxis]\n",
        "\n",
        "print(arr)\n",
        "\n",
        "print(new_arr)\n",
        "print(new_arr.T)"
      ]
    },
    {
      "cell_type": "code",
      "execution_count": null,
      "metadata": {
        "colab": {
          "base_uri": "https://localhost:8080/"
        },
        "id": "SIZX6qOFgJ_m",
        "outputId": "395e98bf-fba3-4a23-cd3b-4950c42a29e1"
      },
      "outputs": [
        {
          "data": {
            "text/plain": [
              "(10, 2)"
            ]
          },
          "execution_count": 86,
          "metadata": {},
          "output_type": "execute_result"
        }
      ],
      "source": [
        "first_context_words=pmi.context_words(21)\n",
        "first_context_words.shape"
      ]
    },
    {
      "cell_type": "code",
      "execution_count": null,
      "metadata": {
        "colab": {
          "base_uri": "https://localhost:8080/"
        },
        "id": "282fUVb3geHD",
        "outputId": "91a59ebe-524b-42da-f68e-bcb9daa9bfeb"
      },
      "outputs": [
        {
          "data": {
            "text/plain": [
              "array([4.09460759, 3.8268944 , 3.31017217, 3.29213166, 3.25154077,\n",
              "       3.20472363, 3.12477399, 3.11136265, 3.09799993, 3.09613637])"
            ]
          },
          "execution_count": 81,
          "metadata": {},
          "output_type": "execute_result"
        }
      ],
      "source": [
        "first_context_words[:,1]"
      ]
    },
    {
      "cell_type": "code",
      "execution_count": null,
      "metadata": {
        "colab": {
          "base_uri": "https://localhost:8080/"
        },
        "id": "O4Vy-bgJgNpe",
        "outputId": "7b777fa3-f18b-41db-e9d2-36371051cdb1"
      },
      "outputs": [
        {
          "data": {
            "text/plain": [
              "(0, 2)"
            ]
          },
          "execution_count": 89,
          "metadata": {},
          "output_type": "execute_result"
        }
      ],
      "source": [
        "first_context_words = first_context_words[np.where(first_context_words[:,1] > 5),:][0]\n",
        "first_context_words.shape"
      ]
    },
    {
      "cell_type": "code",
      "execution_count": null,
      "metadata": {
        "colab": {
          "base_uri": "https://localhost:8080/"
        },
        "id": "l6crgpK3gngk",
        "outputId": "fd763e36-454c-4ddc-949f-8ed1ac4f7d59"
      },
      "outputs": [
        {
          "data": {
            "text/plain": [
              "array([[[1.79600000e+03, 4.09460759e+00],\n",
              "        [1.57700000e+03, 3.82689440e+00],\n",
              "        [5.43700000e+03, 3.31017217e+00],\n",
              "        [4.24570000e+04, 3.29213166e+00],\n",
              "        [7.39100000e+03, 3.25154077e+00],\n",
              "        [1.38630000e+04, 3.20472363e+00],\n",
              "        [4.28380000e+04, 3.12477399e+00],\n",
              "        [1.54390000e+04, 3.11136265e+00],\n",
              "        [7.44000000e+02, 3.09799993e+00],\n",
              "        [1.95620000e+04, 3.09613637e+00]]])"
            ]
          },
          "execution_count": 83,
          "metadata": {},
          "output_type": "execute_result"
        }
      ],
      "source": [
        "first_context_words"
      ]
    },
    {
      "cell_type": "code",
      "execution_count": null,
      "metadata": {
        "colab": {
          "base_uri": "https://localhost:8080/"
        },
        "id": "X8j_43FSgZgd",
        "outputId": "c658bb4d-d80a-4310-ca56-9da862503a65"
      },
      "outputs": [
        {
          "data": {
            "text/plain": [
              "(array([0, 1, 2, 3, 4, 5, 6, 7, 8, 9]),)"
            ]
          },
          "execution_count": 79,
          "metadata": {},
          "output_type": "execute_result"
        }
      ],
      "source": [
        "first_context_words"
      ]
    },
    {
      "cell_type": "code",
      "execution_count": null,
      "metadata": {
        "colab": {
          "base_uri": "https://localhost:8080/",
          "height": 408
        },
        "id": "uR9R2pb-Zm7V",
        "outputId": "2c54f35c-6e87-436a-c0bf-b7fc03fbbcc5"
      },
      "outputs": [
        {
          "name": "stderr",
          "output_type": "stream",
          "text": [
            "100%|██████████| 10/10 [00:45<00:00,  4.60s/it]\n",
            "100%|██████████| 10/10 [00:44<00:00,  4.50s/it]\n",
            " 20%|██        | 2/10 [00:12<00:48,  6.04s/it]\n"
          ]
        },
        {
          "ename": "KeyboardInterrupt",
          "evalue": "ignored",
          "output_type": "error",
          "traceback": [
            "\u001b[0;31m---------------------------------------------------------------------------\u001b[0m",
            "\u001b[0;31mKeyboardInterrupt\u001b[0m                         Traceback (most recent call last)",
            "\u001b[0;32m<ipython-input-24-9f9d11bdd7b9>\u001b[0m in \u001b[0;36m<module>\u001b[0;34m\u001b[0m\n\u001b[1;32m     36\u001b[0m           \u001b[0mnew_5_nodes\u001b[0m \u001b[0;34m=\u001b[0m \u001b[0mplot_graph\u001b[0m\u001b[0;34m(\u001b[0m\u001b[0mnew_4_node\u001b[0m\u001b[0;34m)\u001b[0m\u001b[0;34m\u001b[0m\u001b[0;34m\u001b[0m\u001b[0m\n\u001b[1;32m     37\u001b[0m           \u001b[0;32mfor\u001b[0m \u001b[0mnew_5_node\u001b[0m \u001b[0;32min\u001b[0m \u001b[0mnew_5_nodes\u001b[0m \u001b[0;34m:\u001b[0m\u001b[0;34m\u001b[0m\u001b[0;34m\u001b[0m\u001b[0m\n\u001b[0;32m---> 38\u001b[0;31m             \u001b[0mnew_6_nodes\u001b[0m \u001b[0;34m=\u001b[0m \u001b[0mplot_graph\u001b[0m\u001b[0;34m(\u001b[0m\u001b[0mnew_5_node\u001b[0m\u001b[0;34m)\u001b[0m\u001b[0;34m\u001b[0m\u001b[0;34m\u001b[0m\u001b[0m\n\u001b[0m",
            "\u001b[0;32m<ipython-input-24-9f9d11bdd7b9>\u001b[0m in \u001b[0;36mplot_graph\u001b[0;34m(node, graph_boundary)\u001b[0m\n\u001b[1;32m      5\u001b[0m     \u001b[0mnode\u001b[0m\u001b[0;34m(\u001b[0m\u001b[0mint\u001b[0m \u001b[0;32mor\u001b[0m \u001b[0mfloat\u001b[0m\u001b[0;34m)\u001b[0m \u001b[0;34m:\u001b[0m \u001b[0mid\u001b[0m \u001b[0mof\u001b[0m \u001b[0mmatrix\u001b[0m\u001b[0;34m\u001b[0m\u001b[0;34m\u001b[0m\u001b[0m\n\u001b[1;32m      6\u001b[0m     \"\"\"\n\u001b[0;32m----> 7\u001b[0;31m     \u001b[0mcontext_words\u001b[0m \u001b[0;34m=\u001b[0m \u001b[0mpmi\u001b[0m\u001b[0;34m.\u001b[0m\u001b[0mcontext_words\u001b[0m\u001b[0;34m(\u001b[0m\u001b[0mnode\u001b[0m\u001b[0;34m)\u001b[0m\u001b[0;34m\u001b[0m\u001b[0;34m\u001b[0m\u001b[0m\n\u001b[0m\u001b[1;32m      8\u001b[0m     \u001b[0mcontext_words\u001b[0m \u001b[0;34m=\u001b[0m \u001b[0mcontext_words\u001b[0m\u001b[0;34m[\u001b[0m\u001b[0mnp\u001b[0m\u001b[0;34m.\u001b[0m\u001b[0mwhere\u001b[0m\u001b[0;34m(\u001b[0m\u001b[0mcontext_words\u001b[0m\u001b[0;34m[\u001b[0m\u001b[0;34m:\u001b[0m\u001b[0;34m,\u001b[0m\u001b[0;36m1\u001b[0m\u001b[0;34m]\u001b[0m \u001b[0;34m>\u001b[0m \u001b[0mgraph_boundary\u001b[0m\u001b[0;34m)\u001b[0m\u001b[0;34m,\u001b[0m\u001b[0;34m:\u001b[0m\u001b[0;34m]\u001b[0m\u001b[0;34m[\u001b[0m\u001b[0;36m0\u001b[0m\u001b[0;34m]\u001b[0m\u001b[0;34m\u001b[0m\u001b[0;34m\u001b[0m\u001b[0m\n\u001b[1;32m      9\u001b[0m     \u001b[0mCG\u001b[0m\u001b[0;34m.\u001b[0m\u001b[0madd_nodes_from\u001b[0m\u001b[0;34m(\u001b[0m\u001b[0mcontext_words\u001b[0m\u001b[0;34m[\u001b[0m\u001b[0;34m:\u001b[0m\u001b[0;34m,\u001b[0m\u001b[0;36m0\u001b[0m\u001b[0;34m]\u001b[0m\u001b[0;34m)\u001b[0m\u001b[0;34m\u001b[0m\u001b[0;34m\u001b[0m\u001b[0m\n",
            "\u001b[0;32m<ipython-input-13-1950c939c818>\u001b[0m in \u001b[0;36mcontext_words\u001b[0;34m(self, target, topk)\u001b[0m\n\u001b[1;32m     31\u001b[0m \u001b[0;34m\u001b[0m\u001b[0m\n\u001b[1;32m     32\u001b[0m     \u001b[0mmost_relateds\u001b[0m \u001b[0;34m=\u001b[0m \u001b[0;34m[\u001b[0m\u001b[0;34m(\u001b[0m\u001b[0midx\u001b[0m\u001b[0;34m,\u001b[0m \u001b[0mpmi_ij\u001b[0m\u001b[0;34m)\u001b[0m \u001b[0;32mfor\u001b[0m \u001b[0midx\u001b[0m\u001b[0;34m,\u001b[0m \u001b[0mpmi_ij\u001b[0m \u001b[0;32min\u001b[0m \u001b[0mzip\u001b[0m\u001b[0;34m(\u001b[0m\u001b[0mcontexts\u001b[0m\u001b[0;34m,\u001b[0m \u001b[0mpmi_i\u001b[0m\u001b[0;34m)\u001b[0m\u001b[0;34m]\u001b[0m\u001b[0;34m\u001b[0m\u001b[0;34m\u001b[0m\u001b[0m\n\u001b[0;32m---> 33\u001b[0;31m     \u001b[0mmost_relateds\u001b[0m \u001b[0;34m=\u001b[0m \u001b[0msorted\u001b[0m\u001b[0;34m(\u001b[0m\u001b[0mmost_relateds\u001b[0m\u001b[0;34m,\u001b[0m \u001b[0mkey\u001b[0m\u001b[0;34m=\u001b[0m\u001b[0;32mlambda\u001b[0m \u001b[0mx\u001b[0m\u001b[0;34m:\u001b[0m\u001b[0;34m-\u001b[0m\u001b[0mx\u001b[0m\u001b[0;34m[\u001b[0m\u001b[0;36m1\u001b[0m\u001b[0;34m]\u001b[0m\u001b[0;34m)\u001b[0m\u001b[0;34m[\u001b[0m\u001b[0;34m:\u001b[0m\u001b[0mtopk\u001b[0m\u001b[0;34m]\u001b[0m\u001b[0;34m\u001b[0m\u001b[0;34m\u001b[0m\u001b[0m\n\u001b[0m\u001b[1;32m     34\u001b[0m     \u001b[0mmost_relateds\u001b[0m \u001b[0;34m=\u001b[0m \u001b[0;34m[\u001b[0m\u001b[0;34m[\u001b[0m\u001b[0midx\u001b[0m\u001b[0;34m,\u001b[0m \u001b[0mpmi_ij\u001b[0m\u001b[0;34m]\u001b[0m \u001b[0;32mfor\u001b[0m \u001b[0midx\u001b[0m\u001b[0;34m,\u001b[0m \u001b[0mpmi_ij\u001b[0m \u001b[0;32min\u001b[0m \u001b[0mmost_relateds\u001b[0m\u001b[0;34m]\u001b[0m\u001b[0;34m\u001b[0m\u001b[0;34m\u001b[0m\u001b[0m\n\u001b[1;32m     35\u001b[0m     \u001b[0mresults\u001b[0m \u001b[0;34m=\u001b[0m \u001b[0mnp\u001b[0m\u001b[0;34m.\u001b[0m\u001b[0marray\u001b[0m\u001b[0;34m(\u001b[0m\u001b[0mmost_relateds\u001b[0m\u001b[0;34m)\u001b[0m\u001b[0;34m\u001b[0m\u001b[0;34m\u001b[0m\u001b[0m\n",
            "\u001b[0;32m<ipython-input-13-1950c939c818>\u001b[0m in \u001b[0;36m<lambda>\u001b[0;34m(x)\u001b[0m\n\u001b[1;32m     31\u001b[0m \u001b[0;34m\u001b[0m\u001b[0m\n\u001b[1;32m     32\u001b[0m     \u001b[0mmost_relateds\u001b[0m \u001b[0;34m=\u001b[0m \u001b[0;34m[\u001b[0m\u001b[0;34m(\u001b[0m\u001b[0midx\u001b[0m\u001b[0;34m,\u001b[0m \u001b[0mpmi_ij\u001b[0m\u001b[0;34m)\u001b[0m \u001b[0;32mfor\u001b[0m \u001b[0midx\u001b[0m\u001b[0;34m,\u001b[0m \u001b[0mpmi_ij\u001b[0m \u001b[0;32min\u001b[0m \u001b[0mzip\u001b[0m\u001b[0;34m(\u001b[0m\u001b[0mcontexts\u001b[0m\u001b[0;34m,\u001b[0m \u001b[0mpmi_i\u001b[0m\u001b[0;34m)\u001b[0m\u001b[0;34m]\u001b[0m\u001b[0;34m\u001b[0m\u001b[0;34m\u001b[0m\u001b[0m\n\u001b[0;32m---> 33\u001b[0;31m     \u001b[0mmost_relateds\u001b[0m \u001b[0;34m=\u001b[0m \u001b[0msorted\u001b[0m\u001b[0;34m(\u001b[0m\u001b[0mmost_relateds\u001b[0m\u001b[0;34m,\u001b[0m \u001b[0mkey\u001b[0m\u001b[0;34m=\u001b[0m\u001b[0;32mlambda\u001b[0m \u001b[0mx\u001b[0m\u001b[0;34m:\u001b[0m\u001b[0;34m-\u001b[0m\u001b[0mx\u001b[0m\u001b[0;34m[\u001b[0m\u001b[0;36m1\u001b[0m\u001b[0;34m]\u001b[0m\u001b[0;34m)\u001b[0m\u001b[0;34m[\u001b[0m\u001b[0;34m:\u001b[0m\u001b[0mtopk\u001b[0m\u001b[0;34m]\u001b[0m\u001b[0;34m\u001b[0m\u001b[0;34m\u001b[0m\u001b[0m\n\u001b[0m\u001b[1;32m     34\u001b[0m     \u001b[0mmost_relateds\u001b[0m \u001b[0;34m=\u001b[0m \u001b[0;34m[\u001b[0m\u001b[0;34m[\u001b[0m\u001b[0midx\u001b[0m\u001b[0;34m,\u001b[0m \u001b[0mpmi_ij\u001b[0m\u001b[0;34m]\u001b[0m \u001b[0;32mfor\u001b[0m \u001b[0midx\u001b[0m\u001b[0;34m,\u001b[0m \u001b[0mpmi_ij\u001b[0m \u001b[0;32min\u001b[0m \u001b[0mmost_relateds\u001b[0m\u001b[0;34m]\u001b[0m\u001b[0;34m\u001b[0m\u001b[0;34m\u001b[0m\u001b[0m\n\u001b[1;32m     35\u001b[0m     \u001b[0mresults\u001b[0m \u001b[0;34m=\u001b[0m \u001b[0mnp\u001b[0m\u001b[0;34m.\u001b[0m\u001b[0marray\u001b[0m\u001b[0;34m(\u001b[0m\u001b[0mmost_relateds\u001b[0m\u001b[0;34m)\u001b[0m\u001b[0;34m\u001b[0m\u001b[0;34m\u001b[0m\u001b[0m\n",
            "\u001b[0;31mKeyboardInterrupt\u001b[0m: "
          ]
        }
      ],
      "source": [
        "from tqdm import tqdm\n",
        "import networkx as nx\n",
        "\n",
        "def plot_graph(node,graph_boundary=5) :\n",
        "    \"\"\"\n",
        "    node(int or float) : id of matrix\n",
        "    \"\"\"\n",
        "    context_words = pmi.context_words(node)\n",
        "    context_words = context_words[np.where(context_words[:,1] > graph_boundary),:][0]\n",
        "    CG.add_nodes_from(context_words[:,0])\n",
        "\n",
        "    if context_words.shape[0] == 0 :\n",
        "      return []\n",
        "\n",
        "    for Cword,degree in context_words :\n",
        "      CG.add_edge(node,Cword,weight=degree) \n",
        "    \n",
        "    return context_words[:,0]\n",
        "    # for id in context_words[:,0] :\n",
        "    #   plot_graph(id)\n",
        "\n",
        "seeds = ['자살', '자해', '살고싶어', '우울', '죽음']\n",
        "ids = pmi.word_to_idx(seeds)\n",
        "CG = nx.DiGraph()\n",
        "\n",
        "for seed in pmi.word_to_idx(seeds) :\n",
        "  CG.add_node(seed)\n",
        "  plot_graph(seed)\n",
        "  new_nodes = plot_graph(seed)\n",
        "  for new_node in tqdm(new_nodes) :\n",
        "    new_2_nodes = plot_graph(new_node)\n",
        "    for new_2_node in new_2_nodes :\n",
        "      new_3_nodes = plot_graph(new_2_node)\n",
        "      for new_3_node in new_3_nodes :\n",
        "        new_4_nodes = plot_graph(new_3_node)\n",
        "        for new_4_node in new_4_nodes :\n",
        "          new_5_nodes = plot_graph(new_4_node)\n",
        "          for new_5_node in new_5_nodes :\n",
        "            new_6_nodes = plot_graph(new_5_node)"
      ]
    },
    {
      "cell_type": "code",
      "execution_count": null,
      "metadata": {
        "id": "t8E_5SKbpCXN"
      },
      "outputs": [],
      "source": [
        "sys.getrecursionlimit()\n",
        "sys.setrecursionlimit(10**6)"
      ]
    },
    {
      "cell_type": "code",
      "execution_count": null,
      "metadata": {
        "colab": {
          "base_uri": "https://localhost:8080/"
        },
        "id": "ULYcvhjwpODr",
        "outputId": "1e9d0121-4f56-4897-89e8-143c60b6a818"
      },
      "outputs": [
        {
          "data": {
            "text/plain": [
              "1000000"
            ]
          },
          "execution_count": 103,
          "metadata": {},
          "output_type": "execute_result"
        }
      ],
      "source": [
        "sys.getrecursionlimit()"
      ]
    },
    {
      "cell_type": "code",
      "execution_count": null,
      "metadata": {
        "id": "GFz1wTtSSFBS"
      },
      "outputs": [],
      "source": [
        "g1.add_node(1)\n",
        "g1.add_nodes_from([2,7,3])\n",
        "g1.add_edge(1,\"a\")\n",
        "g1.add_edge(2,7,weight=3)\n",
        "g1.add_edges_from([(2,7),(1,\"a\")])"
      ]
    },
    {
      "cell_type": "code",
      "execution_count": null,
      "metadata": {
        "colab": {
          "base_uri": "https://localhost:8080/",
          "height": 319
        },
        "id": "805HizNteK6q",
        "outputId": "452229e2-add5-4907-f2bd-e4e1f1886d1b"
      },
      "outputs": [
        {
          "data": {
            "image/png": "[encoded data removed]",
            "text/plain": [
              "<Figure size 432x288 with 1 Axes>"
            ]
          },
          "metadata": {},
          "output_type": "display_data"
        }
      ],
      "source": [
        "nx.draw(CG)"
      ]
    },
    {
      "cell_type": "code",
      "execution_count": null,
      "metadata": {
        "colab": {
          "base_uri": "https://localhost:8080/"
        },
        "id": "szRm2VRneYhT",
        "outputId": "e68cd831-4470-41b7-cc38-c121e8ba8417"
      },
      "outputs": [
        {
          "data": {
            "text/plain": [
              "NodeView((1973.0, 25708.0, 29756.0, 47422.0, 26068.0, 35845.0, 4604.0, 33828.0, 42536.0, 48484.0, 36496.0, 35892.0, 45281.0, 4858.0, 31310.0, 31713.0, 35785.0, 34782.0, 31389.0, 30499.0, 36346.0, 42487.0, 39816.0, 35198.0, 46339.0, 44021.0, 44410.0, 46267.0, 39531.0, 7318.0, 17901.0, 12516.0, 6547.0, 1429.0, 39632.0, 31497.0, 8760.0, 436.0, 12407.0, 18010.0, 267, 30505.0, 41383.0, 33471.0, 36671.0, 23274.0, 43165.0, 16594.0, 23096.0, 36436.0, 46360.0, 1584))"
            ]
          },
          "execution_count": 74,
          "metadata": {},
          "output_type": "execute_result"
        }
      ],
      "source": [
        "CG.nodes"
      ]
    },
    {
      "cell_type": "code",
      "execution_count": null,
      "metadata": {
        "colab": {
          "base_uri": "https://localhost:8080/",
          "height": 802
        },
        "id": "TQ6s9o7yST_d",
        "outputId": "a0fcfe9f-727d-4deb-c1cc-3dc9cc4a02bd"
      },
      "outputs": [
        {
          "ename": "NetworkXError",
          "evalue": "ignored",
          "output_type": "error",
          "traceback": [
            "\u001b[0;31m---------------------------------------------------------------------------\u001b[0m",
            "\u001b[0;31mKeyError\u001b[0m                                  Traceback (most recent call last)",
            "\u001b[0;32m/usr/local/lib/python3.7/dist-packages/networkx/drawing/nx_pylab.py\u001b[0m in \u001b[0;36mdraw_networkx_nodes\u001b[0;34m(G, pos, nodelist, node_size, node_color, node_shape, alpha, cmap, vmin, vmax, ax, linewidths, edgecolors, label, margins)\u001b[0m\n\u001b[1;32m    453\u001b[0m     \u001b[0;32mtry\u001b[0m\u001b[0;34m:\u001b[0m\u001b[0;34m\u001b[0m\u001b[0;34m\u001b[0m\u001b[0m\n\u001b[0;32m--> 454\u001b[0;31m         \u001b[0mxy\u001b[0m \u001b[0;34m=\u001b[0m \u001b[0mnp\u001b[0m\u001b[0;34m.\u001b[0m\u001b[0masarray\u001b[0m\u001b[0;34m(\u001b[0m\u001b[0;34m[\u001b[0m\u001b[0mpos\u001b[0m\u001b[0;34m[\u001b[0m\u001b[0mv\u001b[0m\u001b[0;34m]\u001b[0m \u001b[0;32mfor\u001b[0m \u001b[0mv\u001b[0m \u001b[0;32min\u001b[0m \u001b[0mnodelist\u001b[0m\u001b[0;34m]\u001b[0m\u001b[0;34m)\u001b[0m\u001b[0;34m\u001b[0m\u001b[0;34m\u001b[0m\u001b[0m\n\u001b[0m\u001b[1;32m    455\u001b[0m     \u001b[0;32mexcept\u001b[0m \u001b[0mKeyError\u001b[0m \u001b[0;32mas\u001b[0m \u001b[0me\u001b[0m\u001b[0;34m:\u001b[0m\u001b[0;34m\u001b[0m\u001b[0;34m\u001b[0m\u001b[0m\n",
            "\u001b[0;32m/usr/local/lib/python3.7/dist-packages/networkx/drawing/nx_pylab.py\u001b[0m in \u001b[0;36m<listcomp>\u001b[0;34m(.0)\u001b[0m\n\u001b[1;32m    453\u001b[0m     \u001b[0;32mtry\u001b[0m\u001b[0;34m:\u001b[0m\u001b[0;34m\u001b[0m\u001b[0;34m\u001b[0m\u001b[0m\n\u001b[0;32m--> 454\u001b[0;31m         \u001b[0mxy\u001b[0m \u001b[0;34m=\u001b[0m \u001b[0mnp\u001b[0m\u001b[0;34m.\u001b[0m\u001b[0masarray\u001b[0m\u001b[0;34m(\u001b[0m\u001b[0;34m[\u001b[0m\u001b[0mpos\u001b[0m\u001b[0;34m[\u001b[0m\u001b[0mv\u001b[0m\u001b[0;34m]\u001b[0m \u001b[0;32mfor\u001b[0m \u001b[0mv\u001b[0m \u001b[0;32min\u001b[0m \u001b[0mnodelist\u001b[0m\u001b[0;34m]\u001b[0m\u001b[0;34m)\u001b[0m\u001b[0;34m\u001b[0m\u001b[0;34m\u001b[0m\u001b[0m\n\u001b[0m\u001b[1;32m    455\u001b[0m     \u001b[0;32mexcept\u001b[0m \u001b[0mKeyError\u001b[0m \u001b[0;32mas\u001b[0m \u001b[0me\u001b[0m\u001b[0;34m:\u001b[0m\u001b[0;34m\u001b[0m\u001b[0;34m\u001b[0m\u001b[0m\n",
            "\u001b[0;31mKeyError\u001b[0m: 1973.0",
            "\nThe above exception was the direct cause of the following exception:\n",
            "\u001b[0;31mNetworkXError\u001b[0m                             Traceback (most recent call last)",
            "\u001b[0;32m<ipython-input-72-d6a129b8bb7a>\u001b[0m in \u001b[0;36m<module>\u001b[0;34m\u001b[0m\n\u001b[1;32m      2\u001b[0m \u001b[0;31m# labels =nx.get_edge_attributes(CG,'weight')\u001b[0m\u001b[0;34m\u001b[0m\u001b[0;34m\u001b[0m\u001b[0;34m\u001b[0m\u001b[0m\n\u001b[1;32m      3\u001b[0m \u001b[0;31m# nx.draw_networkx_edge_labels(CG, pos, edge_labels = labels)\u001b[0m\u001b[0;34m\u001b[0m\u001b[0;34m\u001b[0m\u001b[0;34m\u001b[0m\u001b[0m\n\u001b[0;32m----> 4\u001b[0;31m \u001b[0mnx\u001b[0m\u001b[0;34m.\u001b[0m\u001b[0mdraw\u001b[0m\u001b[0;34m(\u001b[0m\u001b[0mCG\u001b[0m\u001b[0;34m,\u001b[0m \u001b[0mpos\u001b[0m\u001b[0;34m,\u001b[0m\u001b[0mwith_labels\u001b[0m \u001b[0;34m=\u001b[0m \u001b[0;32mTrue\u001b[0m\u001b[0;34m,\u001b[0m \u001b[0mfont_weight\u001b[0m \u001b[0;34m=\u001b[0m \u001b[0;34m\"bold\"\u001b[0m\u001b[0;34m)\u001b[0m\u001b[0;34m\u001b[0m\u001b[0;34m\u001b[0m\u001b[0m\n\u001b[0m",
            "\u001b[0;32m/usr/local/lib/python3.7/dist-packages/networkx/drawing/nx_pylab.py\u001b[0m in \u001b[0;36mdraw\u001b[0;34m(G, pos, ax, **kwds)\u001b[0m\n\u001b[1;32m    119\u001b[0m         \u001b[0mkwds\u001b[0m\u001b[0;34m[\u001b[0m\u001b[0;34m\"with_labels\"\u001b[0m\u001b[0;34m]\u001b[0m \u001b[0;34m=\u001b[0m \u001b[0;34m\"labels\"\u001b[0m \u001b[0;32min\u001b[0m \u001b[0mkwds\u001b[0m\u001b[0;34m\u001b[0m\u001b[0;34m\u001b[0m\u001b[0m\n\u001b[1;32m    120\u001b[0m \u001b[0;34m\u001b[0m\u001b[0m\n\u001b[0;32m--> 121\u001b[0;31m     \u001b[0mdraw_networkx\u001b[0m\u001b[0;34m(\u001b[0m\u001b[0mG\u001b[0m\u001b[0;34m,\u001b[0m \u001b[0mpos\u001b[0m\u001b[0;34m=\u001b[0m\u001b[0mpos\u001b[0m\u001b[0;34m,\u001b[0m \u001b[0max\u001b[0m\u001b[0;34m=\u001b[0m\u001b[0max\u001b[0m\u001b[0;34m,\u001b[0m \u001b[0;34m**\u001b[0m\u001b[0mkwds\u001b[0m\u001b[0;34m)\u001b[0m\u001b[0;34m\u001b[0m\u001b[0;34m\u001b[0m\u001b[0m\n\u001b[0m\u001b[1;32m    122\u001b[0m     \u001b[0max\u001b[0m\u001b[0;34m.\u001b[0m\u001b[0mset_axis_off\u001b[0m\u001b[0;34m(\u001b[0m\u001b[0;34m)\u001b[0m\u001b[0;34m\u001b[0m\u001b[0;34m\u001b[0m\u001b[0m\n\u001b[1;32m    123\u001b[0m     \u001b[0mplt\u001b[0m\u001b[0;34m.\u001b[0m\u001b[0mdraw_if_interactive\u001b[0m\u001b[0;34m(\u001b[0m\u001b[0;34m)\u001b[0m\u001b[0;34m\u001b[0m\u001b[0;34m\u001b[0m\u001b[0m\n",
            "\u001b[0;32m/usr/local/lib/python3.7/dist-packages/networkx/drawing/nx_pylab.py\u001b[0m in \u001b[0;36mdraw_networkx\u001b[0;34m(G, pos, arrows, with_labels, **kwds)\u001b[0m\n\u001b[1;32m    331\u001b[0m         \u001b[0mpos\u001b[0m \u001b[0;34m=\u001b[0m \u001b[0mnx\u001b[0m\u001b[0;34m.\u001b[0m\u001b[0mdrawing\u001b[0m\u001b[0;34m.\u001b[0m\u001b[0mspring_layout\u001b[0m\u001b[0;34m(\u001b[0m\u001b[0mG\u001b[0m\u001b[0;34m)\u001b[0m  \u001b[0;31m# default to spring layout\u001b[0m\u001b[0;34m\u001b[0m\u001b[0;34m\u001b[0m\u001b[0m\n\u001b[1;32m    332\u001b[0m \u001b[0;34m\u001b[0m\u001b[0m\n\u001b[0;32m--> 333\u001b[0;31m     \u001b[0mdraw_networkx_nodes\u001b[0m\u001b[0;34m(\u001b[0m\u001b[0mG\u001b[0m\u001b[0;34m,\u001b[0m \u001b[0mpos\u001b[0m\u001b[0;34m,\u001b[0m \u001b[0;34m**\u001b[0m\u001b[0mnode_kwds\u001b[0m\u001b[0;34m)\u001b[0m\u001b[0;34m\u001b[0m\u001b[0;34m\u001b[0m\u001b[0m\n\u001b[0m\u001b[1;32m    334\u001b[0m     \u001b[0mdraw_networkx_edges\u001b[0m\u001b[0;34m(\u001b[0m\u001b[0mG\u001b[0m\u001b[0;34m,\u001b[0m \u001b[0mpos\u001b[0m\u001b[0;34m,\u001b[0m \u001b[0marrows\u001b[0m\u001b[0;34m=\u001b[0m\u001b[0marrows\u001b[0m\u001b[0;34m,\u001b[0m \u001b[0;34m**\u001b[0m\u001b[0medge_kwds\u001b[0m\u001b[0;34m)\u001b[0m\u001b[0;34m\u001b[0m\u001b[0;34m\u001b[0m\u001b[0m\n\u001b[1;32m    335\u001b[0m     \u001b[0;32mif\u001b[0m \u001b[0mwith_labels\u001b[0m\u001b[0;34m:\u001b[0m\u001b[0;34m\u001b[0m\u001b[0;34m\u001b[0m\u001b[0m\n",
            "\u001b[0;32m/usr/local/lib/python3.7/dist-packages/networkx/drawing/nx_pylab.py\u001b[0m in \u001b[0;36mdraw_networkx_nodes\u001b[0;34m(G, pos, nodelist, node_size, node_color, node_shape, alpha, cmap, vmin, vmax, ax, linewidths, edgecolors, label, margins)\u001b[0m\n\u001b[1;32m    454\u001b[0m         \u001b[0mxy\u001b[0m \u001b[0;34m=\u001b[0m \u001b[0mnp\u001b[0m\u001b[0;34m.\u001b[0m\u001b[0masarray\u001b[0m\u001b[0;34m(\u001b[0m\u001b[0;34m[\u001b[0m\u001b[0mpos\u001b[0m\u001b[0;34m[\u001b[0m\u001b[0mv\u001b[0m\u001b[0;34m]\u001b[0m \u001b[0;32mfor\u001b[0m \u001b[0mv\u001b[0m \u001b[0;32min\u001b[0m \u001b[0mnodelist\u001b[0m\u001b[0;34m]\u001b[0m\u001b[0;34m)\u001b[0m\u001b[0;34m\u001b[0m\u001b[0;34m\u001b[0m\u001b[0m\n\u001b[1;32m    455\u001b[0m     \u001b[0;32mexcept\u001b[0m \u001b[0mKeyError\u001b[0m \u001b[0;32mas\u001b[0m \u001b[0me\u001b[0m\u001b[0;34m:\u001b[0m\u001b[0;34m\u001b[0m\u001b[0;34m\u001b[0m\u001b[0m\n\u001b[0;32m--> 456\u001b[0;31m         \u001b[0;32mraise\u001b[0m \u001b[0mnx\u001b[0m\u001b[0;34m.\u001b[0m\u001b[0mNetworkXError\u001b[0m\u001b[0;34m(\u001b[0m\u001b[0;34mf\"Node {e} has no position.\"\u001b[0m\u001b[0;34m)\u001b[0m \u001b[0;32mfrom\u001b[0m \u001b[0me\u001b[0m\u001b[0;34m\u001b[0m\u001b[0;34m\u001b[0m\u001b[0m\n\u001b[0m\u001b[1;32m    457\u001b[0m \u001b[0;34m\u001b[0m\u001b[0m\n\u001b[1;32m    458\u001b[0m     \u001b[0;32mif\u001b[0m \u001b[0misinstance\u001b[0m\u001b[0;34m(\u001b[0m\u001b[0malpha\u001b[0m\u001b[0;34m,\u001b[0m \u001b[0mIterable\u001b[0m\u001b[0;34m)\u001b[0m\u001b[0;34m:\u001b[0m\u001b[0;34m\u001b[0m\u001b[0;34m\u001b[0m\u001b[0m\n",
            "\u001b[0;31mNetworkXError\u001b[0m: Node 1973.0 has no position."
          ]
        },
        {
          "data": {
            "image/png": "[encoded data removed]",
            "text/plain": [
              "<Figure size 432x288 with 1 Axes>"
            ]
          },
          "metadata": {},
          "output_type": "display_data"
        }
      ],
      "source": [
        "# pos = nx.spring_layout(CG) \n",
        "# labels =nx.get_edge_attributes(CG,'weight')\n",
        "# nx.draw_networkx_edge_labels(CG, pos, edge_labels = labels) \n",
        "nx.draw(CG, pos,with_labels = True, font_weight = \"bold\") "
      ]
    },
    {
      "cell_type": "code",
      "execution_count": null,
      "metadata": {
        "id": "otTUSz-7OvLK"
      },
      "outputs": [],
      "source": [
        "\n",
        "\"\"\"\n",
        "input : sentence\n",
        "output : a number\n",
        "\"\"\"\n",
        "# word = ''\n",
        "# alpha = 0.1 # context 2단계로 넘어갈 때\n",
        "# first_C_words = pmi.context_words(word,10)\n",
        "# second_C_words = [alpha * first_word for word in first_C_words"
      ]
    },
    {
      "cell_type": "code",
      "execution_count": null,
      "metadata": {
        "colab": {
          "base_uri": "https://localhost:8080/"
        },
        "id": "1X8rfNt8OEio",
        "outputId": "d3d16a9f-c347-4720-8d31-b5de2269e860"
      },
      "outputs": [
        {
          "data": {
            "text/plain": [
              "[('도피', 6.844622458591964),\n",
              " ('삵', 6.031369397834147),\n",
              " ('살고싶은데', 5.772712722570554),\n",
              " ('뽁뽁', 5.685233690813876),\n",
              " ('했데', 5.524714801301454),\n",
              " ('좆피', 5.288600593862374),\n",
              " ('자살', 5.274353861018971),\n",
              " ('머애', 5.262282104003921),\n",
              " ('은부', 5.249461278984446),\n",
              " ('대왕고래', 5.23685594024716)]"
            ]
          },
          "execution_count": 18,
          "metadata": {},
          "output_type": "execute_result"
        }
      ],
      "source": [
        "pmi.context_words('자살',10)"
      ]
    },
    {
      "cell_type": "code",
      "execution_count": null,
      "metadata": {
        "colab": {
          "base_uri": "https://localhost:8080/"
        },
        "id": "ql9ak6d4OZ1t",
        "outputId": "b13f1caa-c41b-455e-a5a5-6ace69302384"
      },
      "outputs": [
        {
          "data": {
            "text/plain": [
              "[('도피', 0.1711917538845089),\n",
              " ('살자', 0.10171809134334331),\n",
              " ('고독사', 0.10088364343665246),\n",
              " ('ㅈㅏ', 0.09487142734684706),\n",
              " ('시도', 0.09244949903860067),\n",
              " ('자퇴', 0.09209061439356447),\n",
              " ('하지말라고', 0.08980970238880681),\n",
              " ('언급', 0.0893938727791479),\n",
              " ('섹스', 0.08623966165311425),\n",
              " ('입원', 0.08578130573074016)]"
            ]
          },
          "execution_count": 19,
          "metadata": {},
          "output_type": "execute_result"
        }
      ],
      "source": [
        "pmi.similar_words('자살')"
      ]
    },
    {
      "cell_type": "code",
      "execution_count": null,
      "metadata": {
        "id": "DDGydOyqgUtJ"
      },
      "outputs": [],
      "source": [
        "\"\"\"\n",
        "PMI 그래프 가져와서.\n",
        "sentence -> tokenizer -> graph 에 넣음 -> 각 키워드 \n",
        "키워드 별 연관 지수(graph에서 몇단계 + 몇등) 다 더하기 -> 단순하게 -> 만드는 게 중요 진짜로.\n",
        "threshold 만 정해서 yes or no.\n",
        "\"\"\"\n",
        "def \n",
        "depressed_rate = \"\""
      ]
    },
    {
      "cell_type": "markdown",
      "metadata": {
        "id": "1mdkurjD1Mik"
      },
      "source": [
        "### 게시물들은 __언제__, 얼마나 작성되었을까?"
      ]
    },
    {
      "cell_type": "code",
      "execution_count": null,
      "metadata": {
        "id": "369dCoqykB4M"
      },
      "outputs": [],
      "source": []
    },
    {
      "cell_type": "code",
      "execution_count": null,
      "metadata": {
        "colab": {
          "base_uri": "https://localhost:8080/",
          "height": 455
        },
        "id": "PGNbHS3O6JtH",
        "outputId": "43452a7a-f7b7-4748-e47b-28b411ccb401"
      },
      "outputs": [
        {
          "data": {
            "text/html": [
              "\n",
              "  <div id=\"df-d88f4b29-aa92-4bf8-b52a-0b9c79f41985\">\n",
              "    <div class=\"colab-df-container\">\n",
              "      <div>\n",
              "<style scoped>\n",
              "    .dataframe tbody tr th:only-of-type {\n",
              "        vertical-align: middle;\n",
              "    }\n",
              "\n",
              "    .dataframe tbody tr th {\n",
              "        vertical-align: top;\n",
              "    }\n",
              "\n",
              "    .dataframe thead th {\n",
              "        text-align: right;\n",
              "    }\n",
              "</style>\n",
              "<table border=\"1\" class=\"dataframe\">\n",
              "  <thead>\n",
              "    <tr style=\"text-align: right;\">\n",
              "      <th></th>\n",
              "      <th></th>\n",
              "      <th>title</th>\n",
              "      <th>link</th>\n",
              "    </tr>\n",
              "    <tr>\n",
              "      <th>date</th>\n",
              "      <th>author</th>\n",
              "      <th></th>\n",
              "      <th></th>\n",
              "    </tr>\n",
              "  </thead>\n",
              "  <tbody>\n",
              "    <tr>\n",
              "      <th rowspan=\"5\" valign=\"top\">2021-03-03</th>\n",
              "      <th>..(106.101)</th>\n",
              "      <td>아직 어려서 그런지 .외향 적성격 은 변하 지 않는다쩜쩜 는아 시발님 솔직히한 달 ...</td>\n",
              "      <td>https://m.dcinside.com/board/depression_new1/4...</td>\n",
              "    </tr>\n",
              "    <tr>\n",
              "      <th>..(117.111)</th>\n",
              "      <td>아시 발</td>\n",
              "      <td>https://m.dcinside.com/board/depression_new1/9...</td>\n",
              "    </tr>\n",
              "    <tr>\n",
              "      <th>..(182.213)</th>\n",
              "      <td>ㅠㅡㅠ외로 와븅신 가 틈오늘 테 스 스커트 입었 어주 1회 외출 제한 ,집중 이 넘...</td>\n",
              "      <td>https://m.dcinside.com/board/depression_new1/3...</td>\n",
              "    </tr>\n",
              "    <tr>\n",
              "      <th>176(92.38)</th>\n",
              "      <td>나 몸팔 아 본적 있음</td>\n",
              "      <td>https://m.dcinside.com/board/depression_new1/3...</td>\n",
              "    </tr>\n",
              "    <tr>\n",
              "      <th>234235</th>\n",
              "      <td>울 갤 왜 폐쇄 됐냐 ㅡㅡ 형 뒤짐형 여 갤러 가 결혼 해 즈 면 존나 잘 해 줄거...</td>\n",
              "      <td>https://m.dcinside.com/board/depression_new1/8...</td>\n",
              "    </tr>\n",
              "    <tr>\n",
              "      <th>...</th>\n",
              "      <th>...</th>\n",
              "      <td>...</td>\n",
              "      <td>...</td>\n",
              "    </tr>\n",
              "    <tr>\n",
              "      <th rowspan=\"5\" valign=\"top\">2022-10-27</th>\n",
              "      <th>햄이브</th>\n",
              "      <td>즐거운 수학여행나 연애 할 사람버스 노래 틀 떼창 하면서 간다아 미친 제육 볶음 개...</td>\n",
              "      <td>https://m.dcinside.com/board/depression_new1/4...</td>\n",
              "    </tr>\n",
              "    <tr>\n",
              "      <th>헤으응만두(211.36)</th>\n",
              "      <td>간만 입니다 . 조만간 식 올릴것 같습니다</td>\n",
              "      <td>https://m.dcinside.com/board/depression_new1/4...</td>\n",
              "    </tr>\n",
              "    <tr>\n",
              "      <th>헬더구</th>\n",
              "      <td>술 먹든 호캉스 를 하든 게임 하든 멀하든 재미 가 없다피방 옆 커플 들 싸우고 잇...</td>\n",
              "      <td>https://m.dcinside.com/board/depression_new1/4...</td>\n",
              "    </tr>\n",
              "    <tr>\n",
              "      <th>히코.</th>\n",
              "      <td>하루 한번 워뇽 직캠 봄여자 는 필라테스 의무 교육 시켜 야함워뇽 다리 길이 체감 ...</td>\n",
              "      <td>https://m.dcinside.com/board/depression_new1/4...</td>\n",
              "    </tr>\n",
              "    <tr>\n",
              "      <th>힌개미</th>\n",
              "      <td>구스구스덕 하실 분할거 없으 신분 들어와 보삼나 구 구덕 할 친구 없구나 ...구 ...</td>\n",
              "      <td>https://m.dcinside.com/board/depression_new1/4...</td>\n",
              "    </tr>\n",
              "  </tbody>\n",
              "</table>\n",
              "<p>218921 rows × 2 columns</p>\n",
              "</div>\n",
              "      <button class=\"colab-df-convert\" onclick=\"convertToInteractive('df-d88f4b29-aa92-4bf8-b52a-0b9c79f41985')\"\n",
              "              title=\"Convert this dataframe to an interactive table.\"\n",
              "              style=\"display:none;\">\n",
              "        \n",
              "  <svg xmlns=\"http://www.w3.org/2000/svg\" height=\"24px\"viewBox=\"0 0 24 24\"\n",
              "       width=\"24px\">\n",
              "    <path d=\"M0 0h24v24H0V0z\" fill=\"none\"/>\n",
              "    <path d=\"M18.56 5.44l.94 2.06.94-2.06 2.06-.94-2.06-.94-.94-2.06-.94 2.06-2.06.94zm-11 1L8.5 8.5l.94-2.06 2.06-.94-2.06-.94L8.5 2.5l-.94 2.06-2.06.94zm10 10l.94 2.06.94-2.06 2.06-.94-2.06-.94-.94-2.06-.94 2.06-2.06.94z\"/><path d=\"M17.41 7.96l-1.37-1.37c-.4-.4-.92-.59-1.43-.59-.52 0-1.04.2-1.43.59L10.3 9.45l-7.72 7.72c-.78.78-.78 2.05 0 2.83L4 21.41c.39.39.9.59 1.41.59.51 0 1.02-.2 1.41-.59l7.78-7.78 2.81-2.81c.8-.78.8-2.07 0-2.86zM5.41 20L4 18.59l7.72-7.72 1.47 1.35L5.41 20z\"/>\n",
              "  </svg>\n",
              "      </button>\n",
              "      \n",
              "  <style>\n",
              "    .colab-df-container {\n",
              "      display:flex;\n",
              "      flex-wrap:wrap;\n",
              "      gap: 12px;\n",
              "    }\n",
              "\n",
              "    .colab-df-convert {\n",
              "      background-color: #E8F0FE;\n",
              "      border: none;\n",
              "      border-radius: 50%;\n",
              "      cursor: pointer;\n",
              "      display: none;\n",
              "      fill: #1967D2;\n",
              "      height: 32px;\n",
              "      padding: 0 0 0 0;\n",
              "      width: 32px;\n",
              "    }\n",
              "\n",
              "    .colab-df-convert:hover {\n",
              "      background-color: #E2EBFA;\n",
              "      box-shadow: 0px 1px 2px rgba(60, 64, 67, 0.3), 0px 1px 3px 1px rgba(60, 64, 67, 0.15);\n",
              "      fill: #174EA6;\n",
              "    }\n",
              "\n",
              "    [theme=dark] .colab-df-convert {\n",
              "      background-color: #3B4455;\n",
              "      fill: #D2E3FC;\n",
              "    }\n",
              "\n",
              "    [theme=dark] .colab-df-convert:hover {\n",
              "      background-color: #434B5C;\n",
              "      box-shadow: 0px 1px 3px 1px rgba(0, 0, 0, 0.15);\n",
              "      filter: drop-shadow(0px 1px 2px rgba(0, 0, 0, 0.3));\n",
              "      fill: #FFFFFF;\n",
              "    }\n",
              "  </style>\n",
              "\n",
              "      <script>\n",
              "        const buttonEl =\n",
              "          document.querySelector('#df-d88f4b29-aa92-4bf8-b52a-0b9c79f41985 button.colab-df-convert');\n",
              "        buttonEl.style.display =\n",
              "          google.colab.kernel.accessAllowed ? 'block' : 'none';\n",
              "\n",
              "        async function convertToInteractive(key) {\n",
              "          const element = document.querySelector('#df-d88f4b29-aa92-4bf8-b52a-0b9c79f41985');\n",
              "          const dataTable =\n",
              "            await google.colab.kernel.invokeFunction('convertToInteractive',\n",
              "                                                     [key], {});\n",
              "          if (!dataTable) return;\n",
              "\n",
              "          const docLinkHtml = 'Like what you see? Visit the ' +\n",
              "            '<a target=\"_blank\" href=https://colab.research.google.com/notebooks/data_table.ipynb>data table notebook</a>'\n",
              "            + ' to learn more about interactive tables.';\n",
              "          element.innerHTML = '';\n",
              "          dataTable['output_type'] = 'display_data';\n",
              "          await google.colab.output.renderOutput(dataTable, element);\n",
              "          const docLink = document.createElement('div');\n",
              "          docLink.innerHTML = docLinkHtml;\n",
              "          element.appendChild(docLink);\n",
              "        }\n",
              "      </script>\n",
              "    </div>\n",
              "  </div>\n",
              "  "
            ],
            "text/plain": [
              "                                                                      title  \\\n",
              "date       author                                                             \n",
              "2021-03-03 ..(106.101)    아직 어려서 그런지 .외향 적성격 은 변하 지 않는다쩜쩜 는아 시발님 솔직히한 달 ...   \n",
              "           ..(117.111)                                                 아시 발   \n",
              "           ..(182.213)    ㅠㅡㅠ외로 와븅신 가 틈오늘 테 스 스커트 입었 어주 1회 외출 제한 ,집중 이 넘...   \n",
              "           176(92.38)                                          나 몸팔 아 본적 있음   \n",
              "           234235         울 갤 왜 폐쇄 됐냐 ㅡㅡ 형 뒤짐형 여 갤러 가 결혼 해 즈 면 존나 잘 해 줄거...   \n",
              "...                                                                     ...   \n",
              "2022-10-27 햄이브            즐거운 수학여행나 연애 할 사람버스 노래 틀 떼창 하면서 간다아 미친 제육 볶음 개...   \n",
              "           헤으응만두(211.36)                            간만 입니다 . 조만간 식 올릴것 같습니다   \n",
              "           헬더구            술 먹든 호캉스 를 하든 게임 하든 멀하든 재미 가 없다피방 옆 커플 들 싸우고 잇...   \n",
              "           히코.            하루 한번 워뇽 직캠 봄여자 는 필라테스 의무 교육 시켜 야함워뇽 다리 길이 체감 ...   \n",
              "           힌개미            구스구스덕 하실 분할거 없으 신분 들어와 보삼나 구 구덕 할 친구 없구나 ...구 ...   \n",
              "\n",
              "                                                                       link  \n",
              "date       author                                                            \n",
              "2021-03-03 ..(106.101)    https://m.dcinside.com/board/depression_new1/4...  \n",
              "           ..(117.111)    https://m.dcinside.com/board/depression_new1/9...  \n",
              "           ..(182.213)    https://m.dcinside.com/board/depression_new1/3...  \n",
              "           176(92.38)     https://m.dcinside.com/board/depression_new1/3...  \n",
              "           234235         https://m.dcinside.com/board/depression_new1/8...  \n",
              "...                                                                     ...  \n",
              "2022-10-27 햄이브            https://m.dcinside.com/board/depression_new1/4...  \n",
              "           헤으응만두(211.36)  https://m.dcinside.com/board/depression_new1/4...  \n",
              "           헬더구            https://m.dcinside.com/board/depression_new1/4...  \n",
              "           히코.            https://m.dcinside.com/board/depression_new1/4...  \n",
              "           힌개미            https://m.dcinside.com/board/depression_new1/4...  \n",
              "\n",
              "[218921 rows x 2 columns]"
            ]
          },
          "execution_count": 94,
          "metadata": {},
          "output_type": "execute_result"
        }
      ],
      "source": [
        "# 분석에 앞서, 멀티 인덱스 DF 생성\n",
        "\n",
        "df = data.set_index('id').copy()\n",
        "df = df.set_index(['date','author'])\n",
        "group_by_title_sum = df.groupby(level=['date', 'author']).sum()\n",
        "group_by_count = df.groupby(level=['date', 'author']).count()\n",
        "group_by_title_sum"
      ]
    },
    {
      "cell_type": "code",
      "execution_count": null,
      "metadata": {
        "colab": {
          "base_uri": "https://localhost:8080/",
          "height": 455
        },
        "id": "JMVhNb4DjweF",
        "outputId": "63ef4035-c699-4560-b074-409c6ec0f407"
      },
      "outputs": [
        {
          "data": {
            "text/html": [
              "\n",
              "  <div id=\"df-ad659121-b502-4647-aacd-a0642ee64cfb\">\n",
              "    <div class=\"colab-df-container\">\n",
              "      <div>\n",
              "<style scoped>\n",
              "    .dataframe tbody tr th:only-of-type {\n",
              "        vertical-align: middle;\n",
              "    }\n",
              "\n",
              "    .dataframe tbody tr th {\n",
              "        vertical-align: top;\n",
              "    }\n",
              "\n",
              "    .dataframe thead th {\n",
              "        text-align: right;\n",
              "    }\n",
              "</style>\n",
              "<table border=\"1\" class=\"dataframe\">\n",
              "  <thead>\n",
              "    <tr style=\"text-align: right;\">\n",
              "      <th></th>\n",
              "      <th></th>\n",
              "      <th>title</th>\n",
              "      <th>link</th>\n",
              "    </tr>\n",
              "    <tr>\n",
              "      <th>date</th>\n",
              "      <th>author</th>\n",
              "      <th></th>\n",
              "      <th></th>\n",
              "    </tr>\n",
              "  </thead>\n",
              "  <tbody>\n",
              "    <tr>\n",
              "      <th rowspan=\"5\" valign=\"top\">2021-03-03</th>\n",
              "      <th>..(106.101)</th>\n",
              "      <td>30</td>\n",
              "      <td>30</td>\n",
              "    </tr>\n",
              "    <tr>\n",
              "      <th>..(117.111)</th>\n",
              "      <td>1</td>\n",
              "      <td>1</td>\n",
              "    </tr>\n",
              "    <tr>\n",
              "      <th>..(182.213)</th>\n",
              "      <td>7</td>\n",
              "      <td>7</td>\n",
              "    </tr>\n",
              "    <tr>\n",
              "      <th>176(92.38)</th>\n",
              "      <td>1</td>\n",
              "      <td>1</td>\n",
              "    </tr>\n",
              "    <tr>\n",
              "      <th>234235</th>\n",
              "      <td>54</td>\n",
              "      <td>54</td>\n",
              "    </tr>\n",
              "    <tr>\n",
              "      <th>...</th>\n",
              "      <th>...</th>\n",
              "      <td>...</td>\n",
              "      <td>...</td>\n",
              "    </tr>\n",
              "    <tr>\n",
              "      <th rowspan=\"5\" valign=\"top\">2022-10-27</th>\n",
              "      <th>햄이브</th>\n",
              "      <td>12</td>\n",
              "      <td>12</td>\n",
              "    </tr>\n",
              "    <tr>\n",
              "      <th>헤으응만두(211.36)</th>\n",
              "      <td>1</td>\n",
              "      <td>1</td>\n",
              "    </tr>\n",
              "    <tr>\n",
              "      <th>헬더구</th>\n",
              "      <td>16</td>\n",
              "      <td>16</td>\n",
              "    </tr>\n",
              "    <tr>\n",
              "      <th>히코.</th>\n",
              "      <td>22</td>\n",
              "      <td>22</td>\n",
              "    </tr>\n",
              "    <tr>\n",
              "      <th>힌개미</th>\n",
              "      <td>12</td>\n",
              "      <td>12</td>\n",
              "    </tr>\n",
              "  </tbody>\n",
              "</table>\n",
              "<p>218921 rows × 2 columns</p>\n",
              "</div>\n",
              "      <button class=\"colab-df-convert\" onclick=\"convertToInteractive('df-ad659121-b502-4647-aacd-a0642ee64cfb')\"\n",
              "              title=\"Convert this dataframe to an interactive table.\"\n",
              "              style=\"display:none;\">\n",
              "        \n",
              "  <svg xmlns=\"http://www.w3.org/2000/svg\" height=\"24px\"viewBox=\"0 0 24 24\"\n",
              "       width=\"24px\">\n",
              "    <path d=\"M0 0h24v24H0V0z\" fill=\"none\"/>\n",
              "    <path d=\"M18.56 5.44l.94 2.06.94-2.06 2.06-.94-2.06-.94-.94-2.06-.94 2.06-2.06.94zm-11 1L8.5 8.5l.94-2.06 2.06-.94-2.06-.94L8.5 2.5l-.94 2.06-2.06.94zm10 10l.94 2.06.94-2.06 2.06-.94-2.06-.94-.94-2.06-.94 2.06-2.06.94z\"/><path d=\"M17.41 7.96l-1.37-1.37c-.4-.4-.92-.59-1.43-.59-.52 0-1.04.2-1.43.59L10.3 9.45l-7.72 7.72c-.78.78-.78 2.05 0 2.83L4 21.41c.39.39.9.59 1.41.59.51 0 1.02-.2 1.41-.59l7.78-7.78 2.81-2.81c.8-.78.8-2.07 0-2.86zM5.41 20L4 18.59l7.72-7.72 1.47 1.35L5.41 20z\"/>\n",
              "  </svg>\n",
              "      </button>\n",
              "      \n",
              "  <style>\n",
              "    .colab-df-container {\n",
              "      display:flex;\n",
              "      flex-wrap:wrap;\n",
              "      gap: 12px;\n",
              "    }\n",
              "\n",
              "    .colab-df-convert {\n",
              "      background-color: #E8F0FE;\n",
              "      border: none;\n",
              "      border-radius: 50%;\n",
              "      cursor: pointer;\n",
              "      display: none;\n",
              "      fill: #1967D2;\n",
              "      height: 32px;\n",
              "      padding: 0 0 0 0;\n",
              "      width: 32px;\n",
              "    }\n",
              "\n",
              "    .colab-df-convert:hover {\n",
              "      background-color: #E2EBFA;\n",
              "      box-shadow: 0px 1px 2px rgba(60, 64, 67, 0.3), 0px 1px 3px 1px rgba(60, 64, 67, 0.15);\n",
              "      fill: #174EA6;\n",
              "    }\n",
              "\n",
              "    [theme=dark] .colab-df-convert {\n",
              "      background-color: #3B4455;\n",
              "      fill: #D2E3FC;\n",
              "    }\n",
              "\n",
              "    [theme=dark] .colab-df-convert:hover {\n",
              "      background-color: #434B5C;\n",
              "      box-shadow: 0px 1px 3px 1px rgba(0, 0, 0, 0.15);\n",
              "      filter: drop-shadow(0px 1px 2px rgba(0, 0, 0, 0.3));\n",
              "      fill: #FFFFFF;\n",
              "    }\n",
              "  </style>\n",
              "\n",
              "      <script>\n",
              "        const buttonEl =\n",
              "          document.querySelector('#df-ad659121-b502-4647-aacd-a0642ee64cfb button.colab-df-convert');\n",
              "        buttonEl.style.display =\n",
              "          google.colab.kernel.accessAllowed ? 'block' : 'none';\n",
              "\n",
              "        async function convertToInteractive(key) {\n",
              "          const element = document.querySelector('#df-ad659121-b502-4647-aacd-a0642ee64cfb');\n",
              "          const dataTable =\n",
              "            await google.colab.kernel.invokeFunction('convertToInteractive',\n",
              "                                                     [key], {});\n",
              "          if (!dataTable) return;\n",
              "\n",
              "          const docLinkHtml = 'Like what you see? Visit the ' +\n",
              "            '<a target=\"_blank\" href=https://colab.research.google.com/notebooks/data_table.ipynb>data table notebook</a>'\n",
              "            + ' to learn more about interactive tables.';\n",
              "          element.innerHTML = '';\n",
              "          dataTable['output_type'] = 'display_data';\n",
              "          await google.colab.output.renderOutput(dataTable, element);\n",
              "          const docLink = document.createElement('div');\n",
              "          docLink.innerHTML = docLinkHtml;\n",
              "          element.appendChild(docLink);\n",
              "        }\n",
              "      </script>\n",
              "    </div>\n",
              "  </div>\n",
              "  "
            ],
            "text/plain": [
              "                          title  link\n",
              "date       author                    \n",
              "2021-03-03 ..(106.101)       30    30\n",
              "           ..(117.111)        1     1\n",
              "           ..(182.213)        7     7\n",
              "           176(92.38)         1     1\n",
              "           234235            54    54\n",
              "...                         ...   ...\n",
              "2022-10-27 햄이브               12    12\n",
              "           헤으응만두(211.36)      1     1\n",
              "           헬더구               16    16\n",
              "           히코.               22    22\n",
              "           힌개미               12    12\n",
              "\n",
              "[218921 rows x 2 columns]"
            ]
          },
          "execution_count": 95,
          "metadata": {},
          "output_type": "execute_result"
        }
      ],
      "source": [
        "group_by_count"
      ]
    },
    {
      "cell_type": "code",
      "execution_count": null,
      "metadata": {
        "colab": {
          "base_uri": "https://localhost:8080/",
          "height": 390
        },
        "id": "lptdqGvFkD9L",
        "outputId": "8d54d0b1-e428-44db-d148-362ee84337f0"
      },
      "outputs": [
        {
          "ename": "ValueError",
          "evalue": "ignored",
          "output_type": "error",
          "traceback": [
            "\u001b[0;31m---------------------------------------------------------------------------\u001b[0m",
            "\u001b[0;31mValueError\u001b[0m                                Traceback (most recent call last)",
            "\u001b[0;32m<ipython-input-114-2f124ea82c49>\u001b[0m in \u001b[0;36m<module>\u001b[0;34m\u001b[0m\n\u001b[1;32m      1\u001b[0m \u001b[0mdf\u001b[0m \u001b[0;34m=\u001b[0m \u001b[0mdata\u001b[0m\u001b[0;34m.\u001b[0m\u001b[0mcopy\u001b[0m\u001b[0;34m(\u001b[0m\u001b[0;34m)\u001b[0m\u001b[0;34m\u001b[0m\u001b[0;34m\u001b[0m\u001b[0m\n\u001b[1;32m      2\u001b[0m \u001b[0mdf\u001b[0m\u001b[0;34m.\u001b[0m\u001b[0mdate\u001b[0m \u001b[0;34m=\u001b[0m \u001b[0mdata\u001b[0m\u001b[0;34m.\u001b[0m\u001b[0mdate\u001b[0m\u001b[0;34m.\u001b[0m\u001b[0mdt\u001b[0m\u001b[0;34m.\u001b[0m\u001b[0mmonth\u001b[0m\u001b[0;34m\u001b[0m\u001b[0;34m\u001b[0m\u001b[0m\n\u001b[0;32m----> 3\u001b[0;31m \u001b[0mdf\u001b[0m \u001b[0;34m=\u001b[0m \u001b[0mdf\u001b[0m\u001b[0;34m.\u001b[0m\u001b[0mloc\u001b[0m\u001b[0;34m[\u001b[0m\u001b[0;34m:\u001b[0m\u001b[0;34m,\u001b[0m\u001b[0;34m[\u001b[0m\u001b[0;34m'id'\u001b[0m\u001b[0;34m,\u001b[0m\u001b[0;34m'date'\u001b[0m\u001b[0;34m,\u001b[0m\u001b[0;34m'author'\u001b[0m\u001b[0;34m]\u001b[0m\u001b[0;34m]\u001b[0m\u001b[0;34m.\u001b[0m\u001b[0mgroupby\u001b[0m\u001b[0;34m(\u001b[0m\u001b[0mlevel\u001b[0m\u001b[0;34m=\u001b[0m\u001b[0;34m[\u001b[0m\u001b[0;34m'date'\u001b[0m\u001b[0;34m,\u001b[0m \u001b[0;34m'author'\u001b[0m\u001b[0;34m]\u001b[0m\u001b[0;34m)\u001b[0m\u001b[0;34m.\u001b[0m\u001b[0mcount\u001b[0m\u001b[0;34m(\u001b[0m\u001b[0;34m)\u001b[0m\u001b[0;34m\u001b[0m\u001b[0;34m\u001b[0m\u001b[0m\n\u001b[0m\u001b[1;32m      4\u001b[0m \u001b[0;31m# df = df.loc[:,['id','date','author']].groupby(by='date').groupby(by='author').count()\u001b[0m\u001b[0;34m\u001b[0m\u001b[0;34m\u001b[0m\u001b[0;34m\u001b[0m\u001b[0m\n\u001b[1;32m      5\u001b[0m \u001b[0;31m# grouped_by_date_count = df.sort_values(by='date')\u001b[0m\u001b[0;34m\u001b[0m\u001b[0;34m\u001b[0m\u001b[0;34m\u001b[0m\u001b[0m\n",
            "\u001b[0;32m/usr/local/lib/python3.7/dist-packages/pandas/core/frame.py\u001b[0m in \u001b[0;36mgroupby\u001b[0;34m(self, by, axis, level, as_index, sort, group_keys, squeeze, observed, dropna)\u001b[0m\n\u001b[1;32m   7639\u001b[0m             \u001b[0msqueeze\u001b[0m\u001b[0;34m=\u001b[0m\u001b[0msqueeze\u001b[0m\u001b[0;34m,\u001b[0m  \u001b[0;31m# type: ignore[arg-type]\u001b[0m\u001b[0;34m\u001b[0m\u001b[0;34m\u001b[0m\u001b[0m\n\u001b[1;32m   7640\u001b[0m             \u001b[0mobserved\u001b[0m\u001b[0;34m=\u001b[0m\u001b[0mobserved\u001b[0m\u001b[0;34m,\u001b[0m\u001b[0;34m\u001b[0m\u001b[0;34m\u001b[0m\u001b[0m\n\u001b[0;32m-> 7641\u001b[0;31m             \u001b[0mdropna\u001b[0m\u001b[0;34m=\u001b[0m\u001b[0mdropna\u001b[0m\u001b[0;34m,\u001b[0m\u001b[0;34m\u001b[0m\u001b[0;34m\u001b[0m\u001b[0m\n\u001b[0m\u001b[1;32m   7642\u001b[0m         )\n\u001b[1;32m   7643\u001b[0m \u001b[0;34m\u001b[0m\u001b[0m\n",
            "\u001b[0;32m/usr/local/lib/python3.7/dist-packages/pandas/core/groupby/groupby.py\u001b[0m in \u001b[0;36m__init__\u001b[0;34m(self, obj, keys, axis, level, grouper, exclusions, selection, as_index, sort, group_keys, squeeze, observed, mutated, dropna)\u001b[0m\n\u001b[1;32m    895\u001b[0m                 \u001b[0mobserved\u001b[0m\u001b[0;34m=\u001b[0m\u001b[0mobserved\u001b[0m\u001b[0;34m,\u001b[0m\u001b[0;34m\u001b[0m\u001b[0;34m\u001b[0m\u001b[0m\n\u001b[1;32m    896\u001b[0m                 \u001b[0mmutated\u001b[0m\u001b[0;34m=\u001b[0m\u001b[0mself\u001b[0m\u001b[0;34m.\u001b[0m\u001b[0mmutated\u001b[0m\u001b[0;34m,\u001b[0m\u001b[0;34m\u001b[0m\u001b[0;34m\u001b[0m\u001b[0m\n\u001b[0;32m--> 897\u001b[0;31m                 \u001b[0mdropna\u001b[0m\u001b[0;34m=\u001b[0m\u001b[0mself\u001b[0m\u001b[0;34m.\u001b[0m\u001b[0mdropna\u001b[0m\u001b[0;34m,\u001b[0m\u001b[0;34m\u001b[0m\u001b[0;34m\u001b[0m\u001b[0m\n\u001b[0m\u001b[1;32m    898\u001b[0m             )\n\u001b[1;32m    899\u001b[0m \u001b[0;34m\u001b[0m\u001b[0m\n",
            "\u001b[0;32m/usr/local/lib/python3.7/dist-packages/pandas/core/groupby/grouper.py\u001b[0m in \u001b[0;36mget_grouper\u001b[0;34m(obj, key, axis, level, sort, observed, mutated, validate, dropna)\u001b[0m\n\u001b[1;32m    744\u001b[0m                     \u001b[0;32mraise\u001b[0m \u001b[0mValueError\u001b[0m\u001b[0;34m(\u001b[0m\u001b[0;34m\"No group keys passed!\"\u001b[0m\u001b[0;34m)\u001b[0m\u001b[0;34m\u001b[0m\u001b[0;34m\u001b[0m\u001b[0m\n\u001b[1;32m    745\u001b[0m                 \u001b[0;32melse\u001b[0m\u001b[0;34m:\u001b[0m\u001b[0;34m\u001b[0m\u001b[0;34m\u001b[0m\u001b[0m\n\u001b[0;32m--> 746\u001b[0;31m                     \u001b[0;32mraise\u001b[0m \u001b[0mValueError\u001b[0m\u001b[0;34m(\u001b[0m\u001b[0;34m\"multiple levels only valid with MultiIndex\"\u001b[0m\u001b[0;34m)\u001b[0m\u001b[0;34m\u001b[0m\u001b[0;34m\u001b[0m\u001b[0m\n\u001b[0m\u001b[1;32m    747\u001b[0m \u001b[0;34m\u001b[0m\u001b[0m\n\u001b[1;32m    748\u001b[0m             \u001b[0;32mif\u001b[0m \u001b[0misinstance\u001b[0m\u001b[0;34m(\u001b[0m\u001b[0mlevel\u001b[0m\u001b[0;34m,\u001b[0m \u001b[0mstr\u001b[0m\u001b[0;34m)\u001b[0m\u001b[0;34m:\u001b[0m\u001b[0;34m\u001b[0m\u001b[0;34m\u001b[0m\u001b[0m\n",
            "\u001b[0;31mValueError\u001b[0m: multiple levels only valid with MultiIndex"
          ]
        }
      ],
      "source": [
        "# 달, 요일 별로 게시물 분포 보기\n",
        "\n",
        "# 1. data.date.dt.month\n",
        "# 2. data.date.dt.day_names()\n",
        "\n",
        "df = data.copy()\n",
        "df.date = data.date.dt.month\n",
        "# df = df.loc[:,['id','date','author']].groupby(by='date').groupby(by='author').count()\n",
        "# grouped_by_date_count = df.sort_values(by='date')\n",
        "# grouped_by_date_count"
      ]
    },
    {
      "cell_type": "markdown",
      "metadata": {
        "id": "y7NlxbUf3MNF"
      },
      "source": [
        "### 게시물들은 __누가__, 얼마나 작성했을까?"
      ]
    },
    {
      "cell_type": "code",
      "execution_count": null,
      "metadata": {
        "id": "tP5oMEwJ-Jbx"
      },
      "outputs": [],
      "source": [
        "df = data.set_index('id').copy()\n",
        "df = df.set_index(['date','author'])\n",
        "group_by = df.groupby(level=['date', 'author']).count()\n",
        "group_by"
      ]
    },
    {
      "cell_type": "code",
      "execution_count": null,
      "metadata": {
        "colab": {
          "base_uri": "https://localhost:8080/",
          "height": 455
        },
        "id": "Ep1o9q-x-0IT",
        "outputId": "e985e9d3-3865-4002-d1c5-7fe72e520598"
      },
      "outputs": [
        {
          "data": {
            "text/html": [
              "\n",
              "  <div id=\"df-fc3be066-021d-413d-8a1c-1e8f502fe70c\">\n",
              "    <div class=\"colab-df-container\">\n",
              "      <div>\n",
              "<style scoped>\n",
              "    .dataframe tbody tr th:only-of-type {\n",
              "        vertical-align: middle;\n",
              "    }\n",
              "\n",
              "    .dataframe tbody tr th {\n",
              "        vertical-align: top;\n",
              "    }\n",
              "\n",
              "    .dataframe thead th {\n",
              "        text-align: right;\n",
              "    }\n",
              "</style>\n",
              "<table border=\"1\" class=\"dataframe\">\n",
              "  <thead>\n",
              "    <tr style=\"text-align: right;\">\n",
              "      <th></th>\n",
              "      <th>id</th>\n",
              "    </tr>\n",
              "    <tr>\n",
              "      <th>author</th>\n",
              "      <th></th>\n",
              "    </tr>\n",
              "  </thead>\n",
              "  <tbody>\n",
              "    <tr>\n",
              "      <th>젠지우승(121.131)</th>\n",
              "      <td>1</td>\n",
              "    </tr>\n",
              "    <tr>\n",
              "      <th>일침남(106.101)</th>\n",
              "      <td>1</td>\n",
              "    </tr>\n",
              "    <tr>\n",
              "      <th>일이삼(121.139)</th>\n",
              "      <td>1</td>\n",
              "    </tr>\n",
              "    <tr>\n",
              "      <th>일엉(118.235)</th>\n",
              "      <td>1</td>\n",
              "    </tr>\n",
              "    <tr>\n",
              "      <th>김창수(211.215)</th>\n",
              "      <td>1</td>\n",
              "    </tr>\n",
              "    <tr>\n",
              "      <th>...</th>\n",
              "      <td>...</td>\n",
              "    </tr>\n",
              "    <tr>\n",
              "      <th>김경직</th>\n",
              "      <td>32212</td>\n",
              "    </tr>\n",
              "    <tr>\n",
              "      <th>루시드</th>\n",
              "      <td>36911</td>\n",
              "    </tr>\n",
              "    <tr>\n",
              "      <th>제이통</th>\n",
              "      <td>43441</td>\n",
              "    </tr>\n",
              "    <tr>\n",
              "      <th>아랑소드</th>\n",
              "      <td>44462</td>\n",
              "    </tr>\n",
              "    <tr>\n",
              "      <th>Maybe</th>\n",
              "      <td>48526</td>\n",
              "    </tr>\n",
              "  </tbody>\n",
              "</table>\n",
              "<p>32950 rows × 1 columns</p>\n",
              "</div>\n",
              "      <button class=\"colab-df-convert\" onclick=\"convertToInteractive('df-fc3be066-021d-413d-8a1c-1e8f502fe70c')\"\n",
              "              title=\"Convert this dataframe to an interactive table.\"\n",
              "              style=\"display:none;\">\n",
              "        \n",
              "  <svg xmlns=\"http://www.w3.org/2000/svg\" height=\"24px\"viewBox=\"0 0 24 24\"\n",
              "       width=\"24px\">\n",
              "    <path d=\"M0 0h24v24H0V0z\" fill=\"none\"/>\n",
              "    <path d=\"M18.56 5.44l.94 2.06.94-2.06 2.06-.94-2.06-.94-.94-2.06-.94 2.06-2.06.94zm-11 1L8.5 8.5l.94-2.06 2.06-.94-2.06-.94L8.5 2.5l-.94 2.06-2.06.94zm10 10l.94 2.06.94-2.06 2.06-.94-2.06-.94-.94-2.06-.94 2.06-2.06.94z\"/><path d=\"M17.41 7.96l-1.37-1.37c-.4-.4-.92-.59-1.43-.59-.52 0-1.04.2-1.43.59L10.3 9.45l-7.72 7.72c-.78.78-.78 2.05 0 2.83L4 21.41c.39.39.9.59 1.41.59.51 0 1.02-.2 1.41-.59l7.78-7.78 2.81-2.81c.8-.78.8-2.07 0-2.86zM5.41 20L4 18.59l7.72-7.72 1.47 1.35L5.41 20z\"/>\n",
              "  </svg>\n",
              "      </button>\n",
              "      \n",
              "  <style>\n",
              "    .colab-df-container {\n",
              "      display:flex;\n",
              "      flex-wrap:wrap;\n",
              "      gap: 12px;\n",
              "    }\n",
              "\n",
              "    .colab-df-convert {\n",
              "      background-color: #E8F0FE;\n",
              "      border: none;\n",
              "      border-radius: 50%;\n",
              "      cursor: pointer;\n",
              "      display: none;\n",
              "      fill: #1967D2;\n",
              "      height: 32px;\n",
              "      padding: 0 0 0 0;\n",
              "      width: 32px;\n",
              "    }\n",
              "\n",
              "    .colab-df-convert:hover {\n",
              "      background-color: #E2EBFA;\n",
              "      box-shadow: 0px 1px 2px rgba(60, 64, 67, 0.3), 0px 1px 3px 1px rgba(60, 64, 67, 0.15);\n",
              "      fill: #174EA6;\n",
              "    }\n",
              "\n",
              "    [theme=dark] .colab-df-convert {\n",
              "      background-color: #3B4455;\n",
              "      fill: #D2E3FC;\n",
              "    }\n",
              "\n",
              "    [theme=dark] .colab-df-convert:hover {\n",
              "      background-color: #434B5C;\n",
              "      box-shadow: 0px 1px 3px 1px rgba(0, 0, 0, 0.15);\n",
              "      filter: drop-shadow(0px 1px 2px rgba(0, 0, 0, 0.3));\n",
              "      fill: #FFFFFF;\n",
              "    }\n",
              "  </style>\n",
              "\n",
              "      <script>\n",
              "        const buttonEl =\n",
              "          document.querySelector('#df-fc3be066-021d-413d-8a1c-1e8f502fe70c button.colab-df-convert');\n",
              "        buttonEl.style.display =\n",
              "          google.colab.kernel.accessAllowed ? 'block' : 'none';\n",
              "\n",
              "        async function convertToInteractive(key) {\n",
              "          const element = document.querySelector('#df-fc3be066-021d-413d-8a1c-1e8f502fe70c');\n",
              "          const dataTable =\n",
              "            await google.colab.kernel.invokeFunction('convertToInteractive',\n",
              "                                                     [key], {});\n",
              "          if (!dataTable) return;\n",
              "\n",
              "          const docLinkHtml = 'Like what you see? Visit the ' +\n",
              "            '<a target=\"_blank\" href=https://colab.research.google.com/notebooks/data_table.ipynb>data table notebook</a>'\n",
              "            + ' to learn more about interactive tables.';\n",
              "          element.innerHTML = '';\n",
              "          dataTable['output_type'] = 'display_data';\n",
              "          await google.colab.output.renderOutput(dataTable, element);\n",
              "          const docLink = document.createElement('div');\n",
              "          docLink.innerHTML = docLinkHtml;\n",
              "          element.appendChild(docLink);\n",
              "        }\n",
              "      </script>\n",
              "    </div>\n",
              "  </div>\n",
              "  "
            ],
            "text/plain": [
              "                  id\n",
              "author              \n",
              "젠지우승(121.131)      1\n",
              "일침남(106.101)       1\n",
              "일이삼(121.139)       1\n",
              "일엉(118.235)        1\n",
              "김창수(211.215)       1\n",
              "...              ...\n",
              "김경직            32212\n",
              "루시드            36911\n",
              "제이통            43441\n",
              "아랑소드           44462\n",
              "Maybe          48526\n",
              "\n",
              "[32950 rows x 1 columns]"
            ]
          },
          "execution_count": 136,
          "metadata": {},
          "output_type": "execute_result"
        }
      ],
      "source": [
        "grouped_by_author_count"
      ]
    },
    {
      "cell_type": "code",
      "execution_count": null,
      "metadata": {
        "colab": {
          "base_uri": "https://localhost:8080/",
          "height": 424
        },
        "id": "WSpLFWbhAyWQ",
        "outputId": "85c97db7-6eb7-4601-b498-4d4fe031505b"
      },
      "outputs": [
        {
          "data": {
            "text/html": [
              "\n",
              "  <div id=\"df-86100920-e19c-4f4a-857e-2996051ea3a7\">\n",
              "    <div class=\"colab-df-container\">\n",
              "      <div>\n",
              "<style scoped>\n",
              "    .dataframe tbody tr th:only-of-type {\n",
              "        vertical-align: middle;\n",
              "    }\n",
              "\n",
              "    .dataframe tbody tr th {\n",
              "        vertical-align: top;\n",
              "    }\n",
              "\n",
              "    .dataframe thead th {\n",
              "        text-align: right;\n",
              "    }\n",
              "</style>\n",
              "<table border=\"1\" class=\"dataframe\">\n",
              "  <thead>\n",
              "    <tr style=\"text-align: right;\">\n",
              "      <th></th>\n",
              "      <th>author</th>\n",
              "      <th>title</th>\n",
              "      <th>id</th>\n",
              "    </tr>\n",
              "  </thead>\n",
              "  <tbody>\n",
              "    <tr>\n",
              "      <th>0</th>\n",
              "      <td>\u0001</td>\n",
              "      <td>솔직히 21살이나 39살이나 겉모습으론 구분안되는듯? ㅎㅎ배꼽주의) 충동구매를 많이...</td>\n",
              "      <td>5</td>\n",
              "    </tr>\n",
              "    <tr>\n",
              "      <th>1</th>\n",
              "      <td>..(182.213)</td>\n",
              "      <td>..다녀왔습니다룸빵녀 젖 주무르기걔 어디갔냐룸빵하면 ,, 그갤러보구싶다 ㅠㅠㅠㅠㅠ그...</td>\n",
              "      <td>49</td>\n",
              "    </tr>\n",
              "    <tr>\n",
              "      <th>2</th>\n",
              "      <td>.민초죠아(61.75)</td>\n",
              "      <td>속보) 거꾸로 돼지바 출시</td>\n",
              "      <td>1</td>\n",
              "    </tr>\n",
              "    <tr>\n",
              "      <th>3</th>\n",
              "      <td>T-REX(112.72)</td>\n",
              "      <td>천애협로 재밌네신마경천기도 재밌더라아침 댓바람부터 공차던 때가 그립다톰하디 레전드 ...</td>\n",
              "      <td>17</td>\n",
              "    </tr>\n",
              "    <tr>\n",
              "      <th>4</th>\n",
              "      <td>T-REX(223.33)</td>\n",
              "      <td>외자 이름 뭔가 멋있음비와이 처럼 랩하고싶다대학살을 준비군사의 생사필</td>\n",
              "      <td>4</td>\n",
              "    </tr>\n",
              "    <tr>\n",
              "      <th>...</th>\n",
              "      <td>...</td>\n",
              "      <td>...</td>\n",
              "      <td>...</td>\n",
              "    </tr>\n",
              "    <tr>\n",
              "      <th>32945</th>\n",
              "      <td>盧아(49.172)</td>\n",
              "      <td>제가 盧아라는 사실을 잊지말아주세요...</td>\n",
              "      <td>1</td>\n",
              "    </tr>\n",
              "    <tr>\n",
              "      <th>32946</th>\n",
              "      <td>＃아이묭</td>\n",
              "      <td>갤러리 불판 갈았네요.커터칼 팔목 위에 세우기 하실 분.일어났어요.배고파요.지금 듣...</td>\n",
              "      <td>186</td>\n",
              "    </tr>\n",
              "    <tr>\n",
              "      <th>32947</th>\n",
              "      <td>（＾ω＾）(1.229)</td>\n",
              "      <td>다 아는 사람들이구먼개이들아 야식 ㄱㄱ ㄴㄴ?우울증 완치함 ㅁㅌㅊ?친구한테 ㅆㅎㅌㅊ...</td>\n",
              "      <td>16</td>\n",
              "    </tr>\n",
              "    <tr>\n",
              "      <th>32948</th>\n",
              "      <td>（＾ω＾）(118.235)</td>\n",
              "      <td>나 곧 생일임타투갤이노ㅋㅋ공앱 존나 갤갤거림</td>\n",
              "      <td>3</td>\n",
              "    </tr>\n",
              "    <tr>\n",
              "      <th>32949</th>\n",
              "      <td>９２</td>\n",
              "      <td>스터너 존나 건배~서울 살면 어떰? 재밌음?나 보고 정이 없대...니들 사이비랑 코...</td>\n",
              "      <td>111</td>\n",
              "    </tr>\n",
              "  </tbody>\n",
              "</table>\n",
              "<p>32950 rows × 3 columns</p>\n",
              "</div>\n",
              "      <button class=\"colab-df-convert\" onclick=\"convertToInteractive('df-86100920-e19c-4f4a-857e-2996051ea3a7')\"\n",
              "              title=\"Convert this dataframe to an interactive table.\"\n",
              "              style=\"display:none;\">\n",
              "        \n",
              "  <svg xmlns=\"http://www.w3.org/2000/svg\" height=\"24px\"viewBox=\"0 0 24 24\"\n",
              "       width=\"24px\">\n",
              "    <path d=\"M0 0h24v24H0V0z\" fill=\"none\"/>\n",
              "    <path d=\"M18.56 5.44l.94 2.06.94-2.06 2.06-.94-2.06-.94-.94-2.06-.94 2.06-2.06.94zm-11 1L8.5 8.5l.94-2.06 2.06-.94-2.06-.94L8.5 2.5l-.94 2.06-2.06.94zm10 10l.94 2.06.94-2.06 2.06-.94-2.06-.94-.94-2.06-.94 2.06-2.06.94z\"/><path d=\"M17.41 7.96l-1.37-1.37c-.4-.4-.92-.59-1.43-.59-.52 0-1.04.2-1.43.59L10.3 9.45l-7.72 7.72c-.78.78-.78 2.05 0 2.83L4 21.41c.39.39.9.59 1.41.59.51 0 1.02-.2 1.41-.59l7.78-7.78 2.81-2.81c.8-.78.8-2.07 0-2.86zM5.41 20L4 18.59l7.72-7.72 1.47 1.35L5.41 20z\"/>\n",
              "  </svg>\n",
              "      </button>\n",
              "      \n",
              "  <style>\n",
              "    .colab-df-container {\n",
              "      display:flex;\n",
              "      flex-wrap:wrap;\n",
              "      gap: 12px;\n",
              "    }\n",
              "\n",
              "    .colab-df-convert {\n",
              "      background-color: #E8F0FE;\n",
              "      border: none;\n",
              "      border-radius: 50%;\n",
              "      cursor: pointer;\n",
              "      display: none;\n",
              "      fill: #1967D2;\n",
              "      height: 32px;\n",
              "      padding: 0 0 0 0;\n",
              "      width: 32px;\n",
              "    }\n",
              "\n",
              "    .colab-df-convert:hover {\n",
              "      background-color: #E2EBFA;\n",
              "      box-shadow: 0px 1px 2px rgba(60, 64, 67, 0.3), 0px 1px 3px 1px rgba(60, 64, 67, 0.15);\n",
              "      fill: #174EA6;\n",
              "    }\n",
              "\n",
              "    [theme=dark] .colab-df-convert {\n",
              "      background-color: #3B4455;\n",
              "      fill: #D2E3FC;\n",
              "    }\n",
              "\n",
              "    [theme=dark] .colab-df-convert:hover {\n",
              "      background-color: #434B5C;\n",
              "      box-shadow: 0px 1px 3px 1px rgba(0, 0, 0, 0.15);\n",
              "      filter: drop-shadow(0px 1px 2px rgba(0, 0, 0, 0.3));\n",
              "      fill: #FFFFFF;\n",
              "    }\n",
              "  </style>\n",
              "\n",
              "      <script>\n",
              "        const buttonEl =\n",
              "          document.querySelector('#df-86100920-e19c-4f4a-857e-2996051ea3a7 button.colab-df-convert');\n",
              "        buttonEl.style.display =\n",
              "          google.colab.kernel.accessAllowed ? 'block' : 'none';\n",
              "\n",
              "        async function convertToInteractive(key) {\n",
              "          const element = document.querySelector('#df-86100920-e19c-4f4a-857e-2996051ea3a7');\n",
              "          const dataTable =\n",
              "            await google.colab.kernel.invokeFunction('convertToInteractive',\n",
              "                                                     [key], {});\n",
              "          if (!dataTable) return;\n",
              "\n",
              "          const docLinkHtml = 'Like what you see? Visit the ' +\n",
              "            '<a target=\"_blank\" href=https://colab.research.google.com/notebooks/data_table.ipynb>data table notebook</a>'\n",
              "            + ' to learn more about interactive tables.';\n",
              "          element.innerHTML = '';\n",
              "          dataTable['output_type'] = 'display_data';\n",
              "          await google.colab.output.renderOutput(dataTable, element);\n",
              "          const docLink = document.createElement('div');\n",
              "          docLink.innerHTML = docLinkHtml;\n",
              "          element.appendChild(docLink);\n",
              "        }\n",
              "      </script>\n",
              "    </div>\n",
              "  </div>\n",
              "  "
            ],
            "text/plain": [
              "               author                                              title   id\n",
              "0                   \u0001  솔직히 21살이나 39살이나 겉모습으론 구분안되는듯? ㅎㅎ배꼽주의) 충동구매를 많이...    5\n",
              "1         ..(182.213)  ..다녀왔습니다룸빵녀 젖 주무르기걔 어디갔냐룸빵하면 ,, 그갤러보구싶다 ㅠㅠㅠㅠㅠ그...   49\n",
              "2        .민초죠아(61.75)                                     속보) 거꾸로 돼지바 출시    1\n",
              "3       T-REX(112.72)  천애협로 재밌네신마경천기도 재밌더라아침 댓바람부터 공차던 때가 그립다톰하디 레전드 ...   17\n",
              "4       T-REX(223.33)             외자 이름 뭔가 멋있음비와이 처럼 랩하고싶다대학살을 준비군사의 생사필    4\n",
              "...               ...                                                ...  ...\n",
              "32945      盧아(49.172)                             제가 盧아라는 사실을 잊지말아주세요...    1\n",
              "32946            ＃아이묭  갤러리 불판 갈았네요.커터칼 팔목 위에 세우기 하실 분.일어났어요.배고파요.지금 듣...  186\n",
              "32947    （＾ω＾）(1.229)  다 아는 사람들이구먼개이들아 야식 ㄱㄱ ㄴㄴ?우울증 완치함 ㅁㅌㅊ?친구한테 ㅆㅎㅌㅊ...   16\n",
              "32948  （＾ω＾）(118.235)                           나 곧 생일임타투갤이노ㅋㅋ공앱 존나 갤갤거림    3\n",
              "32949              ９２  스터너 존나 건배~서울 살면 어떰? 재밌음?나 보고 정이 없대...니들 사이비랑 코...  111\n",
              "\n",
              "[32950 rows x 3 columns]"
            ]
          },
          "execution_count": 152,
          "metadata": {},
          "output_type": "execute_result"
        }
      ],
      "source": [
        "\n",
        "temp"
      ]
    },
    {
      "cell_type": "code",
      "execution_count": null,
      "metadata": {
        "colab": {
          "base_uri": "https://localhost:8080/",
          "height": 424
        },
        "id": "eAY39MNM0_I4",
        "outputId": "1f0b22d0-4b4f-46b3-ca10-1308b5b19b4a"
      },
      "outputs": [
        {
          "data": {
            "text/html": [
              "\n",
              "  <div id=\"df-49495989-6c1b-4dbb-bee0-26c2a77c650a\">\n",
              "    <div class=\"colab-df-container\">\n",
              "      <div>\n",
              "<style scoped>\n",
              "    .dataframe tbody tr th:only-of-type {\n",
              "        vertical-align: middle;\n",
              "    }\n",
              "\n",
              "    .dataframe tbody tr th {\n",
              "        vertical-align: top;\n",
              "    }\n",
              "\n",
              "    .dataframe thead th {\n",
              "        text-align: right;\n",
              "    }\n",
              "</style>\n",
              "<table border=\"1\" class=\"dataframe\">\n",
              "  <thead>\n",
              "    <tr style=\"text-align: right;\">\n",
              "      <th></th>\n",
              "      <th>Unnamed: 0</th>\n",
              "      <th>author</th>\n",
              "      <th>title</th>\n",
              "      <th>post_count</th>\n",
              "      <th>whole_length</th>\n",
              "    </tr>\n",
              "  </thead>\n",
              "  <tbody>\n",
              "    <tr>\n",
              "      <th>0</th>\n",
              "      <td>0</td>\n",
              "      <td>\u0001</td>\n",
              "      <td>솔직히 21살이나 39살이나 겉모습으론 구분안되는듯? ㅎㅎ배꼽주의) 충동구매를 많이...</td>\n",
              "      <td>5</td>\n",
              "      <td>112</td>\n",
              "    </tr>\n",
              "    <tr>\n",
              "      <th>1</th>\n",
              "      <td>1</td>\n",
              "      <td>..(182.213)</td>\n",
              "      <td>..다녀왔습니다룸빵녀 젖 주무르기걔 어디갔냐룸빵하면 ,, 그갤러보구싶다 ㅠㅠㅠㅠㅠ그...</td>\n",
              "      <td>49</td>\n",
              "      <td>477</td>\n",
              "    </tr>\n",
              "    <tr>\n",
              "      <th>2</th>\n",
              "      <td>2</td>\n",
              "      <td>.민초죠아(61.75)</td>\n",
              "      <td>속보) 거꾸로 돼지바 출시</td>\n",
              "      <td>1</td>\n",
              "      <td>14</td>\n",
              "    </tr>\n",
              "    <tr>\n",
              "      <th>3</th>\n",
              "      <td>3</td>\n",
              "      <td>T-REX(112.72)</td>\n",
              "      <td>천애협로 재밌네신마경천기도 재밌더라아침 댓바람부터 공차던 때가 그립다톰하디 레전드 ...</td>\n",
              "      <td>17</td>\n",
              "      <td>227</td>\n",
              "    </tr>\n",
              "    <tr>\n",
              "      <th>4</th>\n",
              "      <td>4</td>\n",
              "      <td>T-REX(223.33)</td>\n",
              "      <td>외자 이름 뭔가 멋있음비와이 처럼 랩하고싶다대학살을 준비군사의 생사필</td>\n",
              "      <td>4</td>\n",
              "      <td>38</td>\n",
              "    </tr>\n",
              "    <tr>\n",
              "      <th>...</th>\n",
              "      <td>...</td>\n",
              "      <td>...</td>\n",
              "      <td>...</td>\n",
              "      <td>...</td>\n",
              "      <td>...</td>\n",
              "    </tr>\n",
              "    <tr>\n",
              "      <th>32945</th>\n",
              "      <td>32945</td>\n",
              "      <td>盧아(49.172)</td>\n",
              "      <td>제가 盧아라는 사실을 잊지말아주세요...</td>\n",
              "      <td>1</td>\n",
              "      <td>22</td>\n",
              "    </tr>\n",
              "    <tr>\n",
              "      <th>32946</th>\n",
              "      <td>32946</td>\n",
              "      <td>＃아이묭</td>\n",
              "      <td>갤러리 불판 갈았네요.커터칼 팔목 위에 세우기 하실 분.일어났어요.배고파요.지금 듣...</td>\n",
              "      <td>186</td>\n",
              "      <td>2331</td>\n",
              "    </tr>\n",
              "    <tr>\n",
              "      <th>32947</th>\n",
              "      <td>32947</td>\n",
              "      <td>（＾ω＾）(1.229)</td>\n",
              "      <td>다 아는 사람들이구먼개이들아 야식 ㄱㄱ ㄴㄴ?우울증 완치함 ㅁㅌㅊ?친구한테 ㅆㅎㅌㅊ...</td>\n",
              "      <td>16</td>\n",
              "      <td>208</td>\n",
              "    </tr>\n",
              "    <tr>\n",
              "      <th>32948</th>\n",
              "      <td>32948</td>\n",
              "      <td>（＾ω＾）(118.235)</td>\n",
              "      <td>나 곧 생일임타투갤이노ㅋㅋ공앱 존나 갤갤거림</td>\n",
              "      <td>3</td>\n",
              "      <td>24</td>\n",
              "    </tr>\n",
              "    <tr>\n",
              "      <th>32949</th>\n",
              "      <td>32949</td>\n",
              "      <td>９２</td>\n",
              "      <td>스터너 존나 건배~서울 살면 어떰? 재밌음?나 보고 정이 없대...니들 사이비랑 코...</td>\n",
              "      <td>111</td>\n",
              "      <td>1945</td>\n",
              "    </tr>\n",
              "  </tbody>\n",
              "</table>\n",
              "<p>32950 rows × 5 columns</p>\n",
              "</div>\n",
              "      <button class=\"colab-df-convert\" onclick=\"convertToInteractive('df-49495989-6c1b-4dbb-bee0-26c2a77c650a')\"\n",
              "              title=\"Convert this dataframe to an interactive table.\"\n",
              "              style=\"display:none;\">\n",
              "        \n",
              "  <svg xmlns=\"http://www.w3.org/2000/svg\" height=\"24px\"viewBox=\"0 0 24 24\"\n",
              "       width=\"24px\">\n",
              "    <path d=\"M0 0h24v24H0V0z\" fill=\"none\"/>\n",
              "    <path d=\"M18.56 5.44l.94 2.06.94-2.06 2.06-.94-2.06-.94-.94-2.06-.94 2.06-2.06.94zm-11 1L8.5 8.5l.94-2.06 2.06-.94-2.06-.94L8.5 2.5l-.94 2.06-2.06.94zm10 10l.94 2.06.94-2.06 2.06-.94-2.06-.94-.94-2.06-.94 2.06-2.06.94z\"/><path d=\"M17.41 7.96l-1.37-1.37c-.4-.4-.92-.59-1.43-.59-.52 0-1.04.2-1.43.59L10.3 9.45l-7.72 7.72c-.78.78-.78 2.05 0 2.83L4 21.41c.39.39.9.59 1.41.59.51 0 1.02-.2 1.41-.59l7.78-7.78 2.81-2.81c.8-.78.8-2.07 0-2.86zM5.41 20L4 18.59l7.72-7.72 1.47 1.35L5.41 20z\"/>\n",
              "  </svg>\n",
              "      </button>\n",
              "      \n",
              "  <style>\n",
              "    .colab-df-container {\n",
              "      display:flex;\n",
              "      flex-wrap:wrap;\n",
              "      gap: 12px;\n",
              "    }\n",
              "\n",
              "    .colab-df-convert {\n",
              "      background-color: #E8F0FE;\n",
              "      border: none;\n",
              "      border-radius: 50%;\n",
              "      cursor: pointer;\n",
              "      display: none;\n",
              "      fill: #1967D2;\n",
              "      height: 32px;\n",
              "      padding: 0 0 0 0;\n",
              "      width: 32px;\n",
              "    }\n",
              "\n",
              "    .colab-df-convert:hover {\n",
              "      background-color: #E2EBFA;\n",
              "      box-shadow: 0px 1px 2px rgba(60, 64, 67, 0.3), 0px 1px 3px 1px rgba(60, 64, 67, 0.15);\n",
              "      fill: #174EA6;\n",
              "    }\n",
              "\n",
              "    [theme=dark] .colab-df-convert {\n",
              "      background-color: #3B4455;\n",
              "      fill: #D2E3FC;\n",
              "    }\n",
              "\n",
              "    [theme=dark] .colab-df-convert:hover {\n",
              "      background-color: #434B5C;\n",
              "      box-shadow: 0px 1px 3px 1px rgba(0, 0, 0, 0.15);\n",
              "      filter: drop-shadow(0px 1px 2px rgba(0, 0, 0, 0.3));\n",
              "      fill: #FFFFFF;\n",
              "    }\n",
              "  </style>\n",
              "\n",
              "      <script>\n",
              "        const buttonEl =\n",
              "          document.querySelector('#df-49495989-6c1b-4dbb-bee0-26c2a77c650a button.colab-df-convert');\n",
              "        buttonEl.style.display =\n",
              "          google.colab.kernel.accessAllowed ? 'block' : 'none';\n",
              "\n",
              "        async function convertToInteractive(key) {\n",
              "          const element = document.querySelector('#df-49495989-6c1b-4dbb-bee0-26c2a77c650a');\n",
              "          const dataTable =\n",
              "            await google.colab.kernel.invokeFunction('convertToInteractive',\n",
              "                                                     [key], {});\n",
              "          if (!dataTable) return;\n",
              "\n",
              "          const docLinkHtml = 'Like what you see? Visit the ' +\n",
              "            '<a target=\"_blank\" href=https://colab.research.google.com/notebooks/data_table.ipynb>data table notebook</a>'\n",
              "            + ' to learn more about interactive tables.';\n",
              "          element.innerHTML = '';\n",
              "          dataTable['output_type'] = 'display_data';\n",
              "          await google.colab.output.renderOutput(dataTable, element);\n",
              "          const docLink = document.createElement('div');\n",
              "          docLink.innerHTML = docLinkHtml;\n",
              "          element.appendChild(docLink);\n",
              "        }\n",
              "      </script>\n",
              "    </div>\n",
              "  </div>\n",
              "  "
            ],
            "text/plain": [
              "       Unnamed: 0          author  \\\n",
              "0               0               \u0001   \n",
              "1               1     ..(182.213)   \n",
              "2               2    .민초죠아(61.75)   \n",
              "3               3   T-REX(112.72)   \n",
              "4               4   T-REX(223.33)   \n",
              "...           ...             ...   \n",
              "32945       32945      盧아(49.172)   \n",
              "32946       32946            ＃아이묭   \n",
              "32947       32947    （＾ω＾）(1.229)   \n",
              "32948       32948  （＾ω＾）(118.235)   \n",
              "32949       32949              ９２   \n",
              "\n",
              "                                                   title  post_count  \\\n",
              "0      솔직히 21살이나 39살이나 겉모습으론 구분안되는듯? ㅎㅎ배꼽주의) 충동구매를 많이...           5   \n",
              "1      ..다녀왔습니다룸빵녀 젖 주무르기걔 어디갔냐룸빵하면 ,, 그갤러보구싶다 ㅠㅠㅠㅠㅠ그...          49   \n",
              "2                                         속보) 거꾸로 돼지바 출시           1   \n",
              "3      천애협로 재밌네신마경천기도 재밌더라아침 댓바람부터 공차던 때가 그립다톰하디 레전드 ...          17   \n",
              "4                 외자 이름 뭔가 멋있음비와이 처럼 랩하고싶다대학살을 준비군사의 생사필           4   \n",
              "...                                                  ...         ...   \n",
              "32945                             제가 盧아라는 사실을 잊지말아주세요...           1   \n",
              "32946  갤러리 불판 갈았네요.커터칼 팔목 위에 세우기 하실 분.일어났어요.배고파요.지금 듣...         186   \n",
              "32947  다 아는 사람들이구먼개이들아 야식 ㄱㄱ ㄴㄴ?우울증 완치함 ㅁㅌㅊ?친구한테 ㅆㅎㅌㅊ...          16   \n",
              "32948                           나 곧 생일임타투갤이노ㅋㅋ공앱 존나 갤갤거림           3   \n",
              "32949  스터너 존나 건배~서울 살면 어떰? 재밌음?나 보고 정이 없대...니들 사이비랑 코...         111   \n",
              "\n",
              "       whole_length  \n",
              "0               112  \n",
              "1               477  \n",
              "2                14  \n",
              "3               227  \n",
              "4                38  \n",
              "...             ...  \n",
              "32945            22  \n",
              "32946          2331  \n",
              "32947           208  \n",
              "32948            24  \n",
              "32949          1945  \n",
              "\n",
              "[32950 rows x 5 columns]"
            ]
          },
          "execution_count": 96,
          "metadata": {},
          "output_type": "execute_result"
        }
      ],
      "source": [
        "grouped_by_author = pd.read_csv(save_dir+'/'+'contents_by_author.csv')\n",
        "# temp = pd.merge(left = temp , right = data.loc[:,['id','author']].groupby(by='author').count(), how = \"inner\", on = \"author\")\n",
        "# temp.rename(columns = {'id':'post_count'},inplace=True)\n",
        "# grouped_by_author['whole_length'] = grouped_by_author.title.str.len()\n",
        "grouped_by_author\n"
      ]
    },
    {
      "cell_type": "code",
      "execution_count": null,
      "metadata": {
        "colab": {
          "base_uri": "https://localhost:8080/"
        },
        "id": "E2yPV9KBlbJC",
        "outputId": "a3867007-dad4-46ea-b932-ae87cd59a621"
      },
      "outputs": [
        {
          "name": "stderr",
          "output_type": "stream",
          "text": [
            "100%|██████████| 32950/32950 [01:50<00:00, 297.94it/s]\n"
          ]
        }
      ],
      "source": [
        "from tqdm import tqdm\n",
        "tqdm.pandas()\n",
        "grouped_by_author['diversity'] = grouped_by_author.title.progress_apply(lambda x : len(set(tokenizer(x))) / len(tokenizer(x)))"
      ]
    },
    {
      "cell_type": "code",
      "execution_count": null,
      "metadata": {
        "colab": {
          "base_uri": "https://localhost:8080/",
          "height": 424
        },
        "id": "nsAtfTHaoUUW",
        "outputId": "3369c275-6022-43df-c46a-b72056e0ea65"
      },
      "outputs": [
        {
          "data": {
            "text/html": [
              "\n",
              "  <div id=\"df-e62eed91-2c14-437e-a863-ee15bb9954e2\">\n",
              "    <div class=\"colab-df-container\">\n",
              "      <div>\n",
              "<style scoped>\n",
              "    .dataframe tbody tr th:only-of-type {\n",
              "        vertical-align: middle;\n",
              "    }\n",
              "\n",
              "    .dataframe tbody tr th {\n",
              "        vertical-align: top;\n",
              "    }\n",
              "\n",
              "    .dataframe thead th {\n",
              "        text-align: right;\n",
              "    }\n",
              "</style>\n",
              "<table border=\"1\" class=\"dataframe\">\n",
              "  <thead>\n",
              "    <tr style=\"text-align: right;\">\n",
              "      <th></th>\n",
              "      <th>Unnamed: 0</th>\n",
              "      <th>author</th>\n",
              "      <th>title</th>\n",
              "      <th>post_count</th>\n",
              "      <th>whole_length</th>\n",
              "      <th>diversity</th>\n",
              "    </tr>\n",
              "  </thead>\n",
              "  <tbody>\n",
              "    <tr>\n",
              "      <th>0</th>\n",
              "      <td>0</td>\n",
              "      <td>\u0001</td>\n",
              "      <td>솔직히 21살이나 39살이나 겉모습으론 구분안되는듯? ㅎㅎ배꼽주의) 충동구매를 많이...</td>\n",
              "      <td>5</td>\n",
              "      <td>112</td>\n",
              "      <td>0.970588</td>\n",
              "    </tr>\n",
              "    <tr>\n",
              "      <th>1</th>\n",
              "      <td>1</td>\n",
              "      <td>..(182.213)</td>\n",
              "      <td>..다녀왔습니다룸빵녀 젖 주무르기걔 어디갔냐룸빵하면 ,, 그갤러보구싶다 ㅠㅠㅠㅠㅠ그...</td>\n",
              "      <td>49</td>\n",
              "      <td>477</td>\n",
              "      <td>0.946565</td>\n",
              "    </tr>\n",
              "    <tr>\n",
              "      <th>2</th>\n",
              "      <td>2</td>\n",
              "      <td>.민초죠아(61.75)</td>\n",
              "      <td>속보) 거꾸로 돼지바 출시</td>\n",
              "      <td>1</td>\n",
              "      <td>14</td>\n",
              "      <td>1.000000</td>\n",
              "    </tr>\n",
              "    <tr>\n",
              "      <th>3</th>\n",
              "      <td>3</td>\n",
              "      <td>T-REX(112.72)</td>\n",
              "      <td>천애협로 재밌네신마경천기도 재밌더라아침 댓바람부터 공차던 때가 그립다톰하디 레전드 ...</td>\n",
              "      <td>17</td>\n",
              "      <td>227</td>\n",
              "      <td>0.986301</td>\n",
              "    </tr>\n",
              "    <tr>\n",
              "      <th>4</th>\n",
              "      <td>4</td>\n",
              "      <td>T-REX(223.33)</td>\n",
              "      <td>외자 이름 뭔가 멋있음비와이 처럼 랩하고싶다대학살을 준비군사의 생사필</td>\n",
              "      <td>4</td>\n",
              "      <td>38</td>\n",
              "      <td>1.000000</td>\n",
              "    </tr>\n",
              "    <tr>\n",
              "      <th>...</th>\n",
              "      <td>...</td>\n",
              "      <td>...</td>\n",
              "      <td>...</td>\n",
              "      <td>...</td>\n",
              "      <td>...</td>\n",
              "      <td>...</td>\n",
              "    </tr>\n",
              "    <tr>\n",
              "      <th>32945</th>\n",
              "      <td>32945</td>\n",
              "      <td>盧아(49.172)</td>\n",
              "      <td>제가 盧아라는 사실을 잊지말아주세요...</td>\n",
              "      <td>1</td>\n",
              "      <td>22</td>\n",
              "      <td>1.000000</td>\n",
              "    </tr>\n",
              "    <tr>\n",
              "      <th>32946</th>\n",
              "      <td>32946</td>\n",
              "      <td>＃아이묭</td>\n",
              "      <td>갤러리 불판 갈았네요.커터칼 팔목 위에 세우기 하실 분.일어났어요.배고파요.지금 듣...</td>\n",
              "      <td>186</td>\n",
              "      <td>2331</td>\n",
              "      <td>0.773676</td>\n",
              "    </tr>\n",
              "    <tr>\n",
              "      <th>32947</th>\n",
              "      <td>32947</td>\n",
              "      <td>（＾ω＾）(1.229)</td>\n",
              "      <td>다 아는 사람들이구먼개이들아 야식 ㄱㄱ ㄴㄴ?우울증 완치함 ㅁㅌㅊ?친구한테 ㅆㅎㅌㅊ...</td>\n",
              "      <td>16</td>\n",
              "      <td>208</td>\n",
              "      <td>0.935484</td>\n",
              "    </tr>\n",
              "    <tr>\n",
              "      <th>32948</th>\n",
              "      <td>32948</td>\n",
              "      <td>（＾ω＾）(118.235)</td>\n",
              "      <td>나 곧 생일임타투갤이노ㅋㅋ공앱 존나 갤갤거림</td>\n",
              "      <td>3</td>\n",
              "      <td>24</td>\n",
              "      <td>1.000000</td>\n",
              "    </tr>\n",
              "    <tr>\n",
              "      <th>32949</th>\n",
              "      <td>32949</td>\n",
              "      <td>９２</td>\n",
              "      <td>스터너 존나 건배~서울 살면 어떰? 재밌음?나 보고 정이 없대...니들 사이비랑 코...</td>\n",
              "      <td>111</td>\n",
              "      <td>1945</td>\n",
              "      <td>0.771200</td>\n",
              "    </tr>\n",
              "  </tbody>\n",
              "</table>\n",
              "<p>32950 rows × 6 columns</p>\n",
              "</div>\n",
              "      <button class=\"colab-df-convert\" onclick=\"convertToInteractive('df-e62eed91-2c14-437e-a863-ee15bb9954e2')\"\n",
              "              title=\"Convert this dataframe to an interactive table.\"\n",
              "              style=\"display:none;\">\n",
              "        \n",
              "  <svg xmlns=\"http://www.w3.org/2000/svg\" height=\"24px\"viewBox=\"0 0 24 24\"\n",
              "       width=\"24px\">\n",
              "    <path d=\"M0 0h24v24H0V0z\" fill=\"none\"/>\n",
              "    <path d=\"M18.56 5.44l.94 2.06.94-2.06 2.06-.94-2.06-.94-.94-2.06-.94 2.06-2.06.94zm-11 1L8.5 8.5l.94-2.06 2.06-.94-2.06-.94L8.5 2.5l-.94 2.06-2.06.94zm10 10l.94 2.06.94-2.06 2.06-.94-2.06-.94-.94-2.06-.94 2.06-2.06.94z\"/><path d=\"M17.41 7.96l-1.37-1.37c-.4-.4-.92-.59-1.43-.59-.52 0-1.04.2-1.43.59L10.3 9.45l-7.72 7.72c-.78.78-.78 2.05 0 2.83L4 21.41c.39.39.9.59 1.41.59.51 0 1.02-.2 1.41-.59l7.78-7.78 2.81-2.81c.8-.78.8-2.07 0-2.86zM5.41 20L4 18.59l7.72-7.72 1.47 1.35L5.41 20z\"/>\n",
              "  </svg>\n",
              "      </button>\n",
              "      \n",
              "  <style>\n",
              "    .colab-df-container {\n",
              "      display:flex;\n",
              "      flex-wrap:wrap;\n",
              "      gap: 12px;\n",
              "    }\n",
              "\n",
              "    .colab-df-convert {\n",
              "      background-color: #E8F0FE;\n",
              "      border: none;\n",
              "      border-radius: 50%;\n",
              "      cursor: pointer;\n",
              "      display: none;\n",
              "      fill: #1967D2;\n",
              "      height: 32px;\n",
              "      padding: 0 0 0 0;\n",
              "      width: 32px;\n",
              "    }\n",
              "\n",
              "    .colab-df-convert:hover {\n",
              "      background-color: #E2EBFA;\n",
              "      box-shadow: 0px 1px 2px rgba(60, 64, 67, 0.3), 0px 1px 3px 1px rgba(60, 64, 67, 0.15);\n",
              "      fill: #174EA6;\n",
              "    }\n",
              "\n",
              "    [theme=dark] .colab-df-convert {\n",
              "      background-color: #3B4455;\n",
              "      fill: #D2E3FC;\n",
              "    }\n",
              "\n",
              "    [theme=dark] .colab-df-convert:hover {\n",
              "      background-color: #434B5C;\n",
              "      box-shadow: 0px 1px 3px 1px rgba(0, 0, 0, 0.15);\n",
              "      filter: drop-shadow(0px 1px 2px rgba(0, 0, 0, 0.3));\n",
              "      fill: #FFFFFF;\n",
              "    }\n",
              "  </style>\n",
              "\n",
              "      <script>\n",
              "        const buttonEl =\n",
              "          document.querySelector('#df-e62eed91-2c14-437e-a863-ee15bb9954e2 button.colab-df-convert');\n",
              "        buttonEl.style.display =\n",
              "          google.colab.kernel.accessAllowed ? 'block' : 'none';\n",
              "\n",
              "        async function convertToInteractive(key) {\n",
              "          const element = document.querySelector('#df-e62eed91-2c14-437e-a863-ee15bb9954e2');\n",
              "          const dataTable =\n",
              "            await google.colab.kernel.invokeFunction('convertToInteractive',\n",
              "                                                     [key], {});\n",
              "          if (!dataTable) return;\n",
              "\n",
              "          const docLinkHtml = 'Like what you see? Visit the ' +\n",
              "            '<a target=\"_blank\" href=https://colab.research.google.com/notebooks/data_table.ipynb>data table notebook</a>'\n",
              "            + ' to learn more about interactive tables.';\n",
              "          element.innerHTML = '';\n",
              "          dataTable['output_type'] = 'display_data';\n",
              "          await google.colab.output.renderOutput(dataTable, element);\n",
              "          const docLink = document.createElement('div');\n",
              "          docLink.innerHTML = docLinkHtml;\n",
              "          element.appendChild(docLink);\n",
              "        }\n",
              "      </script>\n",
              "    </div>\n",
              "  </div>\n",
              "  "
            ],
            "text/plain": [
              "       Unnamed: 0          author  \\\n",
              "0               0               \u0001   \n",
              "1               1     ..(182.213)   \n",
              "2               2    .민초죠아(61.75)   \n",
              "3               3   T-REX(112.72)   \n",
              "4               4   T-REX(223.33)   \n",
              "...           ...             ...   \n",
              "32945       32945      盧아(49.172)   \n",
              "32946       32946            ＃아이묭   \n",
              "32947       32947    （＾ω＾）(1.229)   \n",
              "32948       32948  （＾ω＾）(118.235)   \n",
              "32949       32949              ９２   \n",
              "\n",
              "                                                   title  post_count  \\\n",
              "0      솔직히 21살이나 39살이나 겉모습으론 구분안되는듯? ㅎㅎ배꼽주의) 충동구매를 많이...           5   \n",
              "1      ..다녀왔습니다룸빵녀 젖 주무르기걔 어디갔냐룸빵하면 ,, 그갤러보구싶다 ㅠㅠㅠㅠㅠ그...          49   \n",
              "2                                         속보) 거꾸로 돼지바 출시           1   \n",
              "3      천애협로 재밌네신마경천기도 재밌더라아침 댓바람부터 공차던 때가 그립다톰하디 레전드 ...          17   \n",
              "4                 외자 이름 뭔가 멋있음비와이 처럼 랩하고싶다대학살을 준비군사의 생사필           4   \n",
              "...                                                  ...         ...   \n",
              "32945                             제가 盧아라는 사실을 잊지말아주세요...           1   \n",
              "32946  갤러리 불판 갈았네요.커터칼 팔목 위에 세우기 하실 분.일어났어요.배고파요.지금 듣...         186   \n",
              "32947  다 아는 사람들이구먼개이들아 야식 ㄱㄱ ㄴㄴ?우울증 완치함 ㅁㅌㅊ?친구한테 ㅆㅎㅌㅊ...          16   \n",
              "32948                           나 곧 생일임타투갤이노ㅋㅋ공앱 존나 갤갤거림           3   \n",
              "32949  스터너 존나 건배~서울 살면 어떰? 재밌음?나 보고 정이 없대...니들 사이비랑 코...         111   \n",
              "\n",
              "       whole_length  diversity  \n",
              "0               112   0.970588  \n",
              "1               477   0.946565  \n",
              "2                14   1.000000  \n",
              "3               227   0.986301  \n",
              "4                38   1.000000  \n",
              "...             ...        ...  \n",
              "32945            22   1.000000  \n",
              "32946          2331   0.773676  \n",
              "32947           208   0.935484  \n",
              "32948            24   1.000000  \n",
              "32949          1945   0.771200  \n",
              "\n",
              "[32950 rows x 6 columns]"
            ]
          },
          "execution_count": 99,
          "metadata": {},
          "output_type": "execute_result"
        }
      ],
      "source": [
        "grouped_by_author"
      ]
    },
    {
      "cell_type": "code",
      "execution_count": null,
      "metadata": {
        "colab": {
          "base_uri": "https://localhost:8080/",
          "height": 424
        },
        "id": "cC6n-xt_90tY",
        "outputId": "2e723f76-09d2-4945-eb0d-0d61bf8904df"
      },
      "outputs": [
        {
          "data": {
            "text/html": [
              "\n",
              "  <div id=\"df-7ecf4c27-3161-4aa8-9af0-0940c0ccfcb6\">\n",
              "    <div class=\"colab-df-container\">\n",
              "      <div>\n",
              "<style scoped>\n",
              "    .dataframe tbody tr th:only-of-type {\n",
              "        vertical-align: middle;\n",
              "    }\n",
              "\n",
              "    .dataframe tbody tr th {\n",
              "        vertical-align: top;\n",
              "    }\n",
              "\n",
              "    .dataframe thead th {\n",
              "        text-align: right;\n",
              "    }\n",
              "</style>\n",
              "<table border=\"1\" class=\"dataframe\">\n",
              "  <thead>\n",
              "    <tr style=\"text-align: right;\">\n",
              "      <th></th>\n",
              "      <th>author</th>\n",
              "      <th>title</th>\n",
              "      <th>post_count</th>\n",
              "      <th>whole_length</th>\n",
              "    </tr>\n",
              "  </thead>\n",
              "  <tbody>\n",
              "    <tr>\n",
              "      <th>0</th>\n",
              "      <td>\u0001</td>\n",
              "      <td>솔직히 21살이나 39살이나 겉모습으론 구분안되는듯? ㅎㅎ배꼽주의) 충동구매를 많이...</td>\n",
              "      <td>5</td>\n",
              "      <td>112</td>\n",
              "    </tr>\n",
              "    <tr>\n",
              "      <th>1</th>\n",
              "      <td>..(182.213)</td>\n",
              "      <td>..다녀왔습니다룸빵녀 젖 주무르기걔 어디갔냐룸빵하면 ,, 그갤러보구싶다 ㅠㅠㅠㅠㅠ그...</td>\n",
              "      <td>49</td>\n",
              "      <td>477</td>\n",
              "    </tr>\n",
              "    <tr>\n",
              "      <th>2</th>\n",
              "      <td>.민초죠아(61.75)</td>\n",
              "      <td>속보) 거꾸로 돼지바 출시</td>\n",
              "      <td>1</td>\n",
              "      <td>14</td>\n",
              "    </tr>\n",
              "    <tr>\n",
              "      <th>3</th>\n",
              "      <td>T-REX(112.72)</td>\n",
              "      <td>천애협로 재밌네신마경천기도 재밌더라아침 댓바람부터 공차던 때가 그립다톰하디 레전드 ...</td>\n",
              "      <td>17</td>\n",
              "      <td>227</td>\n",
              "    </tr>\n",
              "    <tr>\n",
              "      <th>4</th>\n",
              "      <td>T-REX(223.33)</td>\n",
              "      <td>외자 이름 뭔가 멋있음비와이 처럼 랩하고싶다대학살을 준비군사의 생사필</td>\n",
              "      <td>4</td>\n",
              "      <td>38</td>\n",
              "    </tr>\n",
              "    <tr>\n",
              "      <th>...</th>\n",
              "      <td>...</td>\n",
              "      <td>...</td>\n",
              "      <td>...</td>\n",
              "      <td>...</td>\n",
              "    </tr>\n",
              "    <tr>\n",
              "      <th>32945</th>\n",
              "      <td>盧아(49.172)</td>\n",
              "      <td>제가 盧아라는 사실을 잊지말아주세요...</td>\n",
              "      <td>1</td>\n",
              "      <td>22</td>\n",
              "    </tr>\n",
              "    <tr>\n",
              "      <th>32946</th>\n",
              "      <td>＃아이묭</td>\n",
              "      <td>갤러리 불판 갈았네요.커터칼 팔목 위에 세우기 하실 분.일어났어요.배고파요.지금 듣...</td>\n",
              "      <td>186</td>\n",
              "      <td>2331</td>\n",
              "    </tr>\n",
              "    <tr>\n",
              "      <th>32947</th>\n",
              "      <td>（＾ω＾）(1.229)</td>\n",
              "      <td>다 아는 사람들이구먼개이들아 야식 ㄱㄱ ㄴㄴ?우울증 완치함 ㅁㅌㅊ?친구한테 ㅆㅎㅌㅊ...</td>\n",
              "      <td>16</td>\n",
              "      <td>208</td>\n",
              "    </tr>\n",
              "    <tr>\n",
              "      <th>32948</th>\n",
              "      <td>（＾ω＾）(118.235)</td>\n",
              "      <td>나 곧 생일임타투갤이노ㅋㅋ공앱 존나 갤갤거림</td>\n",
              "      <td>3</td>\n",
              "      <td>24</td>\n",
              "    </tr>\n",
              "    <tr>\n",
              "      <th>32949</th>\n",
              "      <td>９２</td>\n",
              "      <td>스터너 존나 건배~서울 살면 어떰? 재밌음?나 보고 정이 없대...니들 사이비랑 코...</td>\n",
              "      <td>111</td>\n",
              "      <td>1945</td>\n",
              "    </tr>\n",
              "  </tbody>\n",
              "</table>\n",
              "<p>32950 rows × 4 columns</p>\n",
              "</div>\n",
              "      <button class=\"colab-df-convert\" onclick=\"convertToInteractive('df-7ecf4c27-3161-4aa8-9af0-0940c0ccfcb6')\"\n",
              "              title=\"Convert this dataframe to an interactive table.\"\n",
              "              style=\"display:none;\">\n",
              "        \n",
              "  <svg xmlns=\"http://www.w3.org/2000/svg\" height=\"24px\"viewBox=\"0 0 24 24\"\n",
              "       width=\"24px\">\n",
              "    <path d=\"M0 0h24v24H0V0z\" fill=\"none\"/>\n",
              "    <path d=\"M18.56 5.44l.94 2.06.94-2.06 2.06-.94-2.06-.94-.94-2.06-.94 2.06-2.06.94zm-11 1L8.5 8.5l.94-2.06 2.06-.94-2.06-.94L8.5 2.5l-.94 2.06-2.06.94zm10 10l.94 2.06.94-2.06 2.06-.94-2.06-.94-.94-2.06-.94 2.06-2.06.94z\"/><path d=\"M17.41 7.96l-1.37-1.37c-.4-.4-.92-.59-1.43-.59-.52 0-1.04.2-1.43.59L10.3 9.45l-7.72 7.72c-.78.78-.78 2.05 0 2.83L4 21.41c.39.39.9.59 1.41.59.51 0 1.02-.2 1.41-.59l7.78-7.78 2.81-2.81c.8-.78.8-2.07 0-2.86zM5.41 20L4 18.59l7.72-7.72 1.47 1.35L5.41 20z\"/>\n",
              "  </svg>\n",
              "      </button>\n",
              "      \n",
              "  <style>\n",
              "    .colab-df-container {\n",
              "      display:flex;\n",
              "      flex-wrap:wrap;\n",
              "      gap: 12px;\n",
              "    }\n",
              "\n",
              "    .colab-df-convert {\n",
              "      background-color: #E8F0FE;\n",
              "      border: none;\n",
              "      border-radius: 50%;\n",
              "      cursor: pointer;\n",
              "      display: none;\n",
              "      fill: #1967D2;\n",
              "      height: 32px;\n",
              "      padding: 0 0 0 0;\n",
              "      width: 32px;\n",
              "    }\n",
              "\n",
              "    .colab-df-convert:hover {\n",
              "      background-color: #E2EBFA;\n",
              "      box-shadow: 0px 1px 2px rgba(60, 64, 67, 0.3), 0px 1px 3px 1px rgba(60, 64, 67, 0.15);\n",
              "      fill: #174EA6;\n",
              "    }\n",
              "\n",
              "    [theme=dark] .colab-df-convert {\n",
              "      background-color: #3B4455;\n",
              "      fill: #D2E3FC;\n",
              "    }\n",
              "\n",
              "    [theme=dark] .colab-df-convert:hover {\n",
              "      background-color: #434B5C;\n",
              "      box-shadow: 0px 1px 3px 1px rgba(0, 0, 0, 0.15);\n",
              "      filter: drop-shadow(0px 1px 2px rgba(0, 0, 0, 0.3));\n",
              "      fill: #FFFFFF;\n",
              "    }\n",
              "  </style>\n",
              "\n",
              "      <script>\n",
              "        const buttonEl =\n",
              "          document.querySelector('#df-7ecf4c27-3161-4aa8-9af0-0940c0ccfcb6 button.colab-df-convert');\n",
              "        buttonEl.style.display =\n",
              "          google.colab.kernel.accessAllowed ? 'block' : 'none';\n",
              "\n",
              "        async function convertToInteractive(key) {\n",
              "          const element = document.querySelector('#df-7ecf4c27-3161-4aa8-9af0-0940c0ccfcb6');\n",
              "          const dataTable =\n",
              "            await google.colab.kernel.invokeFunction('convertToInteractive',\n",
              "                                                     [key], {});\n",
              "          if (!dataTable) return;\n",
              "\n",
              "          const docLinkHtml = 'Like what you see? Visit the ' +\n",
              "            '<a target=\"_blank\" href=https://colab.research.google.com/notebooks/data_table.ipynb>data table notebook</a>'\n",
              "            + ' to learn more about interactive tables.';\n",
              "          element.innerHTML = '';\n",
              "          dataTable['output_type'] = 'display_data';\n",
              "          await google.colab.output.renderOutput(dataTable, element);\n",
              "          const docLink = document.createElement('div');\n",
              "          docLink.innerHTML = docLinkHtml;\n",
              "          element.appendChild(docLink);\n",
              "        }\n",
              "      </script>\n",
              "    </div>\n",
              "  </div>\n",
              "  "
            ],
            "text/plain": [
              "               author                                              title  \\\n",
              "0                   \u0001  솔직히 21살이나 39살이나 겉모습으론 구분안되는듯? ㅎㅎ배꼽주의) 충동구매를 많이...   \n",
              "1         ..(182.213)  ..다녀왔습니다룸빵녀 젖 주무르기걔 어디갔냐룸빵하면 ,, 그갤러보구싶다 ㅠㅠㅠㅠㅠ그...   \n",
              "2        .민초죠아(61.75)                                     속보) 거꾸로 돼지바 출시   \n",
              "3       T-REX(112.72)  천애협로 재밌네신마경천기도 재밌더라아침 댓바람부터 공차던 때가 그립다톰하디 레전드 ...   \n",
              "4       T-REX(223.33)             외자 이름 뭔가 멋있음비와이 처럼 랩하고싶다대학살을 준비군사의 생사필   \n",
              "...               ...                                                ...   \n",
              "32945      盧아(49.172)                             제가 盧아라는 사실을 잊지말아주세요...   \n",
              "32946            ＃아이묭  갤러리 불판 갈았네요.커터칼 팔목 위에 세우기 하실 분.일어났어요.배고파요.지금 듣...   \n",
              "32947    （＾ω＾）(1.229)  다 아는 사람들이구먼개이들아 야식 ㄱㄱ ㄴㄴ?우울증 완치함 ㅁㅌㅊ?친구한테 ㅆㅎㅌㅊ...   \n",
              "32948  （＾ω＾）(118.235)                           나 곧 생일임타투갤이노ㅋㅋ공앱 존나 갤갤거림   \n",
              "32949              ９２  스터너 존나 건배~서울 살면 어떰? 재밌음?나 보고 정이 없대...니들 사이비랑 코...   \n",
              "\n",
              "       post_count  whole_length  \n",
              "0               5           112  \n",
              "1              49           477  \n",
              "2               1            14  \n",
              "3              17           227  \n",
              "4               4            38  \n",
              "...           ...           ...  \n",
              "32945           1            22  \n",
              "32946         186          2331  \n",
              "32947          16           208  \n",
              "32948           3            24  \n",
              "32949         111          1945  \n",
              "\n",
              "[32950 rows x 4 columns]"
            ]
          },
          "execution_count": 154,
          "metadata": {},
          "output_type": "execute_result"
        }
      ],
      "source": [
        "## title -> tokenized 된 걸로 바꾸고 -> 우울증 지수 계산 \n"
      ]
    },
    {
      "cell_type": "code",
      "execution_count": null,
      "metadata": {
        "id": "bzivfRyyrDMY"
      },
      "outputs": [],
      "source": [
        "\n",
        "grouped_by_author.to_csv(save_dir+'/'+'contents_by_author.csv')"
      ]
    },
    {
      "cell_type": "code",
      "execution_count": null,
      "metadata": {
        "id": "TtJeDvn8_0Lu"
      },
      "outputs": [],
      "source": [
        "from soynlp.vectorizer import sent_to_word_contexts_matrix\n",
        "from scipy import sparse\n",
        "import pickle\n",
        "from soynlp.word import pmi as pmi_func\n",
        "\n",
        "okt = Okt() ## 미리 분석한 정보 로드\n",
        "mat_save_path = \"/content/drive/MyDrive/Detect_SC_symptoms/models/words_sparse_mat.npz\"\n",
        "index_list_save_path = \"/content/drive/MyDrive/Detect_SC_symptoms/models/idx_to_vocabs\"\n",
        "\n",
        "x = sparse.load_npz(mat_save_path)\n",
        "with open(index_list_save_path, \"rb\") as fp:   # Unpickling\n",
        "  idx2vocab = pickle.load(fp)\n",
        "\n",
        "pmi, px, py = pmi_func(\n",
        "    x,\n",
        "    min_pmi = 0,\n",
        "    alpha = 0.0,\n",
        "    beta = 0.75\n",
        ")\n",
        "\n",
        "vocab2idx = {vocab:idx for idx, vocab in enumerate(idx2vocab)}\n",
        "query = vocab2idx['살고싶다']\n",
        "\n",
        "submatrix = pmi[query,:].tocsr() # get the row of query\n",
        "contexts = submatrix.nonzero()[1] # nonzero() return (rows, columns)\n",
        "pmi_i = submatrix.data\n",
        "\n",
        "most_relateds = [(idx, pmi_ij) for idx, pmi_ij in zip(contexts, pmi_i)]\n",
        "most_relateds = sorted(most_relateds, key=lambda x:-x[1])[:10]\n",
        "most_relateds = [(idx2vocab[idx], pmi_ij) for idx, pmi_ij in most_relateds]\n",
        "\n",
        "from pprint import pprint\n",
        "pprint(most_relateds)"
      ]
    },
    {
      "cell_type": "code",
      "execution_count": null,
      "metadata": {
        "colab": {
          "base_uri": "https://localhost:8080/"
        },
        "id": "Da6yRX8nADy5",
        "outputId": "1eb867c3-17a7-4d0b-c981-35ac6a1d57c4"
      },
      "outputs": [
        {
          "name": "stdout",
          "output_type": "stream",
          "text": [
            "[('말안하고', 5.539395551806139),\n",
            " ('받으며', 5.453687463545265),\n",
            " ('베어그릴스', 5.371115126218525),\n",
            " ('박영', 5.2524471223073546),\n",
            " ('키우면서', 5.2524471223073546),\n",
            " ('배당금', 5.19948394689689),\n",
            " ('성공해서', 5.182629305007846),\n",
            " ('대강', 5.140154545808996),\n",
            " ('가혹하', 5.134225414154668),\n",
            " ('하쿠', 5.118760948752615)]\n"
          ]
        }
      ],
      "source": []
    },
    {
      "cell_type": "code",
      "execution_count": null,
      "metadata": {
        "id": "Xbh9Umrks0XT"
      },
      "outputs": [],
      "source": []
    },
    {
      "cell_type": "code",
      "execution_count": null,
      "metadata": {
        "colab": {
          "base_uri": "https://localhost:8080/"
        },
        "id": "Bg7UZWJzd-am",
        "outputId": "377bbf92-337e-4d51-ec46-918e5066c52a"
      },
      "outputs": [
        {
          "name": "stdout",
          "output_type": "stream",
          "text": [
            "training was done. used memory 6.691 Gb\n",
            "all cohesion probabilities was computed. # words = 480337\n",
            "all branching entropies was computed # words = 523918\n",
            "all accessor variety was computed # words = 523918\n"
          ]
        }
      ],
      "source": [
        "##SoyNLP 훈련 및 저장 코드\n",
        "from soynlp.word import WordExtractor\n",
        "\n",
        "word_extractor = WordExtractor()\n",
        "word_extractor.train(data[data.title.isna()==False].title)\n",
        "word_score_table = word_extractor.extract()\n",
        "\n",
        "model_fname=\"/content/drive/MyDrive/Detect_SC_symptoms/models\" + \"/\" + \"soy_wordExtractor_full.model\"\n",
        "word_extractor.save(model_fname)"
      ]
    },
    {
      "cell_type": "code",
      "execution_count": null,
      "metadata": {
        "colab": {
          "base_uri": "https://localhost:8080/"
        },
        "id": "bsvzE94CfbQl",
        "outputId": "e3f61926-fbd0-4dde-e86d-40ff07662194"
      },
      "outputs": [
        {
          "name": "stdout",
          "output_type": "stream",
          "text": [
            "all cohesion probabilities was computed. # words = 480337\n",
            "all branching entropies was computed # words = 523918\n",
            "all accessor variety was computed # words = 523918\n"
          ]
        }
      ],
      "source": [
        "import math\n",
        "from soynlp.word import WordExtractor\n",
        "from soynlp.tokenizer import LTokenizer\n",
        "\n",
        "## Word_Extractor param 설정 및 로드\n",
        "word_extractor = WordExtractor(min_frequency=10,\n",
        "                               min_cohesion_forward=5.0,\n",
        "                               min_right_branching_entropy=0.0)\n",
        "word_extractor.load(model_fname)\n",
        "\n",
        "## Cohesion 과 Entropy 계산해서 tokenizer 생성\n",
        "scores = word_extractor.word_scores()\n",
        "scores = {key : (scores[key].cohesion_forward * math.exp(scores[key].right_branching_entropy)) \\\n",
        "          for key in scores.keys()}\n",
        "\n",
        "## tokenizer 생성\n",
        "tokenizer = LTokenizer(scores=scores)"
      ]
    },
    {
      "cell_type": "code",
      "execution_count": null,
      "metadata": {
        "colab": {
          "base_uri": "https://localhost:8080/"
        },
        "id": "HfW3Bm4Dh4HB",
        "outputId": "30668207-4d7a-4bef-ba95-59b01076825d"
      },
      "outputs": [
        {
          "name": "stdout",
          "output_type": "stream",
          "text": [
            "before : 나 병신인가...\n",
            "['나', '병신', '...']\n",
            "before : 나고닉으로글올리규싶읃데\n",
            "['나고', '닉', '글', '올리', '규', '싶', '읃데']\n",
            "before : 씨발 남자직원이 음식 깔아주니까 \n",
            "['씨발', '남자', '직원', '음식', '깔아', '주']\n",
            "before : 나도근데아이디두번바꿈\n",
            "['나도', '근데', '아이디', '두', '번', '바꿈']\n",
            "before : 알바 바보 쉨ㅋㅋㅋ 나도 차단해봐라\n",
            "['알바', '바보', '쉨', 'ㅋㅋㅋ', '나도', '차단', '해봐라']\n"
          ]
        }
      ],
      "source": [
        "## SoyNLP 사용 예 -> SoyNLP(tokenizer) -> okt pos tagger -> 불용어 제거\n",
        "from konlpy.tag import Okt\n",
        "from soynlp.normalizer import *\n",
        "\n",
        "def preprocess_tokenizer(sentence) : \n",
        "\n",
        "  pos_tagger = Okt()\n",
        "  # sentence = emoticon_normalize(sentence)\n",
        "  # sentence = repeat_normalize(sentence)\n",
        "\n",
        "  #soynlp tokenizer로 나눠준 후 konlpy Okt postagger로 품사 판별\n",
        "  return [word[0]\n",
        "          for word in pos_tagger.pos(' '.join(tokenizer.tokenize(sentence)))\n",
        "          if word[1] != 'Josa'] # 조사는 분석에서 제외\n",
        "\n",
        "\n",
        "# preprocess(tokenizer, sent)\n",
        "for sent in data.title[-5:] :\n",
        "  print('before :', sent)\n",
        "  # print('after :', okt.morphs(sent))\n",
        "  print(preprocess_tokenizer(sent))"
      ]
    },
    {
      "cell_type": "markdown",
      "metadata": {
        "id": "_Lc8B1z7zgSb"
      },
      "source": [
        "## PMI 분석\n",
        "\n",
        "\n",
        "단어들 간의 연관관계를 분석해서 자살 관련 정보 파악에 도움이 되는 __다른 단어__들은 무엇이 있는 지 알아보자.\n",
        "\n",
        "참고 : [SoyNLP 공식 문서](!https://github.com/lovit/soynlp#vectorizer)"
      ]
    },
    {
      "cell_type": "code",
      "execution_count": null,
      "metadata": {
        "colab": {
          "base_uri": "https://localhost:8080/",
          "height": 426
        },
        "id": "kYCoGn58zyjr",
        "outputId": "8cdf0263-c5a8-4b11-f646-f56a7e14e28f"
      },
      "outputs": [
        {
          "name": "stdout",
          "output_type": "stream",
          "text": [
            "Create (word, contexts) matrix\n",
            "  - counting word frequency from 1175000 sents, mem=5.404 Gb"
          ]
        },
        {
          "ename": "AttributeError",
          "evalue": "ignored",
          "output_type": "error",
          "traceback": [
            "\u001b[0;31m---------------------------------------------------------------------------\u001b[0m",
            "\u001b[0;31mAttributeError\u001b[0m                            Traceback (most recent call last)",
            "\u001b[0;32m<ipython-input-86-d59013f4fc09>\u001b[0m in \u001b[0;36m<module>\u001b[0;34m\u001b[0m\n\u001b[1;32m      7\u001b[0m     \u001b[0mtokenizer\u001b[0m\u001b[0;34m=\u001b[0m\u001b[0mpreprocess_tokenizer\u001b[0m\u001b[0;34m,\u001b[0m \u001b[0;31m# (default) lambda x:x.split(),\u001b[0m\u001b[0;34m\u001b[0m\u001b[0;34m\u001b[0m\u001b[0m\n\u001b[1;32m      8\u001b[0m     \u001b[0mdynamic_weight\u001b[0m\u001b[0;34m=\u001b[0m\u001b[0;32mFalse\u001b[0m\u001b[0;34m,\u001b[0m\u001b[0;34m\u001b[0m\u001b[0;34m\u001b[0m\u001b[0m\n\u001b[0;32m----> 9\u001b[0;31m     \u001b[0mverbose\u001b[0m\u001b[0;34m=\u001b[0m\u001b[0;32mTrue\u001b[0m\u001b[0;34m\u001b[0m\u001b[0;34m\u001b[0m\u001b[0m\n\u001b[0m\u001b[1;32m     10\u001b[0m )\n\u001b[1;32m     11\u001b[0m \u001b[0;34m\u001b[0m\u001b[0m\n",
            "\u001b[0;32m/usr/local/lib/python3.7/dist-packages/soynlp/vectorizer/_word_context.py\u001b[0m in \u001b[0;36msent_to_word_contexts_matrix\u001b[0;34m(sents, windows, min_tf, tokenizer, dynamic_weight, verbose)\u001b[0m\n\u001b[1;32m     15\u001b[0m \u001b[0;34m\u001b[0m\u001b[0m\n\u001b[1;32m     16\u001b[0m     vocab2idx, idx2vocab = _scanning_vocabulary(\n\u001b[0;32m---> 17\u001b[0;31m         sents, min_tf, tokenizer, verbose)\n\u001b[0m\u001b[1;32m     18\u001b[0m \u001b[0;34m\u001b[0m\u001b[0m\n\u001b[1;32m     19\u001b[0m     word2contexts = _word_context(\n",
            "\u001b[0;32m/usr/local/lib/python3.7/dist-packages/soynlp/vectorizer/_word_context.py\u001b[0m in \u001b[0;36m_scanning_vocabulary\u001b[0;34m(sents, min_tf, tokenizer, verbose)\u001b[0m\n\u001b[1;32m     36\u001b[0m             \u001b[0m_print_status\u001b[0m\u001b[0;34m(\u001b[0m\u001b[0;34m'  - counting word frequency'\u001b[0m\u001b[0;34m,\u001b[0m \u001b[0mi_sent\u001b[0m\u001b[0;34m)\u001b[0m\u001b[0;34m\u001b[0m\u001b[0;34m\u001b[0m\u001b[0m\n\u001b[1;32m     37\u001b[0m \u001b[0;34m\u001b[0m\u001b[0m\n\u001b[0;32m---> 38\u001b[0;31m         \u001b[0mwords\u001b[0m \u001b[0;34m=\u001b[0m \u001b[0mtokenizer\u001b[0m\u001b[0;34m(\u001b[0m\u001b[0msent\u001b[0m\u001b[0;34m)\u001b[0m\u001b[0;34m\u001b[0m\u001b[0;34m\u001b[0m\u001b[0m\n\u001b[0m\u001b[1;32m     39\u001b[0m         \u001b[0;32mfor\u001b[0m \u001b[0mword\u001b[0m \u001b[0;32min\u001b[0m \u001b[0mwords\u001b[0m\u001b[0;34m:\u001b[0m\u001b[0;34m\u001b[0m\u001b[0;34m\u001b[0m\u001b[0m\n\u001b[1;32m     40\u001b[0m             \u001b[0mword_counter\u001b[0m\u001b[0;34m[\u001b[0m\u001b[0mword\u001b[0m\u001b[0;34m]\u001b[0m \u001b[0;34m+=\u001b[0m \u001b[0;36m1\u001b[0m\u001b[0;34m\u001b[0m\u001b[0;34m\u001b[0m\u001b[0m\n",
            "\u001b[0;32m<ipython-input-85-18c60c7e8ef4>\u001b[0m in \u001b[0;36mpreprocess_tokenizer\u001b[0;34m(sentence)\u001b[0m\n\u001b[1;32m     11\u001b[0m   \u001b[0;31m#soynlp tokenizer로 나눠준 후 konlpy Okt postagger로 품사 판별\u001b[0m\u001b[0;34m\u001b[0m\u001b[0;34m\u001b[0m\u001b[0;34m\u001b[0m\u001b[0m\n\u001b[1;32m     12\u001b[0m   return [word[0]\n\u001b[0;32m---> 13\u001b[0;31m           \u001b[0;32mfor\u001b[0m \u001b[0mword\u001b[0m \u001b[0;32min\u001b[0m \u001b[0mpos_tagger\u001b[0m\u001b[0;34m.\u001b[0m\u001b[0mpos\u001b[0m\u001b[0;34m(\u001b[0m\u001b[0;34m' '\u001b[0m\u001b[0;34m.\u001b[0m\u001b[0mjoin\u001b[0m\u001b[0;34m(\u001b[0m\u001b[0mtokenizer\u001b[0m\u001b[0;34m.\u001b[0m\u001b[0mtokenize\u001b[0m\u001b[0;34m(\u001b[0m\u001b[0msentence\u001b[0m\u001b[0;34m)\u001b[0m\u001b[0;34m)\u001b[0m\u001b[0;34m)\u001b[0m\u001b[0;34m\u001b[0m\u001b[0;34m\u001b[0m\u001b[0m\n\u001b[0m\u001b[1;32m     14\u001b[0m           if word[1] != 'Josa'] # 조사는 분석에서 제외\n\u001b[1;32m     15\u001b[0m \u001b[0;34m\u001b[0m\u001b[0m\n",
            "\u001b[0;32m/usr/local/lib/python3.7/dist-packages/soynlp/tokenizer/_tokenizer.py\u001b[0m in \u001b[0;36mtokenize\u001b[0;34m(self, sentence, tolerance, flatten, remove_r)\u001b[0m\n\u001b[1;32m    109\u001b[0m             \u001b[0;32mreturn\u001b[0m \u001b[0;34m(\u001b[0m\u001b[0mbest\u001b[0m\u001b[0;34m[\u001b[0m\u001b[0;36m1\u001b[0m\u001b[0;34m]\u001b[0m\u001b[0;34m,\u001b[0m \u001b[0mbest\u001b[0m\u001b[0;34m[\u001b[0m\u001b[0;36m2\u001b[0m\u001b[0;34m]\u001b[0m\u001b[0;34m)\u001b[0m\u001b[0;34m\u001b[0m\u001b[0;34m\u001b[0m\u001b[0m\n\u001b[1;32m    110\u001b[0m \u001b[0;34m\u001b[0m\u001b[0m\n\u001b[0;32m--> 111\u001b[0;31m         \u001b[0mtokens\u001b[0m \u001b[0;34m=\u001b[0m \u001b[0;34m[\u001b[0m\u001b[0mtoken_to_lr\u001b[0m\u001b[0;34m(\u001b[0m\u001b[0mtoken\u001b[0m\u001b[0;34m,\u001b[0m \u001b[0mtolerance\u001b[0m\u001b[0;34m)\u001b[0m \u001b[0;32mfor\u001b[0m \u001b[0mtoken\u001b[0m \u001b[0;32min\u001b[0m \u001b[0msentence\u001b[0m\u001b[0;34m.\u001b[0m\u001b[0msplit\u001b[0m\u001b[0;34m(\u001b[0m\u001b[0;34m)\u001b[0m\u001b[0;34m]\u001b[0m\u001b[0;34m\u001b[0m\u001b[0;34m\u001b[0m\u001b[0m\n\u001b[0m\u001b[1;32m    112\u001b[0m \u001b[0;34m\u001b[0m\u001b[0m\n\u001b[1;32m    113\u001b[0m         \u001b[0;32mif\u001b[0m \u001b[0mremove_r\u001b[0m\u001b[0;34m:\u001b[0m\u001b[0;34m\u001b[0m\u001b[0;34m\u001b[0m\u001b[0m\n",
            "\u001b[0;31mAttributeError\u001b[0m: 'float' object has no attribute 'split'"
          ]
        }
      ],
      "source": [
        "from soynlp.vectorizer import sent_to_word_contexts_matrix\n",
        "\n",
        "x, idx2vocab = sent_to_word_contexts_matrix(\n",
        "    data.title,\n",
        "    windows=3,\n",
        "    min_tf=10,\n",
        "    tokenizer=preprocess_tokenizer, # (default) lambda x:x.split(),\n",
        "    dynamic_weight=False,\n",
        "    verbose=True\n",
        ")\n",
        "\n",
        "from soynlp.word import pmi\n",
        "\n",
        "pmi_dok = pmi(\n",
        "    x,\n",
        "    min_pmi=0,\n",
        "    alpha=0.0001,\n",
        "    verbose=True\n",
        ")"
      ]
    },
    {
      "cell_type": "markdown",
      "metadata": {
        "id": "DdQwGms-5Bde"
      },
      "source": [
        "# 방금 만든 거 무조건 저장해야함.....! 2시간 걸림"
      ]
    },
    {
      "cell_type": "code",
      "execution_count": null,
      "metadata": {
        "id": "gKa3ijQc2TP_"
      },
      "outputs": [],
      "source": [
        "vocab2idx = {vocab:idx for idx, vocab in enumerate(idx2vocab)}\n",
        "query = vocab2idx['아이오아이']\n",
        "\n",
        "submatrix = pmi[query,:].tocsr() # get the row of query\n",
        "contexts = submatrix.nonzero()[1] # nonzero() return (rows, columns)\n",
        "pmi_i = submatrix.data\n",
        "\n",
        "most_relateds = [(idx, pmi_ij) for idx, pmi_ij in zip(contexts, pmi_i)]\n",
        "most_relateds = sorted(most_relateds, key=lambda x:-x[1])[:10]\n",
        "most_relateds = [(idx2vocab[idx], pmi_ij) for idx, pmi_ij in most_relateds]\n",
        "\n",
        "from pprint import pprint\n",
        "pprint(most_relateds)"
      ]
    },
    {
      "cell_type": "code",
      "execution_count": null,
      "metadata": {
        "colab": {
          "base_uri": "https://localhost:8080/",
          "height": 36
        },
        "id": "TBlmbVsQotL4",
        "outputId": "c8b596a3-1e1e-4947-8880-30e94178d914"
      },
      "outputs": [
        {
          "data": {
            "application/vnd.google.colaboratory.intrinsic+json": {
              "type": "string"
            },
            "text/plain": [
              "'ㅋㅋ쿠ㅜㅜ'"
            ]
          },
          "execution_count": 62,
          "metadata": {},
          "output_type": "execute_result"
        }
      ],
      "source": [
        "from soynlp.utils import most_similar\n",
        "\n",
        "most_similar('아이오아이', pmi, vocab2idx, idx2vocab)"
      ]
    },
    {
      "cell_type": "code",
      "execution_count": null,
      "metadata": {
        "colab": {
          "base_uri": "https://localhost:8080/"
        },
        "id": "CHDrpL9mh6KU",
        "outputId": "82d70fd1-5138-4e40-c28e-8109ebf40bc5"
      },
      "outputs": [
        {
          "data": {
            "text/plain": [
              "['__call__',\n",
              " '__class__',\n",
              " '__delattr__',\n",
              " '__dict__',\n",
              " '__dir__',\n",
              " '__doc__',\n",
              " '__eq__',\n",
              " '__format__',\n",
              " '__ge__',\n",
              " '__getattribute__',\n",
              " '__gt__',\n",
              " '__hash__',\n",
              " '__init__',\n",
              " '__init_subclass__',\n",
              " '__le__',\n",
              " '__lt__',\n",
              " '__module__',\n",
              " '__ne__',\n",
              " '__new__',\n",
              " '__reduce__',\n",
              " '__reduce_ex__',\n",
              " '__repr__',\n",
              " '__setattr__',\n",
              " '__sizeof__',\n",
              " '__str__',\n",
              " '__subclasshook__',\n",
              " '__weakref__',\n",
              " '_ds',\n",
              " '_scores',\n",
              " 'tokenize']"
            ]
          },
          "execution_count": 41,
          "metadata": {},
          "output_type": "execute_result"
        }
      ],
      "source": [
        "from soynlp.postagger import Dictionary\n",
        "from soynlp.postagger import LRTemplateMatcher\n",
        "from soynlp.postagger import LREvaluator\n",
        "from soynlp.postagger import SimpleTagger\n",
        "from soynlp.postagger import UnknowLRPostprocessor\n",
        "\n",
        "dictionary = Dictionary(pos_dict)\n",
        "generator = LRTemplateMatcher(dictionary)    \n",
        "evaluator = LREvaluator()\n",
        "postprocessor = UnknowLRPostprocessor()\n",
        "tagger = SimpleTagger(generator, evaluator, postprocessor)"
      ]
    },
    {
      "cell_type": "code",
      "execution_count": null,
      "metadata": {
        "id": "zebJEEnblSbb"
      },
      "outputs": [],
      "source": []
    },
    {
      "cell_type": "code",
      "execution_count": null,
      "metadata": {
        "colab": {
          "base_uri": "https://localhost:8080/",
          "height": 542
        },
        "id": "LaHRv17atrbb",
        "outputId": "aea928ce-6875-4a25-ddcf-6d525fa496ba"
      },
      "outputs": [
        {
          "data": {
            "text/html": [
              "<html>\n",
              "<head><meta charset=\"utf-8\" /></head>\n",
              "<body>\n",
              "    <div>            <script src=\"https://cdnjs.cloudflare.com/ajax/libs/mathjax/2.7.5/MathJax.js?config=TeX-AMS-MML_SVG\"></script><script type=\"text/javascript\">if (window.MathJax) {MathJax.Hub.Config({SVG: {font: \"STIX-Web\"}});}</script>                <script type=\"text/javascript\">window.PlotlyConfig = {MathJaxConfig: 'local'};</script>\n",
              "        <script src=\"https://cdn.plot.ly/plotly-2.8.3.min.js\"></script>                <div id=\"9614fc7c-1eaf-4e42-beea-7b72123a1a53\" class=\"plotly-graph-div\" style=\"height:525px; width:100%;\"></div>            <script type=\"text/javascript\">                                    window.PLOTLYENV=window.PLOTLYENV || {};                                    if (document.getElementById(\"9614fc7c-1eaf-4e42-beea-7b72123a1a53\")) {                    Plotly.newPlot(                        \"9614fc7c-1eaf-4e42-beea-7b72123a1a53\",                        [{\"alignmentgroup\":\"True\",\"bingroup\":\"x\",\"hovertemplate\":\"total_bill=%{x}<br>count=%{y}<extra></extra>\",\"legendgroup\":\"\",\"marker\":{\"color\":\"#636efa\",\"pattern\":{\"shape\":\"\"}},\"name\":\"\",\"offsetgroup\":\"\",\"orientation\":\"v\",\"showlegend\":false,\"x\":[16.99,10.34,21.01,23.68,24.59,25.29,8.77,26.88,15.04,14.78,10.27,35.26,15.42,18.43,14.83,21.58,10.33,16.29,16.97,20.65,17.92,20.29,15.77,39.42,19.82,17.81,13.37,12.69,21.7,19.65,9.55,18.35,15.06,20.69,17.78,24.06,16.31,16.93,18.69,31.27,16.04,17.46,13.94,9.68,30.4,18.29,22.23,32.4,28.55,18.04,12.54,10.29,34.81,9.94,25.56,19.49,38.01,26.41,11.24,48.27,20.29,13.81,11.02,18.29,17.59,20.08,16.45,3.07,20.23,15.01,12.02,17.07,26.86,25.28,14.73,10.51,17.92,27.2,22.76,17.29,19.44,16.66,10.07,32.68,15.98,34.83,13.03,18.28,24.71,21.16,28.97,22.49,5.75,16.32,22.75,40.17,27.28,12.03,21.01,12.46,11.35,15.38,44.3,22.42,20.92,15.36,20.49,25.21,18.24,14.31,14.0,7.25,38.07,23.95,25.71,17.31,29.93,10.65,12.43,24.08,11.69,13.42,14.26,15.95,12.48,29.8,8.52,14.52,11.38,22.82,19.08,20.27,11.17,12.26,18.26,8.51,10.33,14.15,16.0,13.16,17.47,34.3,41.19,27.05,16.43,8.35,18.64,11.87,9.78,7.51,14.07,13.13,17.26,24.55,19.77,29.85,48.17,25.0,13.39,16.49,21.5,12.66,16.21,13.81,17.51,24.52,20.76,31.71,10.59,10.63,50.81,15.81,7.25,31.85,16.82,32.9,17.89,14.48,9.6,34.63,34.65,23.33,45.35,23.17,40.55,20.69,20.9,30.46,18.15,23.1,15.69,19.81,28.44,15.48,16.58,7.56,10.34,43.11,13.0,13.51,18.71,12.74,13.0,16.4,20.53,16.47,26.59,38.73,24.27,12.76,30.06,25.89,48.33,13.27,28.17,12.9,28.15,11.59,7.74,30.14,12.16,13.42,8.58,15.98,13.42,16.27,10.09,20.45,13.28,22.12,24.01,15.69,11.61,10.77,15.53,10.07,12.6,32.83,35.83,29.03,27.18,22.67,17.82,18.78],\"xaxis\":\"x\",\"yaxis\":\"y\",\"type\":\"histogram\"}],                        {\"template\":{\"data\":{\"bar\":[{\"error_x\":{\"color\":\"#2a3f5f\"},\"error_y\":{\"color\":\"#2a3f5f\"},\"marker\":{\"line\":{\"color\":\"#E5ECF6\",\"width\":0.5},\"pattern\":{\"fillmode\":\"overlay\",\"size\":10,\"solidity\":0.2}},\"type\":\"bar\"}],\"barpolar\":[{\"marker\":{\"line\":{\"color\":\"#E5ECF6\",\"width\":0.5},\"pattern\":{\"fillmode\":\"overlay\",\"size\":10,\"solidity\":0.2}},\"type\":\"barpolar\"}],\"carpet\":[{\"aaxis\":{\"endlinecolor\":\"#2a3f5f\",\"gridcolor\":\"white\",\"linecolor\":\"white\",\"minorgridcolor\":\"white\",\"startlinecolor\":\"#2a3f5f\"},\"baxis\":{\"endlinecolor\":\"#2a3f5f\",\"gridcolor\":\"white\",\"linecolor\":\"white\",\"minorgridcolor\":\"white\",\"startlinecolor\":\"#2a3f5f\"},\"type\":\"carpet\"}],\"choropleth\":[{\"colorbar\":{\"outlinewidth\":0,\"ticks\":\"\"},\"type\":\"choropleth\"}],\"contour\":[{\"colorbar\":{\"outlinewidth\":0,\"ticks\":\"\"},\"colorscale\":[[0.0,\"#0d0887\"],[0.1111111111111111,\"#46039f\"],[0.2222222222222222,\"#7201a8\"],[0.3333333333333333,\"#9c179e\"],[0.4444444444444444,\"#bd3786\"],[0.5555555555555556,\"#d8576b\"],[0.6666666666666666,\"#ed7953\"],[0.7777777777777778,\"#fb9f3a\"],[0.8888888888888888,\"#fdca26\"],[1.0,\"#f0f921\"]],\"type\":\"contour\"}],\"contourcarpet\":[{\"colorbar\":{\"outlinewidth\":0,\"ticks\":\"\"},\"type\":\"contourcarpet\"}],\"heatmap\":[{\"colorbar\":{\"outlinewidth\":0,\"ticks\":\"\"},\"colorscale\":[[0.0,\"#0d0887\"],[0.1111111111111111,\"#46039f\"],[0.2222222222222222,\"#7201a8\"],[0.3333333333333333,\"#9c179e\"],[0.4444444444444444,\"#bd3786\"],[0.5555555555555556,\"#d8576b\"],[0.6666666666666666,\"#ed7953\"],[0.7777777777777778,\"#fb9f3a\"],[0.8888888888888888,\"#fdca26\"],[1.0,\"#f0f921\"]],\"type\":\"heatmap\"}],\"heatmapgl\":[{\"colorbar\":{\"outlinewidth\":0,\"ticks\":\"\"},\"colorscale\":[[0.0,\"#0d0887\"],[0.1111111111111111,\"#46039f\"],[0.2222222222222222,\"#7201a8\"],[0.3333333333333333,\"#9c179e\"],[0.4444444444444444,\"#bd3786\"],[0.5555555555555556,\"#d8576b\"],[0.6666666666666666,\"#ed7953\"],[0.7777777777777778,\"#fb9f3a\"],[0.8888888888888888,\"#fdca26\"],[1.0,\"#f0f921\"]],\"type\":\"heatmapgl\"}],\"histogram\":[{\"marker\":{\"pattern\":{\"fillmode\":\"overlay\",\"size\":10,\"solidity\":0.2}},\"type\":\"histogram\"}],\"histogram2d\":[{\"colorbar\":{\"outlinewidth\":0,\"ticks\":\"\"},\"colorscale\":[[0.0,\"#0d0887\"],[0.1111111111111111,\"#46039f\"],[0.2222222222222222,\"#7201a8\"],[0.3333333333333333,\"#9c179e\"],[0.4444444444444444,\"#bd3786\"],[0.5555555555555556,\"#d8576b\"],[0.6666666666666666,\"#ed7953\"],[0.7777777777777778,\"#fb9f3a\"],[0.8888888888888888,\"#fdca26\"],[1.0,\"#f0f921\"]],\"type\":\"histogram2d\"}],\"histogram2dcontour\":[{\"colorbar\":{\"outlinewidth\":0,\"ticks\":\"\"},\"colorscale\":[[0.0,\"#0d0887\"],[0.1111111111111111,\"#46039f\"],[0.2222222222222222,\"#7201a8\"],[0.3333333333333333,\"#9c179e\"],[0.4444444444444444,\"#bd3786\"],[0.5555555555555556,\"#d8576b\"],[0.6666666666666666,\"#ed7953\"],[0.7777777777777778,\"#fb9f3a\"],[0.8888888888888888,\"#fdca26\"],[1.0,\"#f0f921\"]],\"type\":\"histogram2dcontour\"}],\"mesh3d\":[{\"colorbar\":{\"outlinewidth\":0,\"ticks\":\"\"},\"type\":\"mesh3d\"}],\"parcoords\":[{\"line\":{\"colorbar\":{\"outlinewidth\":0,\"ticks\":\"\"}},\"type\":\"parcoords\"}],\"pie\":[{\"automargin\":true,\"type\":\"pie\"}],\"scatter\":[{\"marker\":{\"colorbar\":{\"outlinewidth\":0,\"ticks\":\"\"}},\"type\":\"scatter\"}],\"scatter3d\":[{\"line\":{\"colorbar\":{\"outlinewidth\":0,\"ticks\":\"\"}},\"marker\":{\"colorbar\":{\"outlinewidth\":0,\"ticks\":\"\"}},\"type\":\"scatter3d\"}],\"scattercarpet\":[{\"marker\":{\"colorbar\":{\"outlinewidth\":0,\"ticks\":\"\"}},\"type\":\"scattercarpet\"}],\"scattergeo\":[{\"marker\":{\"colorbar\":{\"outlinewidth\":0,\"ticks\":\"\"}},\"type\":\"scattergeo\"}],\"scattergl\":[{\"marker\":{\"colorbar\":{\"outlinewidth\":0,\"ticks\":\"\"}},\"type\":\"scattergl\"}],\"scattermapbox\":[{\"marker\":{\"colorbar\":{\"outlinewidth\":0,\"ticks\":\"\"}},\"type\":\"scattermapbox\"}],\"scatterpolar\":[{\"marker\":{\"colorbar\":{\"outlinewidth\":0,\"ticks\":\"\"}},\"type\":\"scatterpolar\"}],\"scatterpolargl\":[{\"marker\":{\"colorbar\":{\"outlinewidth\":0,\"ticks\":\"\"}},\"type\":\"scatterpolargl\"}],\"scatterternary\":[{\"marker\":{\"colorbar\":{\"outlinewidth\":0,\"ticks\":\"\"}},\"type\":\"scatterternary\"}],\"surface\":[{\"colorbar\":{\"outlinewidth\":0,\"ticks\":\"\"},\"colorscale\":[[0.0,\"#0d0887\"],[0.1111111111111111,\"#46039f\"],[0.2222222222222222,\"#7201a8\"],[0.3333333333333333,\"#9c179e\"],[0.4444444444444444,\"#bd3786\"],[0.5555555555555556,\"#d8576b\"],[0.6666666666666666,\"#ed7953\"],[0.7777777777777778,\"#fb9f3a\"],[0.8888888888888888,\"#fdca26\"],[1.0,\"#f0f921\"]],\"type\":\"surface\"}],\"table\":[{\"cells\":{\"fill\":{\"color\":\"#EBF0F8\"},\"line\":{\"color\":\"white\"}},\"header\":{\"fill\":{\"color\":\"#C8D4E3\"},\"line\":{\"color\":\"white\"}},\"type\":\"table\"}]},\"layout\":{\"annotationdefaults\":{\"arrowcolor\":\"#2a3f5f\",\"arrowhead\":0,\"arrowwidth\":1},\"autotypenumbers\":\"strict\",\"coloraxis\":{\"colorbar\":{\"outlinewidth\":0,\"ticks\":\"\"}},\"colorscale\":{\"diverging\":[[0,\"#8e0152\"],[0.1,\"#c51b7d\"],[0.2,\"#de77ae\"],[0.3,\"#f1b6da\"],[0.4,\"#fde0ef\"],[0.5,\"#f7f7f7\"],[0.6,\"#e6f5d0\"],[0.7,\"#b8e186\"],[0.8,\"#7fbc41\"],[0.9,\"#4d9221\"],[1,\"#276419\"]],\"sequential\":[[0.0,\"#0d0887\"],[0.1111111111111111,\"#46039f\"],[0.2222222222222222,\"#7201a8\"],[0.3333333333333333,\"#9c179e\"],[0.4444444444444444,\"#bd3786\"],[0.5555555555555556,\"#d8576b\"],[0.6666666666666666,\"#ed7953\"],[0.7777777777777778,\"#fb9f3a\"],[0.8888888888888888,\"#fdca26\"],[1.0,\"#f0f921\"]],\"sequentialminus\":[[0.0,\"#0d0887\"],[0.1111111111111111,\"#46039f\"],[0.2222222222222222,\"#7201a8\"],[0.3333333333333333,\"#9c179e\"],[0.4444444444444444,\"#bd3786\"],[0.5555555555555556,\"#d8576b\"],[0.6666666666666666,\"#ed7953\"],[0.7777777777777778,\"#fb9f3a\"],[0.8888888888888888,\"#fdca26\"],[1.0,\"#f0f921\"]]},\"colorway\":[\"#636efa\",\"#EF553B\",\"#00cc96\",\"#ab63fa\",\"#FFA15A\",\"#19d3f3\",\"#FF6692\",\"#B6E880\",\"#FF97FF\",\"#FECB52\"],\"font\":{\"color\":\"#2a3f5f\"},\"geo\":{\"bgcolor\":\"white\",\"lakecolor\":\"white\",\"landcolor\":\"#E5ECF6\",\"showlakes\":true,\"showland\":true,\"subunitcolor\":\"white\"},\"hoverlabel\":{\"align\":\"left\"},\"hovermode\":\"closest\",\"mapbox\":{\"style\":\"light\"},\"paper_bgcolor\":\"white\",\"plot_bgcolor\":\"#E5ECF6\",\"polar\":{\"angularaxis\":{\"gridcolor\":\"white\",\"linecolor\":\"white\",\"ticks\":\"\"},\"bgcolor\":\"#E5ECF6\",\"radialaxis\":{\"gridcolor\":\"white\",\"linecolor\":\"white\",\"ticks\":\"\"}},\"scene\":{\"xaxis\":{\"backgroundcolor\":\"#E5ECF6\",\"gridcolor\":\"white\",\"gridwidth\":2,\"linecolor\":\"white\",\"showbackground\":true,\"ticks\":\"\",\"zerolinecolor\":\"white\"},\"yaxis\":{\"backgroundcolor\":\"#E5ECF6\",\"gridcolor\":\"white\",\"gridwidth\":2,\"linecolor\":\"white\",\"showbackground\":true,\"ticks\":\"\",\"zerolinecolor\":\"white\"},\"zaxis\":{\"backgroundcolor\":\"#E5ECF6\",\"gridcolor\":\"white\",\"gridwidth\":2,\"linecolor\":\"white\",\"showbackground\":true,\"ticks\":\"\",\"zerolinecolor\":\"white\"}},\"shapedefaults\":{\"line\":{\"color\":\"#2a3f5f\"}},\"ternary\":{\"aaxis\":{\"gridcolor\":\"white\",\"linecolor\":\"white\",\"ticks\":\"\"},\"baxis\":{\"gridcolor\":\"white\",\"linecolor\":\"white\",\"ticks\":\"\"},\"bgcolor\":\"#E5ECF6\",\"caxis\":{\"gridcolor\":\"white\",\"linecolor\":\"white\",\"ticks\":\"\"}},\"title\":{\"x\":0.05},\"xaxis\":{\"automargin\":true,\"gridcolor\":\"white\",\"linecolor\":\"white\",\"ticks\":\"\",\"title\":{\"standoff\":15},\"zerolinecolor\":\"white\",\"zerolinewidth\":2},\"yaxis\":{\"automargin\":true,\"gridcolor\":\"white\",\"linecolor\":\"white\",\"ticks\":\"\",\"title\":{\"standoff\":15},\"zerolinecolor\":\"white\",\"zerolinewidth\":2}}},\"xaxis\":{\"anchor\":\"y\",\"domain\":[0.0,1.0],\"title\":{\"text\":\"total_bill\"}},\"yaxis\":{\"anchor\":\"x\",\"domain\":[0.0,1.0],\"title\":{\"text\":\"count\"}},\"legend\":{\"tracegroupgap\":0},\"margin\":{\"t\":60},\"barmode\":\"relative\"},                        {\"responsive\": true}                    ).then(function(){\n",
              "                            \n",
              "var gd = document.getElementById('9614fc7c-1eaf-4e42-beea-7b72123a1a53');\n",
              "var x = new MutationObserver(function (mutations, observer) {{\n",
              "        var display = window.getComputedStyle(gd).display;\n",
              "        if (!display || display === 'none') {{\n",
              "            console.log([gd, 'removed!']);\n",
              "            Plotly.purge(gd);\n",
              "            observer.disconnect();\n",
              "        }}\n",
              "}});\n",
              "\n",
              "// Listen for the removal of the full notebook cells\n",
              "var notebookContainer = gd.closest('#notebook-container');\n",
              "if (notebookContainer) {{\n",
              "    x.observe(notebookContainer, {childList: true});\n",
              "}}\n",
              "\n",
              "// Listen for the clearing of the current output cell\n",
              "var outputEl = gd.closest('.output');\n",
              "if (outputEl) {{\n",
              "    x.observe(outputEl, {childList: true});\n",
              "}}\n",
              "\n",
              "                        })                };                            </script>        </div>\n",
              "</body>\n",
              "</html>"
            ]
          },
          "metadata": {},
          "output_type": "display_data"
        }
      ],
      "source": [
        "import plotly.express as px\n",
        "df = px.data.tips()\n",
        "fig = px.histogram(df, x=\"total_bill\")\n",
        "fig.show()"
      ]
    }
  ],
  "metadata": {
    "colab": {
      "collapsed_sections": [],
      "machine_shape": "hm",
      "provenance": [],
      "authorship_tag": "ABX9TyNH19RnWVsyb6iC1Dl32Dlp",
      "include_colab_link": true
    },
    "gpuClass": "standard",
    "kernelspec": {
      "display_name": "Python 3",
      "name": "python3"
    },
    "language_info": {
      "name": "python"
    }
  },
  "nbformat": 4,
  "nbformat_minor": 0
}