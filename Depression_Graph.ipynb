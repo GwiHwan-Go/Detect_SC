{
  "cells": [
    {
      "cell_type": "markdown",
      "metadata": {
        "id": "view-in-github",
        "colab_type": "text"
      },
      "source": [
        "<a href=\"https://colab.research.google.com/github/GwiHwan-Go/Detect_SC/blob/main/Depression_Graph.ipynb\" target=\"_parent\"><img src=\"https://colab.research.google.com/assets/colab-badge.svg\" alt=\"Open In Colab\"/></a>"
      ]
    },
    {
      "cell_type": "markdown",
      "source": [
        "# 수집한 데이터로 Word Graph 만들기"
      ],
      "metadata": {
        "id": "gk1y-Wltnjna"
      }
    },
    {
      "cell_type": "markdown",
      "source": [
        "## 제공하는 데이터 설명\n",
        "\n",
        "1. 데이터 설명 : DCinside 라는 커뮤니티에서 우울증 갤러리라는 곳의 게시물들의 '제목'들.\n",
        "2. 데이터 오버뷰\n",
        "\n",
        "  - 데이터 크기 : 2,470,236 개\n",
        "\n",
        "  - 데이터 피쳐 : title (텍스트 데이터), author (작성자 id), date (작성 날짜)\n",
        "  \n",
        "3. 텍스트 데이터 : 미리 학습시킨 토크나이저로 토큰화한 데이터로 ' '로 구분되어 있음.\n",
        "\n",
        "\n"
      ],
      "metadata": {
        "id": "mPRs3TiWnoKF"
      }
    },
    {
      "cell_type": "code",
      "source": [
        "# 데이터 다운로드, 파일명은 sns_data.csv \n",
        "file_name = 'sns_data.csv'\n",
        "!wget --load-cookies ~/cookies.txt \"https://docs.google.com/uc?export=download&confirm=$(wget --quiet --save-cookies ~/cookies.txt --keep-session-cookies --no-check-certificate 'https://docs.google.com/uc?export=download&id=1-4qx3IRyXUtb_QSItiWyIHZIo9hcBttg' -O- | sed -rn 's/.*confirm=([0-9A-Za-z_]+).*/\\1\\n/p')&id=1-4qx3IRyXUtb_QSItiWyIHZIo9hcBttg\" -O $file_name && rm -rf ~/cookies.txt\n"
      ],
      "metadata": {
        "colab": {
          "base_uri": "https://localhost:8080/"
        },
        "id": "iNzCLUbVnqm1",
        "outputId": "87c1396e-0536-4441-b1f2-f2314d802187"
      },
      "execution_count": 1,
      "outputs": [
        {
          "output_type": "stream",
          "name": "stdout",
          "text": [
            "--2022-11-15 14:44:48--  https://docs.google.com/uc?export=download&confirm=t&id=1-4qx3IRyXUtb_QSItiWyIHZIo9hcBttg\n",
            "Resolving docs.google.com (docs.google.com)... 172.217.218.139, 172.217.218.101, 172.217.218.113, ...\n",
            "Connecting to docs.google.com (docs.google.com)|172.217.218.139|:443... connected.\n",
            "HTTP request sent, awaiting response... 303 See Other\n",
            "Location: https://doc-0o-30-docs.googleusercontent.com/docs/securesc/ha0ro937gcuc7l7deffksulhg5h7mbp1/u0sah000dj2d2odq4j6d3h4vrmdsolrh/1668523425000/15740322463873228959/*/1-4qx3IRyXUtb_QSItiWyIHZIo9hcBttg?e=download&uuid=163b9796-fe3f-4a76-9fa7-843527435d1c [following]\n",
            "Warning: wildcards not supported in HTTP.\n",
            "--2022-11-15 14:44:48--  https://doc-0o-30-docs.googleusercontent.com/docs/securesc/ha0ro937gcuc7l7deffksulhg5h7mbp1/u0sah000dj2d2odq4j6d3h4vrmdsolrh/1668523425000/15740322463873228959/*/1-4qx3IRyXUtb_QSItiWyIHZIo9hcBttg?e=download&uuid=163b9796-fe3f-4a76-9fa7-843527435d1c\n",
            "Resolving doc-0o-30-docs.googleusercontent.com (doc-0o-30-docs.googleusercontent.com)... 142.250.145.132, 2a00:1450:4013:c14::84\n",
            "Connecting to doc-0o-30-docs.googleusercontent.com (doc-0o-30-docs.googleusercontent.com)|142.250.145.132|:443... connected.\n",
            "HTTP request sent, awaiting response... 200 OK\n",
            "Length: 156905939 (150M) [text/csv]\n",
            "Saving to: ‘sns_data.csv’\n",
            "\n",
            "sns_data.csv        100%[===================>] 149.64M   130MB/s    in 1.2s    \n",
            "\n",
            "2022-11-15 14:44:50 (130 MB/s) - ‘sns_data.csv’ saved [156905939/156905939]\n",
            "\n"
          ]
        }
      ]
    },
    {
      "cell_type": "code",
      "source": [
        "import pandas as pd\n",
        "\n",
        "# 데이터 살펴보기\n",
        "file_name = 'sns_data.csv'\n",
        "data = pd.read_csv(file_name, low_memory=False, index_col=0) \n",
        "first_date, last_date = data.loc[0,'date'], data.loc[data.shape[0]-1,'date']\n",
        "print(\"수집한 게시물 범위 :\", first_date, \"~\", last_date, \"\\n\" \\\n",
        "      \"수집된 데이터 크기 :\", data.shape[0], \"\\n수집한 데이터 features :\", data.columns)\n",
        "data.tail()"
      ],
      "metadata": {
        "colab": {
          "base_uri": "https://localhost:8080/",
          "height": 260
        },
        "id": "UoX5ZUABoHoo",
        "outputId": "b3107389-0bcf-4ce8-9f7f-cf0c5cb08208"
      },
      "execution_count": 2,
      "outputs": [
        {
          "output_type": "stream",
          "name": "stdout",
          "text": [
            "수집한 게시물 범위 : 2021-03-03 ~ 2022-10-27 \n",
            "수집된 데이터 크기 : 2470236 \n",
            "수집한 데이터 features : Index(['title', 'author', 'date'], dtype='object')\n"
          ]
        },
        {
          "output_type": "execute_result",
          "data": {
            "text/plain": [
              "                         title  author        date\n",
              "2470231               나 병신 ...   16125  2022-10-27\n",
              "2470232       나고 닉 글 올리 규 싶 읃데   12779  2022-10-27\n",
              "2470233       씨발 남자 직원 음식 깔아 주    5291  2022-10-27\n",
              "2470234       나도 근데 아이디 두 번 바꿈   15378  2022-10-27\n",
              "2470235  알바 바보 쉨 ㅋㅋㅋ 나도 차단 해봐라   16125  2022-10-27"
            ],
            "text/html": [
              "\n",
              "  <div id=\"df-55bdeac8-3199-4067-9196-6c506aa4c6e7\">\n",
              "    <div class=\"colab-df-container\">\n",
              "      <div>\n",
              "<style scoped>\n",
              "    .dataframe tbody tr th:only-of-type {\n",
              "        vertical-align: middle;\n",
              "    }\n",
              "\n",
              "    .dataframe tbody tr th {\n",
              "        vertical-align: top;\n",
              "    }\n",
              "\n",
              "    .dataframe thead th {\n",
              "        text-align: right;\n",
              "    }\n",
              "</style>\n",
              "<table border=\"1\" class=\"dataframe\">\n",
              "  <thead>\n",
              "    <tr style=\"text-align: right;\">\n",
              "      <th></th>\n",
              "      <th>title</th>\n",
              "      <th>author</th>\n",
              "      <th>date</th>\n",
              "    </tr>\n",
              "  </thead>\n",
              "  <tbody>\n",
              "    <tr>\n",
              "      <th>2470231</th>\n",
              "      <td>나 병신 ...</td>\n",
              "      <td>16125</td>\n",
              "      <td>2022-10-27</td>\n",
              "    </tr>\n",
              "    <tr>\n",
              "      <th>2470232</th>\n",
              "      <td>나고 닉 글 올리 규 싶 읃데</td>\n",
              "      <td>12779</td>\n",
              "      <td>2022-10-27</td>\n",
              "    </tr>\n",
              "    <tr>\n",
              "      <th>2470233</th>\n",
              "      <td>씨발 남자 직원 음식 깔아 주</td>\n",
              "      <td>5291</td>\n",
              "      <td>2022-10-27</td>\n",
              "    </tr>\n",
              "    <tr>\n",
              "      <th>2470234</th>\n",
              "      <td>나도 근데 아이디 두 번 바꿈</td>\n",
              "      <td>15378</td>\n",
              "      <td>2022-10-27</td>\n",
              "    </tr>\n",
              "    <tr>\n",
              "      <th>2470235</th>\n",
              "      <td>알바 바보 쉨 ㅋㅋㅋ 나도 차단 해봐라</td>\n",
              "      <td>16125</td>\n",
              "      <td>2022-10-27</td>\n",
              "    </tr>\n",
              "  </tbody>\n",
              "</table>\n",
              "</div>\n",
              "      <button class=\"colab-df-convert\" onclick=\"convertToInteractive('df-55bdeac8-3199-4067-9196-6c506aa4c6e7')\"\n",
              "              title=\"Convert this dataframe to an interactive table.\"\n",
              "              style=\"display:none;\">\n",
              "        \n",
              "  <svg xmlns=\"http://www.w3.org/2000/svg\" height=\"24px\"viewBox=\"0 0 24 24\"\n",
              "       width=\"24px\">\n",
              "    <path d=\"M0 0h24v24H0V0z\" fill=\"none\"/>\n",
              "    <path d=\"M18.56 5.44l.94 2.06.94-2.06 2.06-.94-2.06-.94-.94-2.06-.94 2.06-2.06.94zm-11 1L8.5 8.5l.94-2.06 2.06-.94-2.06-.94L8.5 2.5l-.94 2.06-2.06.94zm10 10l.94 2.06.94-2.06 2.06-.94-2.06-.94-.94-2.06-.94 2.06-2.06.94z\"/><path d=\"M17.41 7.96l-1.37-1.37c-.4-.4-.92-.59-1.43-.59-.52 0-1.04.2-1.43.59L10.3 9.45l-7.72 7.72c-.78.78-.78 2.05 0 2.83L4 21.41c.39.39.9.59 1.41.59.51 0 1.02-.2 1.41-.59l7.78-7.78 2.81-2.81c.8-.78.8-2.07 0-2.86zM5.41 20L4 18.59l7.72-7.72 1.47 1.35L5.41 20z\"/>\n",
              "  </svg>\n",
              "      </button>\n",
              "      \n",
              "  <style>\n",
              "    .colab-df-container {\n",
              "      display:flex;\n",
              "      flex-wrap:wrap;\n",
              "      gap: 12px;\n",
              "    }\n",
              "\n",
              "    .colab-df-convert {\n",
              "      background-color: #E8F0FE;\n",
              "      border: none;\n",
              "      border-radius: 50%;\n",
              "      cursor: pointer;\n",
              "      display: none;\n",
              "      fill: #1967D2;\n",
              "      height: 32px;\n",
              "      padding: 0 0 0 0;\n",
              "      width: 32px;\n",
              "    }\n",
              "\n",
              "    .colab-df-convert:hover {\n",
              "      background-color: #E2EBFA;\n",
              "      box-shadow: 0px 1px 2px rgba(60, 64, 67, 0.3), 0px 1px 3px 1px rgba(60, 64, 67, 0.15);\n",
              "      fill: #174EA6;\n",
              "    }\n",
              "\n",
              "    [theme=dark] .colab-df-convert {\n",
              "      background-color: #3B4455;\n",
              "      fill: #D2E3FC;\n",
              "    }\n",
              "\n",
              "    [theme=dark] .colab-df-convert:hover {\n",
              "      background-color: #434B5C;\n",
              "      box-shadow: 0px 1px 3px 1px rgba(0, 0, 0, 0.15);\n",
              "      filter: drop-shadow(0px 1px 2px rgba(0, 0, 0, 0.3));\n",
              "      fill: #FFFFFF;\n",
              "    }\n",
              "  </style>\n",
              "\n",
              "      <script>\n",
              "        const buttonEl =\n",
              "          document.querySelector('#df-55bdeac8-3199-4067-9196-6c506aa4c6e7 button.colab-df-convert');\n",
              "        buttonEl.style.display =\n",
              "          google.colab.kernel.accessAllowed ? 'block' : 'none';\n",
              "\n",
              "        async function convertToInteractive(key) {\n",
              "          const element = document.querySelector('#df-55bdeac8-3199-4067-9196-6c506aa4c6e7');\n",
              "          const dataTable =\n",
              "            await google.colab.kernel.invokeFunction('convertToInteractive',\n",
              "                                                     [key], {});\n",
              "          if (!dataTable) return;\n",
              "\n",
              "          const docLinkHtml = 'Like what you see? Visit the ' +\n",
              "            '<a target=\"_blank\" href=https://colab.research.google.com/notebooks/data_table.ipynb>data table notebook</a>'\n",
              "            + ' to learn more about interactive tables.';\n",
              "          element.innerHTML = '';\n",
              "          dataTable['output_type'] = 'display_data';\n",
              "          await google.colab.output.renderOutput(dataTable, element);\n",
              "          const docLink = document.createElement('div');\n",
              "          docLink.innerHTML = docLinkHtml;\n",
              "          element.appendChild(docLink);\n",
              "        }\n",
              "      </script>\n",
              "    </div>\n",
              "  </div>\n",
              "  "
            ]
          },
          "metadata": {},
          "execution_count": 2
        }
      ]
    },
    {
      "cell_type": "code",
      "source": [
        "## 혹시 모를, nan 값을 제거해주자. 제거해주지 않으면 float 이 발견되었다고 오류가 뜬다.\n",
        "print(f\"NAN 제거 전 데이터 수 = {data.shape}\")\n",
        "data = data[data.title.isna()==False]\n",
        "data = data.reset_index(drop=True)\n",
        "print(f\"NAN 제거 후 데이터 수 = {data.shape}\")"
      ],
      "metadata": {
        "colab": {
          "base_uri": "https://localhost:8080/"
        },
        "id": "T8AkXcbpoToS",
        "outputId": "47ce96de-da70-4d11-a799-993d552b7982"
      },
      "execution_count": 3,
      "outputs": [
        {
          "output_type": "stream",
          "name": "stdout",
          "text": [
            "NAN 제거 전 데이터 수 = (2470236, 3)\n",
            "NAN 제거 후 데이터 수 = (2469803, 3)\n"
          ]
        }
      ]
    },
    {
      "cell_type": "code",
      "source": [
        "!pip install soynlp"
      ],
      "metadata": {
        "colab": {
          "base_uri": "https://localhost:8080/"
        },
        "id": "Uc2CqLVRoCrV",
        "outputId": "d5a6b794-403c-4b55-f1fc-f6c567c5b835"
      },
      "execution_count": 4,
      "outputs": [
        {
          "output_type": "stream",
          "name": "stdout",
          "text": [
            "Looking in indexes: https://pypi.org/simple, https://us-python.pkg.dev/colab-wheels/public/simple/\n",
            "Collecting soynlp\n",
            "  Downloading soynlp-0.0.493-py3-none-any.whl (416 kB)\n",
            "\u001b[K     |████████████████████████████████| 416 kB 13.0 MB/s \n",
            "\u001b[?25hRequirement already satisfied: psutil>=5.0.1 in /usr/local/lib/python3.7/dist-packages (from soynlp) (5.4.8)\n",
            "Requirement already satisfied: scikit-learn>=0.20.0 in /usr/local/lib/python3.7/dist-packages (from soynlp) (1.0.2)\n",
            "Requirement already satisfied: numpy>=1.12.1 in /usr/local/lib/python3.7/dist-packages (from soynlp) (1.21.6)\n",
            "Requirement already satisfied: scipy>=1.1.0 in /usr/local/lib/python3.7/dist-packages (from soynlp) (1.7.3)\n",
            "Requirement already satisfied: threadpoolctl>=2.0.0 in /usr/local/lib/python3.7/dist-packages (from scikit-learn>=0.20.0->soynlp) (3.1.0)\n",
            "Requirement already satisfied: joblib>=0.11 in /usr/local/lib/python3.7/dist-packages (from scikit-learn>=0.20.0->soynlp) (1.2.0)\n",
            "Installing collected packages: soynlp\n",
            "Successfully installed soynlp-0.0.493\n"
          ]
        }
      ]
    },
    {
      "cell_type": "markdown",
      "source": [
        "## PMI 분석\n",
        "\n",
        "출처 : [SoyNLP 공식문서](!https://github.com/lovit/soynlp/blob/master/tutorials/pmi_usage.ipynb)\n",
        "\n",
        "이제 마지막 단계이다.\n",
        "\n",
        "단어들 간의 연관관계를 분석해서 자살 관련 정보 파악에 도움이 되는 __다른 단어__들은 무엇이 있는 지 알아보자.\n",
        "\n",
        "PMI 분석은\n",
        "\n",
        "(word, contexts) 혹은 (input, outputs)의 상관성을 측정하는 방법으로, pmi 값이 클수록 두 변수의 상관성이 크다.\n",
        "\n",
        "이를 위해서 특정 단어와 그 주위 단어들을 저장하는 행렬인 Word-Contexts Matrix를 생성한다."
      ],
      "metadata": {
        "id": "XwsT-QZenzwV"
      }
    },
    {
      "cell_type": "markdown",
      "source": [
        "아래 코드는 정제된 데이터를 통해서\n",
        "\n",
        "word_contexts matrix를 가지고 있는 pmi 인스턴스를 생성한다.(인스턴스 생성은 3분정도 걸림)\n",
        "\n",
        "생성된 pmi 인스턴스를 통해 수집한 데이터 속 단어들의 문맥과 유사 단어들을 알 수 있다."
      ],
      "metadata": {
        "id": "3l96WomGn1uH"
      }
    },
    {
      "cell_type": "code",
      "source": [
        "from soynlp.word import pmi as pmi_func\n",
        "from sklearn.metrics import pairwise_distances\n",
        "from soynlp.vectorizer import sent_to_word_contexts_matrix\n",
        "import numpy as np\n",
        "\n",
        "def custom_tokenizer(sents) :\n",
        "  # 그래프의 차원을 줄여주기 위해서 단어 길이가 1인 건 다 없애준다.\n",
        "  return [word for word in sents.split() if len(word) > 1]\n",
        "\n",
        "class Pmi() :\n",
        "\n",
        "  def __init__(self, text_data) :\n",
        "\n",
        "    self.mat, self.idx2vocab = sent_to_word_contexts_matrix(\n",
        "        text_data,\n",
        "        windows=3,\n",
        "        min_tf=10,\n",
        "        tokenizer= lambda x : custom_tokenizer(x), # (default) lambda x:x.split(),\n",
        "        dynamic_weight=False,\n",
        "        verbose=True\n",
        "    )\n",
        "\n",
        "    self.pmi, self.px, self.py = pmi_func(\n",
        "        self.mat,\n",
        "        min_pmi = 0,\n",
        "        alpha = 0.0,\n",
        "        beta = 0.75\n",
        "    )\n",
        "\n",
        "    self.vocab2idx = {vocab:idx for idx, vocab in enumerate(self.idx2vocab)}\n",
        "\n",
        "  def context_words(self ,target, topk=10) :\n",
        "    \"\"\"\n",
        "    :target: str\n",
        "        String type query word\n",
        "    :param topk: int\n",
        "        Maximum number of similar items.\n",
        "        If set top as negative value, it returns similarity with all words\n",
        "    Returns\n",
        "    ----------\n",
        "    similars : list of tuple\n",
        "        List contains tuples (item, cosine similarity)\n",
        "        Its length is topk\n",
        "    \"\"\"\n",
        "    query = self.vocab2idx[target]\n",
        "\n",
        "    submatrix = self.pmi[query, :].tocsr() # get the row of query\n",
        "    contexts = submatrix.nonzero()[1] # nonzero() return (rows, columns)\n",
        "    pmi_i = submatrix.data\n",
        "\n",
        "    most_relateds = [(idx, pmi_ij) for idx, pmi_ij in zip(contexts, pmi_i)]\n",
        "    most_relateds = sorted(most_relateds, key=lambda x:-x[1])[:topk]\n",
        "    most_relateds = [[idx, pmi_ij] for idx, pmi_ij in most_relateds]\n",
        "\n",
        "    most_relateds = [(self.idx2vocab[idx], pmi_ij) for idx, pmi_ij in most_relateds]\n",
        "\n",
        "    return most_relateds\n",
        "\n",
        "  def similar_words(self, target, topk=10):\n",
        "      \"\"\"\n",
        "      :target: str\n",
        "          String type query word\n",
        "      :param topk: int\n",
        "          Maximum number of similar items.\n",
        "          If set top as negative value, it returns similarity with all words\n",
        "      Returns\n",
        "      ----------\n",
        "      similars : list of tuple\n",
        "          List contains tuples (item, cosine similarity)\n",
        "          Its length is topk\n",
        "      \"\"\"\n",
        "\n",
        "      q = self.vocab2idx.get(target, -1)\n",
        "      if q == -1:\n",
        "          return []\n",
        "\n",
        "      qvec = self.pmi[q].reshape(1,-1)\n",
        "      dist = pairwise_distances(qvec, self.pmi, metric='cosine')[0]\n",
        "      sim_idxs = dist.argsort()\n",
        "\n",
        "      if topk > 0:\n",
        "          sim_idxs = sim_idxs[:topk+1]\n",
        "\n",
        "      results = [[idx, 1 - dist[idx]] for idx in sim_idxs if idx != q]\n",
        "      # results = np.array(results)\n",
        "      results = [(self.idx2vocab[idx], pmi_ij) for idx, pmi_ij in results]\n",
        "\n",
        "      return results\n",
        "\n",
        "  def np_context_words(self ,target, topk=10) :\n",
        "    \"\"\"\n",
        "    효율적인 그래프 생성을 위한 코드.\n",
        "    input(str) : a word\n",
        "    ----------\n",
        "    results : array of tuple\n",
        "        List contains tuples (item, similarity)\n",
        "        Its length is topk\n",
        "    \"\"\"\n",
        " \n",
        "    submatrix = self.pmi[target, :].tocsr() # get the row of query\n",
        "    contexts = submatrix.nonzero()[1] # nonzero() return (rows, columns)\n",
        "    pmi_i = submatrix.data\n",
        "\n",
        "    most_relateds = [(idx, pmi_ij) for idx, pmi_ij in zip(contexts, pmi_i)]\n",
        "    most_relateds = sorted(most_relateds, key=lambda x:-x[1])[:topk]\n",
        "    most_relateds = [[idx, pmi_ij] for idx, pmi_ij in most_relateds]\n",
        "    results = np.array(most_relateds)\n",
        "    # most_relateds = [(self.idx2vocab[idx], pmi_ij) for idx, pmi_ij in most_relateds]\n",
        "\n",
        "    return results\n",
        "\n",
        "  def np_similar_words(self, target, topk=10):\n",
        "      \"\"\"\n",
        "      효율적인 그래프 생성을 위한 코드.\n",
        "      input(str) : a word\n",
        "      ----------\n",
        "      results : array of tuple\n",
        "          List contains tuples (item, cosine similarity)\n",
        "          Its length is topk\n",
        "      \"\"\"\n",
        "\n",
        "      qvec = self.pmi[target].reshape(1,-1)\n",
        "      dist = pairwise_distances(qvec, self.pmi, metric='cosine')[0]\n",
        "      sim_idxs = dist.argsort()\n",
        "\n",
        "      if topk > 0:\n",
        "          sim_idxs = sim_idxs[:topk+1]\n",
        "\n",
        "      results = [[idx, 1 - dist[idx]] for idx in sim_idxs if idx != target]\n",
        "      results = np.array(results)\n",
        "\n",
        "      return results\n",
        "  \n",
        "  def idx_to_word(self, indices_list) :\n",
        "    \n",
        "    return [self.idx2vocab[index] for index in indices_list]\n",
        "\n",
        "  def word_to_idx(self, word_list) :\n",
        "\n",
        "    return [self.vocab2idx[word] for word in word_list]\n",
        "\n",
        "pmi = Pmi(data.title)"
      ],
      "metadata": {
        "colab": {
          "base_uri": "https://localhost:8080/"
        },
        "id": "Sc5gpm45n2Ms",
        "outputId": "8f4a5b52-ff1d-4c15-aff6-f4784b4eae97"
      },
      "execution_count": 5,
      "outputs": [
        {
          "output_type": "stream",
          "name": "stdout",
          "text": [
            "Create (word, contexts) matrix\n",
            "  - counting word frequency from 2469802 sents, mem=1.014 Gb\n",
            "  - scanning (word, context) pairs from 2469802 sents, mem=1.522 Gb\n",
            "  - (word, context) matrix was constructed. shape = (47605, 47605)                    \n",
            "  - done\n"
          ]
        }
      ]
    },
    {
      "cell_type": "code",
      "source": [
        "len(pmi.idx2vocab)"
      ],
      "metadata": {
        "colab": {
          "base_uri": "https://localhost:8080/"
        },
        "id": "IzJYCJm2vIkP",
        "outputId": "657a84fd-f193-48ee-8df9-171e70fb6b53"
      },
      "execution_count": 6,
      "outputs": [
        {
          "output_type": "execute_result",
          "data": {
            "text/plain": [
              "47605"
            ]
          },
          "metadata": {},
          "execution_count": 6
        }
      ]
    },
    {
      "cell_type": "markdown",
      "source": [
        "# Graph 만들기\n",
        "\n",
        "생성한 Pmi 인스턴스로, \n",
        "\n",
        "유사 단어 그래프와 문맥 단어 그래프를 만들어 보자."
      ],
      "metadata": {
        "id": "vVwOL6HFopJo"
      }
    },
    {
      "cell_type": "markdown",
      "source": [
        "### Graph 생성 알고리즘\n",
        "\n",
        "```python\n",
        "until recursion boundary :\n",
        "  Seed -> Context_word_list\n",
        "    for Context_word in Context_word_list\n",
        "      build graph\n",
        "```\n",
        "\n",
        "그래프 생성에서 중요한 파라미터가 두가지 있다. 이 두가지를 크게 잡으면 좋겠지만, 그러다가 ram의 용량이 다차서 colab 세션이 다운될 수도 있으니 주의하자.\n",
        "- max_recursion : 그래프 생성은 재귀의 형식이다, 재귀를 몇 번까지 허용할 것이냐를 정한다.\n",
        "- graph_boundary : 웨이트를 몇까지 허용할 것이냐를 정한다. \n",
        "\n"
      ],
      "metadata": {
        "id": "dHQV0qFcxJfu"
      }
    },
    {
      "cell_type": "code",
      "source": [
        "network = np.empty((len(pmi.idx2vocab),len(pmi.idx2vocab)), dtype=np.float16)\n",
        "network.shape"
      ],
      "metadata": {
        "colab": {
          "base_uri": "https://localhost:8080/"
        },
        "id": "X9QYBhtZrJSa",
        "outputId": "f4b52e70-aca5-4197-909c-7102fdabc532"
      },
      "execution_count": 7,
      "outputs": [
        {
          "output_type": "execute_result",
          "data": {
            "text/plain": [
              "(47605, 47605)"
            ]
          },
          "metadata": {},
          "execution_count": 7
        }
      ]
    },
    {
      "cell_type": "code",
      "source": [
        "from scipy import sparse\n",
        "from tqdm import tqdm\n",
        "\n",
        "def make_network_array(node,current_recursion=0,graph_boundary=5,max_recursion=10,alpha=0.7) :\n",
        "\n",
        "  global network, visited\n",
        "\n",
        "  if node in visited :\n",
        "    return []\n",
        "  else :\n",
        "    visited.append(node)\n",
        "\n",
        "  #np_context_words / np_similar_words 이 둘 중 하나 선택해서 실행\n",
        "  words_list = pmi.np_context_words(node,topk=10) \n",
        "  words_list = words_list[np.where(words_list[:,1] > graph_boundary),:][0]\n",
        "\n",
        "  if words_list.shape[0] == 0 :\n",
        "    return []\n",
        "\n",
        "  indices = np.array(words_list[:,0], dtype='int32')\n",
        "  alpha = alpha**current_recursion\n",
        "\n",
        "  network[int(node),indices]=words_list[:,1]*alpha\n",
        "  # print(int(node), \"-->\", indices)\n",
        "  if current_recursion < max_recursion :\n",
        "    for id in words_list[:,0] :\n",
        "      make_network_array(id,\n",
        "                        current_recursion=current_recursion+1,\n",
        "                        graph_boundary=graph_boundary,\n",
        "                        max_recursion=max_recursion)\n",
        "  else :\n",
        "    return []\n",
        "\n",
        "seeds = ['자살',\n",
        "        '죽을래','투신','자해','죽고싶다','우울',\n",
        "        '인생','죽음']\n",
        "# seeds = ['자살']\n",
        "\n",
        "graph_boundary = 0\n",
        "max_recursion = 2\n",
        "\n",
        "for seed in tqdm(pmi.word_to_idx(seeds)) :\n",
        "    visited= []\n",
        "    make_network_array(int(seed),\n",
        "                  current_recursion=0,\n",
        "                  graph_boundary=graph_boundary,\n",
        "                  max_recursion=max_recursion)\n"
      ],
      "metadata": {
        "colab": {
          "base_uri": "https://localhost:8080/"
        },
        "id": "o95TPIdmq17t",
        "outputId": "9d21ab9d-61f0-4b1c-d857-63d72ae6dc68"
      },
      "execution_count": 8,
      "outputs": [
        {
          "output_type": "stream",
          "name": "stderr",
          "text": [
            "100%|██████████| 8/8 [00:00<00:00, 15.84it/s]\n"
          ]
        }
      ]
    },
    {
      "cell_type": "code",
      "source": [
        "from scipy.sparse import csr_matrix\n",
        "from scipy import sparse\n",
        "import pickle\n",
        "\n",
        "list_name = \"idx2vocab.pkl\"\n",
        "network_name='network.npz'\n",
        "\n",
        "with open(list_name,\"wb\") as f:\n",
        "    pickle.dump(pmi.idx2vocab, f)\n",
        "\n",
        "sparse.save_npz(network_name,csr_matrix(network))"
      ],
      "metadata": {
        "id": "ci4hUCS1vJZk"
      },
      "execution_count": 9,
      "outputs": []
    },
    {
      "cell_type": "markdown",
      "source": [
        "## Ram 용량 관리\n",
        "\n",
        "상단 메뉴의 \n",
        "```런타임``` 하단의\n",
        "```런타임 다시 시작```\n",
        "을 누른 후 여기로 오세요."
      ],
      "metadata": {
        "id": "9u_mK7kcydJ-"
      }
    },
    {
      "cell_type": "code",
      "execution_count": 2,
      "metadata": {
        "id": "8Fe_Y2WDuJWT"
      },
      "outputs": [],
      "source": [
        "import networkx as nx\n",
        "from scipy import sparse\n",
        "import pickle\n",
        "import scipy\n",
        "\n",
        "## 이 두가지는 위와 일치해야함\n",
        "list_name = \"idx2vocab.pkl\"\n",
        "network_name='network.npz'\n",
        "\n",
        "sparse_matrix = scipy.sparse.load_npz(network_name)\n",
        "CG=nx.from_scipy_sparse_matrix(scipy.sparse.load_npz(network_name))\n",
        "\n",
        "with open(list_name,\"rb\") as f:\n",
        "    idx2vocab = pickle.load(f)\n"
      ]
    },
    {
      "cell_type": "code",
      "execution_count": 3,
      "metadata": {
        "id": "h-B25vzc8fGW",
        "colab": {
          "base_uri": "https://localhost:8080/",
          "height": 300
        },
        "outputId": "de2fd0a2-55b4-467e-c2bf-99082b198ff2"
      },
      "outputs": [
        {
          "output_type": "execute_result",
          "data": {
            "text/plain": [
              "                  0\n",
              "count  47605.000000\n",
              "mean       0.269173\n",
              "std        1.291522\n",
              "min        0.000000\n",
              "25%        0.000000\n",
              "50%        0.000000\n",
              "75%        0.000000\n",
              "max       13.000000"
            ],
            "text/html": [
              "\n",
              "  <div id=\"df-5e48996e-b287-4b37-88cb-5ff92212decd\">\n",
              "    <div class=\"colab-df-container\">\n",
              "      <div>\n",
              "<style scoped>\n",
              "    .dataframe tbody tr th:only-of-type {\n",
              "        vertical-align: middle;\n",
              "    }\n",
              "\n",
              "    .dataframe tbody tr th {\n",
              "        vertical-align: top;\n",
              "    }\n",
              "\n",
              "    .dataframe thead th {\n",
              "        text-align: right;\n",
              "    }\n",
              "</style>\n",
              "<table border=\"1\" class=\"dataframe\">\n",
              "  <thead>\n",
              "    <tr style=\"text-align: right;\">\n",
              "      <th></th>\n",
              "      <th>0</th>\n",
              "    </tr>\n",
              "  </thead>\n",
              "  <tbody>\n",
              "    <tr>\n",
              "      <th>count</th>\n",
              "      <td>47605.000000</td>\n",
              "    </tr>\n",
              "    <tr>\n",
              "      <th>mean</th>\n",
              "      <td>0.269173</td>\n",
              "    </tr>\n",
              "    <tr>\n",
              "      <th>std</th>\n",
              "      <td>1.291522</td>\n",
              "    </tr>\n",
              "    <tr>\n",
              "      <th>min</th>\n",
              "      <td>0.000000</td>\n",
              "    </tr>\n",
              "    <tr>\n",
              "      <th>25%</th>\n",
              "      <td>0.000000</td>\n",
              "    </tr>\n",
              "    <tr>\n",
              "      <th>50%</th>\n",
              "      <td>0.000000</td>\n",
              "    </tr>\n",
              "    <tr>\n",
              "      <th>75%</th>\n",
              "      <td>0.000000</td>\n",
              "    </tr>\n",
              "    <tr>\n",
              "      <th>max</th>\n",
              "      <td>13.000000</td>\n",
              "    </tr>\n",
              "  </tbody>\n",
              "</table>\n",
              "</div>\n",
              "      <button class=\"colab-df-convert\" onclick=\"convertToInteractive('df-5e48996e-b287-4b37-88cb-5ff92212decd')\"\n",
              "              title=\"Convert this dataframe to an interactive table.\"\n",
              "              style=\"display:none;\">\n",
              "        \n",
              "  <svg xmlns=\"http://www.w3.org/2000/svg\" height=\"24px\"viewBox=\"0 0 24 24\"\n",
              "       width=\"24px\">\n",
              "    <path d=\"M0 0h24v24H0V0z\" fill=\"none\"/>\n",
              "    <path d=\"M18.56 5.44l.94 2.06.94-2.06 2.06-.94-2.06-.94-.94-2.06-.94 2.06-2.06.94zm-11 1L8.5 8.5l.94-2.06 2.06-.94-2.06-.94L8.5 2.5l-.94 2.06-2.06.94zm10 10l.94 2.06.94-2.06 2.06-.94-2.06-.94-.94-2.06-.94 2.06-2.06.94z\"/><path d=\"M17.41 7.96l-1.37-1.37c-.4-.4-.92-.59-1.43-.59-.52 0-1.04.2-1.43.59L10.3 9.45l-7.72 7.72c-.78.78-.78 2.05 0 2.83L4 21.41c.39.39.9.59 1.41.59.51 0 1.02-.2 1.41-.59l7.78-7.78 2.81-2.81c.8-.78.8-2.07 0-2.86zM5.41 20L4 18.59l7.72-7.72 1.47 1.35L5.41 20z\"/>\n",
              "  </svg>\n",
              "      </button>\n",
              "      \n",
              "  <style>\n",
              "    .colab-df-container {\n",
              "      display:flex;\n",
              "      flex-wrap:wrap;\n",
              "      gap: 12px;\n",
              "    }\n",
              "\n",
              "    .colab-df-convert {\n",
              "      background-color: #E8F0FE;\n",
              "      border: none;\n",
              "      border-radius: 50%;\n",
              "      cursor: pointer;\n",
              "      display: none;\n",
              "      fill: #1967D2;\n",
              "      height: 32px;\n",
              "      padding: 0 0 0 0;\n",
              "      width: 32px;\n",
              "    }\n",
              "\n",
              "    .colab-df-convert:hover {\n",
              "      background-color: #E2EBFA;\n",
              "      box-shadow: 0px 1px 2px rgba(60, 64, 67, 0.3), 0px 1px 3px 1px rgba(60, 64, 67, 0.15);\n",
              "      fill: #174EA6;\n",
              "    }\n",
              "\n",
              "    [theme=dark] .colab-df-convert {\n",
              "      background-color: #3B4455;\n",
              "      fill: #D2E3FC;\n",
              "    }\n",
              "\n",
              "    [theme=dark] .colab-df-convert:hover {\n",
              "      background-color: #434B5C;\n",
              "      box-shadow: 0px 1px 3px 1px rgba(0, 0, 0, 0.15);\n",
              "      filter: drop-shadow(0px 1px 2px rgba(0, 0, 0, 0.3));\n",
              "      fill: #FFFFFF;\n",
              "    }\n",
              "  </style>\n",
              "\n",
              "      <script>\n",
              "        const buttonEl =\n",
              "          document.querySelector('#df-5e48996e-b287-4b37-88cb-5ff92212decd button.colab-df-convert');\n",
              "        buttonEl.style.display =\n",
              "          google.colab.kernel.accessAllowed ? 'block' : 'none';\n",
              "\n",
              "        async function convertToInteractive(key) {\n",
              "          const element = document.querySelector('#df-5e48996e-b287-4b37-88cb-5ff92212decd');\n",
              "          const dataTable =\n",
              "            await google.colab.kernel.invokeFunction('convertToInteractive',\n",
              "                                                     [key], {});\n",
              "          if (!dataTable) return;\n",
              "\n",
              "          const docLinkHtml = 'Like what you see? Visit the ' +\n",
              "            '<a target=\"_blank\" href=https://colab.research.google.com/notebooks/data_table.ipynb>data table notebook</a>'\n",
              "            + ' to learn more about interactive tables.';\n",
              "          element.innerHTML = '';\n",
              "          dataTable['output_type'] = 'display_data';\n",
              "          await google.colab.output.renderOutput(dataTable, element);\n",
              "          const docLink = document.createElement('div');\n",
              "          docLink.innerHTML = docLinkHtml;\n",
              "          element.appendChild(docLink);\n",
              "        }\n",
              "      </script>\n",
              "    </div>\n",
              "  </div>\n",
              "  "
            ]
          },
          "metadata": {},
          "execution_count": 3
        }
      ],
      "source": [
        "# Weight 분포 보기\n",
        "import pandas as pd \n",
        "\n",
        "def show_w_e_dist(G) :\n",
        "  weights = [wt for (u, v, wt) in G.edges.data('weight')]\n",
        "  degrees = [G.degree(node) for node in G.nodes]\n",
        "  return pd.DataFrame(degrees), pd.DataFrame(weights)\n",
        "\n",
        "ds, ws = show_w_e_dist(CG)\n",
        "ds.describe() #ws.describe()"
      ]
    },
    {
      "cell_type": "markdown",
      "source": [
        "### 그래프의 노드 라벨 변경\n",
        "\n",
        "\n",
        "원래는 단어의 id 였으나 이를 원래 단어로 변경"
      ],
      "metadata": {
        "id": "_Gb9GmHhsz9P"
      }
    },
    {
      "cell_type": "code",
      "source": [
        "## idx -> word\n",
        "relabel_nodes = {idx : word for idx, word in enumerate(idx2vocab)}\n",
        "CG = nx.relabel_nodes(CG, relabel_nodes)"
      ],
      "metadata": {
        "id": "j5D9gPjQsBm_"
      },
      "execution_count": 4,
      "outputs": []
    },
    {
      "cell_type": "markdown",
      "source": [
        "## 그래프의 노드, 엣지 필터링\n",
        "\n",
        "그래프는 매우 크기 때문에, \n",
        "분석에 용이하지 않다. \n",
        "\n",
        "아래 세가지 방법을 이용해서 그래프를 필터링 해보자.\n",
        "\n",
        "1. filter_nodes_by_nedges - 노드에 연결된 엣지가 적은 것을 필터링\n",
        "2. filter_edges_by_weight - 엣지 중 웨이트가 적은 것을 필터링\n",
        "3. filter_by_pageranks - 그래프에서 페이지 랭크에 근거해서 필터링"
      ],
      "metadata": {
        "id": "9dB97QE6ubHu"
      }
    },
    {
      "cell_type": "code",
      "source": [
        "def filter_nodes_by_nedges(CG, minimum) :\n",
        "## filter node which has less edges.\n",
        "\n",
        "  minimum_edges = minimum\n",
        "  CG_fnodes = nx.subgraph_view(CG, \n",
        "                            filter_node=lambda x : CG.degree[x]>=minimum_edges) \n",
        "  print(f\"N({minimum}) : {CG.number_of_nodes()} ---> {CG_fnodes.number_of_nodes()}\")\n",
        "  return CG_fnodes\n",
        "\n",
        "def filter_edges_by_weight(CG, minimum) :\n",
        "#filter edges by its weight\n",
        "  def filter_edge(n1, n2):\n",
        "      return CG[n1][n2]['weight'] >= minimum\n",
        "  \n",
        "  CG_fedges = nx.subgraph_view(CG, \n",
        "                                filter_node = lambda x : True,\n",
        "                                filter_edge=filter_edge) \n",
        "  print(f\"E({minimum}) : {CG.number_of_edges()} ---> {CG_fedges.number_of_edges()}\")\n",
        "\n",
        "  return CG_fedges\n",
        "\n",
        "def filter_by_pageranks(CG, remove_rate) :\n",
        "  \"\"\"remove_rate = how much you would filter it out, 0~1\"\"\"\n",
        "  pageranks = nx.pagerank(CG, alpha=0.9)\n",
        "  sorted_ranks = sorted(pageranks.items(), key=lambda x : x[1])\n",
        "\n",
        "  index = int(CG.number_of_nodes()*remove_rate)\n",
        "\n",
        "  print(f\"N({remove_rate}) : {CG.number_of_nodes()} \", end='')\n",
        "  remove_list = [i[0] for i in sorted_ranks[:index]]\n",
        "  copied = CG.copy()\n",
        "  copied.remove_nodes_from(remove_list)\n",
        "  print(f\" ---> {copied.number_of_nodes()}\")\n",
        "\n",
        "  return copied"
      ],
      "metadata": {
        "id": "RvvTfkPGsDBs"
      },
      "execution_count": 5,
      "outputs": []
    },
    {
      "cell_type": "code",
      "source": [
        "# 연결된 엣지가 1개 이상만 남기기\n",
        "CG = filter_nodes_by_nedges(CG, 1)"
      ],
      "metadata": {
        "colab": {
          "base_uri": "https://localhost:8080/"
        },
        "id": "ZcttxgSdDHTq",
        "outputId": "58169ec1-7bdf-4093-b671-fe57c5fad08e"
      },
      "execution_count": 7,
      "outputs": [
        {
          "output_type": "stream",
          "name": "stdout",
          "text": [
            "N(1) : 47605 ---> 5839\n"
          ]
        }
      ]
    },
    {
      "cell_type": "code",
      "source": [
        "# 엣지들 중  2.3 미만인 웨이트를 가진 엣지는 삭제 \n",
        "CG = filter_edges_by_weight(CG, 2.3)"
      ],
      "metadata": {
        "colab": {
          "base_uri": "https://localhost:8080/"
        },
        "id": "qPbFvw08AwcX",
        "outputId": "346e8411-3dde-4684-abf3-acdaf4a7dff8"
      },
      "execution_count": 8,
      "outputs": [
        {
          "output_type": "stream",
          "name": "stdout",
          "text": [
            "E(2.3) : 6407 ---> 6224\n"
          ]
        }
      ]
    },
    {
      "cell_type": "code",
      "source": [
        "# 페이지 랭크를 기준으로 하위 50% 필터링\n",
        "CG = filter_by_pageranks(CG, 0.5)"
      ],
      "metadata": {
        "colab": {
          "base_uri": "https://localhost:8080/"
        },
        "id": "AyyPZtJo3z1g",
        "outputId": "87f7fa01-5c35-45f6-8ad6-f821ea02f4dc"
      },
      "execution_count": 9,
      "outputs": [
        {
          "output_type": "stream",
          "name": "stdout",
          "text": [
            "N(0.5) : 5839  ---> 2920\n"
          ]
        }
      ]
    },
    {
      "cell_type": "code",
      "source": [
        "## CG 그래프의 노드, 엣지 분포 보는 코드\n",
        "ds, ws = show_w_e_dist(CG)\n",
        "# ds.describe() # 노드 디그리 분포\n",
        "ws.describe() # 엣지 웨이트 분포"
      ],
      "metadata": {
        "colab": {
          "base_uri": "https://localhost:8080/",
          "height": 300
        },
        "id": "pdnypv2h59GQ",
        "outputId": "003ce773-35aa-4746-80f4-a28fb31f7be1"
      },
      "execution_count": 10,
      "outputs": [
        {
          "output_type": "execute_result",
          "data": {
            "text/plain": [
              "                 0\n",
              "count  3459.000000\n",
              "mean      3.839540\n",
              "std       0.699825\n",
              "min       2.308594\n",
              "25%       3.412109\n",
              "50%       3.701172\n",
              "75%       4.066406\n",
              "max      10.664062"
            ],
            "text/html": [
              "\n",
              "  <div id=\"df-a61226f7-52bd-4b3f-a1ae-afb7cce85207\">\n",
              "    <div class=\"colab-df-container\">\n",
              "      <div>\n",
              "<style scoped>\n",
              "    .dataframe tbody tr th:only-of-type {\n",
              "        vertical-align: middle;\n",
              "    }\n",
              "\n",
              "    .dataframe tbody tr th {\n",
              "        vertical-align: top;\n",
              "    }\n",
              "\n",
              "    .dataframe thead th {\n",
              "        text-align: right;\n",
              "    }\n",
              "</style>\n",
              "<table border=\"1\" class=\"dataframe\">\n",
              "  <thead>\n",
              "    <tr style=\"text-align: right;\">\n",
              "      <th></th>\n",
              "      <th>0</th>\n",
              "    </tr>\n",
              "  </thead>\n",
              "  <tbody>\n",
              "    <tr>\n",
              "      <th>count</th>\n",
              "      <td>3459.000000</td>\n",
              "    </tr>\n",
              "    <tr>\n",
              "      <th>mean</th>\n",
              "      <td>3.839540</td>\n",
              "    </tr>\n",
              "    <tr>\n",
              "      <th>std</th>\n",
              "      <td>0.699825</td>\n",
              "    </tr>\n",
              "    <tr>\n",
              "      <th>min</th>\n",
              "      <td>2.308594</td>\n",
              "    </tr>\n",
              "    <tr>\n",
              "      <th>25%</th>\n",
              "      <td>3.412109</td>\n",
              "    </tr>\n",
              "    <tr>\n",
              "      <th>50%</th>\n",
              "      <td>3.701172</td>\n",
              "    </tr>\n",
              "    <tr>\n",
              "      <th>75%</th>\n",
              "      <td>4.066406</td>\n",
              "    </tr>\n",
              "    <tr>\n",
              "      <th>max</th>\n",
              "      <td>10.664062</td>\n",
              "    </tr>\n",
              "  </tbody>\n",
              "</table>\n",
              "</div>\n",
              "      <button class=\"colab-df-convert\" onclick=\"convertToInteractive('df-a61226f7-52bd-4b3f-a1ae-afb7cce85207')\"\n",
              "              title=\"Convert this dataframe to an interactive table.\"\n",
              "              style=\"display:none;\">\n",
              "        \n",
              "  <svg xmlns=\"http://www.w3.org/2000/svg\" height=\"24px\"viewBox=\"0 0 24 24\"\n",
              "       width=\"24px\">\n",
              "    <path d=\"M0 0h24v24H0V0z\" fill=\"none\"/>\n",
              "    <path d=\"M18.56 5.44l.94 2.06.94-2.06 2.06-.94-2.06-.94-.94-2.06-.94 2.06-2.06.94zm-11 1L8.5 8.5l.94-2.06 2.06-.94-2.06-.94L8.5 2.5l-.94 2.06-2.06.94zm10 10l.94 2.06.94-2.06 2.06-.94-2.06-.94-.94-2.06-.94 2.06-2.06.94z\"/><path d=\"M17.41 7.96l-1.37-1.37c-.4-.4-.92-.59-1.43-.59-.52 0-1.04.2-1.43.59L10.3 9.45l-7.72 7.72c-.78.78-.78 2.05 0 2.83L4 21.41c.39.39.9.59 1.41.59.51 0 1.02-.2 1.41-.59l7.78-7.78 2.81-2.81c.8-.78.8-2.07 0-2.86zM5.41 20L4 18.59l7.72-7.72 1.47 1.35L5.41 20z\"/>\n",
              "  </svg>\n",
              "      </button>\n",
              "      \n",
              "  <style>\n",
              "    .colab-df-container {\n",
              "      display:flex;\n",
              "      flex-wrap:wrap;\n",
              "      gap: 12px;\n",
              "    }\n",
              "\n",
              "    .colab-df-convert {\n",
              "      background-color: #E8F0FE;\n",
              "      border: none;\n",
              "      border-radius: 50%;\n",
              "      cursor: pointer;\n",
              "      display: none;\n",
              "      fill: #1967D2;\n",
              "      height: 32px;\n",
              "      padding: 0 0 0 0;\n",
              "      width: 32px;\n",
              "    }\n",
              "\n",
              "    .colab-df-convert:hover {\n",
              "      background-color: #E2EBFA;\n",
              "      box-shadow: 0px 1px 2px rgba(60, 64, 67, 0.3), 0px 1px 3px 1px rgba(60, 64, 67, 0.15);\n",
              "      fill: #174EA6;\n",
              "    }\n",
              "\n",
              "    [theme=dark] .colab-df-convert {\n",
              "      background-color: #3B4455;\n",
              "      fill: #D2E3FC;\n",
              "    }\n",
              "\n",
              "    [theme=dark] .colab-df-convert:hover {\n",
              "      background-color: #434B5C;\n",
              "      box-shadow: 0px 1px 3px 1px rgba(0, 0, 0, 0.15);\n",
              "      filter: drop-shadow(0px 1px 2px rgba(0, 0, 0, 0.3));\n",
              "      fill: #FFFFFF;\n",
              "    }\n",
              "  </style>\n",
              "\n",
              "      <script>\n",
              "        const buttonEl =\n",
              "          document.querySelector('#df-a61226f7-52bd-4b3f-a1ae-afb7cce85207 button.colab-df-convert');\n",
              "        buttonEl.style.display =\n",
              "          google.colab.kernel.accessAllowed ? 'block' : 'none';\n",
              "\n",
              "        async function convertToInteractive(key) {\n",
              "          const element = document.querySelector('#df-a61226f7-52bd-4b3f-a1ae-afb7cce85207');\n",
              "          const dataTable =\n",
              "            await google.colab.kernel.invokeFunction('convertToInteractive',\n",
              "                                                     [key], {});\n",
              "          if (!dataTable) return;\n",
              "\n",
              "          const docLinkHtml = 'Like what you see? Visit the ' +\n",
              "            '<a target=\"_blank\" href=https://colab.research.google.com/notebooks/data_table.ipynb>data table notebook</a>'\n",
              "            + ' to learn more about interactive tables.';\n",
              "          element.innerHTML = '';\n",
              "          dataTable['output_type'] = 'display_data';\n",
              "          await google.colab.output.renderOutput(dataTable, element);\n",
              "          const docLink = document.createElement('div');\n",
              "          docLink.innerHTML = docLinkHtml;\n",
              "          element.appendChild(docLink);\n",
              "        }\n",
              "      </script>\n",
              "    </div>\n",
              "  </div>\n",
              "  "
            ]
          },
          "metadata": {},
          "execution_count": 10
        }
      ]
    },
    {
      "cell_type": "markdown",
      "source": [
        "## 완성된 파일 저장\n",
        "\n",
        "완성된 파일을\n",
        "```Gephi``` \n",
        "데스크탑 앱으로 열어서 실행해 봅시다."
      ],
      "metadata": {
        "id": "-ggSOK1Uvgnc"
      }
    },
    {
      "cell_type": "code",
      "source": [
        "## save file\n",
        "file_save_name = \"filtered_graph.gexf\"\n",
        "nx.write_gexf(CG, file_save_name) "
      ],
      "metadata": {
        "id": "1Jgup6qpe-a1"
      },
      "execution_count": 11,
      "outputs": []
    }
  ],
  "metadata": {
    "colab": {
      "collapsed_sections": [],
      "provenance": [],
      "machine_shape": "hm",
      "authorship_tag": "ABX9TyOcTvLpGGcyxSqTdngahnKP",
      "include_colab_link": true
    },
    "gpuClass": "standard",
    "kernelspec": {
      "display_name": "Python 3",
      "name": "python3"
    },
    "language_info": {
      "name": "python"
    }
  },
  "nbformat": 4,
  "nbformat_minor": 0
}